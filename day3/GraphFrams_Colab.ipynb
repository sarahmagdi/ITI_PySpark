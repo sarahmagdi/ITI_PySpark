{
 "cells": [
  {
   "cell_type": "markdown",
   "id": "779b346d",
   "metadata": {},
   "source": [
    "## The following section is for Colab Users.\n",
    "### Just run the following code cells"
   ]
  },
  {
   "cell_type": "code",
   "execution_count": null,
   "id": "7d73eb01",
   "metadata": {},
   "outputs": [],
   "source": [
    "!apt-get install openjdk-11-jdk-headless -qq > /dev/null\n",
    "!wget -q https://bitbucket.org/habedi/datasets/raw/b6769c4664e7ff68b001e2f43bc517888cbe3642/spark/spark-3.0.2-bin-hadoop2.7.tgz\n",
    "!tar xf spark-3.0.2-bin-hadoop2.7.tgz\n",
    "!rm -rf spark-3.0.2-bin-hadoop2.7.tgz*\n",
    "!pip -q install findspark pyspark graphframes"
   ]
  },
  {
   "cell_type": "code",
   "execution_count": null,
   "id": "299e0d6a",
   "metadata": {},
   "outputs": [],
   "source": [
    "!wget https://repos.spark-packages.org/graphframes/graphframes/0.8.2-spark3.0-s_2.12/graphframes-0.8.2-spark3.0-s_2.12.jar -P /content/spark-3.0.2-bin-hadoop2.7/jars/\n",
    "!cp /content/spark-3.0.2-bin-hadoop2.7/jars/graphframes-0.8.2-spark3.0-s_2.12.jar /content/spark-3.0.2-bin-hadoop2.7/graphframes-0.8.2-spark3.0-s_2.12.zip"
   ]
  },
  {
   "cell_type": "code",
   "execution_count": null,
   "id": "ee0d39ec",
   "metadata": {},
   "outputs": [],
   "source": [
    "import os\n",
    "\n",
    "os.environ[\"JAVA_HOME\"] = \"/usr/lib/jvm/java-11-openjdk-amd64\"\n",
    "os.environ[\"SPARK_HOME\"] = \"/content/spark-3.0.2-bin-hadoop2.7\"\n",
    "os.environ[\"HADOOP_HOME\"] = os.environ[\"SPARK_HOME\"]\n",
    "\n",
    "os.environ[\"PYSPARK_DRIVER_PYTHON\"] = \"jupyter\"\n",
    "os.environ[\"PYSPARK_DRIVER_PYTHON_OPTS\"] = \"notebook\"\n",
    "os.environ[\"PYSPARK_SUBMIT_ARGS\"] = \"--master local[*] pyspark-shell\""
   ]
  },
  {
   "cell_type": "code",
   "execution_count": null,
   "id": "7136d8e6",
   "metadata": {},
   "outputs": [],
   "source": [
    "import findspark\n",
    "findspark.init()"
   ]
  },
  {
   "cell_type": "code",
   "execution_count": null,
   "id": "92f3e19b",
   "metadata": {},
   "outputs": [],
   "source": [
    "!export PYSPARK_SUBMIT_ARGS=\"--master local[*] pyspark-shell\"\n",
    "!export PYSPARK_DRIVER_PYTHON=jupyter\n",
    "!export PYSPARK_DRIVER_PYTHON_OPTS=notebook"
   ]
  },
  {
   "cell_type": "code",
   "execution_count": null,
   "id": "f1504ff4",
   "metadata": {},
   "outputs": [],
   "source": [
    "from pyspark.sql import SparkSession\n",
    "from graphframes import *\n",
    "\n",
    "spark = SparkSession.builder.master(\"local[*]\").appName(\"GraphFrames\").getOrCreate()"
   ]
  },
  {
   "cell_type": "code",
   "execution_count": null,
   "id": "252db99a",
   "metadata": {},
   "outputs": [],
   "source": [
    "os.environ[\"PYSPARK_SUBMIT_ARGS\"] = \"--packages graphframes:graphframes:0.8.1-spark3.0-s_2.12 pyspark-shell\""
   ]
  },
  {
   "cell_type": "markdown",
   "id": "66232934",
   "metadata": {},
   "source": [
    "**************************************************************************\n",
    "**************************************************************************\n",
    "**************************************************************************"
   ]
  },
  {
   "cell_type": "code",
   "execution_count": null,
   "id": "00361946",
   "metadata": {},
   "outputs": [],
   "source": []
  }
 ],
 "metadata": {
  "kernelspec": {
   "display_name": "Python 3 (ipykernel)",
   "language": "python",
   "name": "python3"
  },
  "language_info": {
   "codemirror_mode": {
    "name": "ipython",
    "version": 3
   },
   "file_extension": ".py",
   "mimetype": "text/x-python",
   "name": "python",
   "nbconvert_exporter": "python",
   "pygments_lexer": "ipython3",
   "version": "3.9.7"
  }
 },
 "nbformat": 4,
 "nbformat_minor": 5
}
