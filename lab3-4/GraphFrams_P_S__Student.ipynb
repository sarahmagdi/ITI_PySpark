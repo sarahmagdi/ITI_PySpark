{
  "cells": [
    {
      "cell_type": "markdown",
      "metadata": {
        "id": "779b346d"
      },
      "source": [
        "## The following section is for Colab Users.\n",
        "### Just run the following code cells"
      ],
      "id": "779b346d"
    },
    {
      "cell_type": "code",
      "execution_count": 1,
      "metadata": {
        "id": "7d73eb01",
        "colab": {
          "base_uri": "https://localhost:8080/"
        },
        "outputId": "3e60adb1-cf72-4bc6-8b3c-2b8108100821"
      },
      "outputs": [
        {
          "output_type": "stream",
          "name": "stdout",
          "text": [
            "\u001b[K     |████████████████████████████████| 281.3 MB 50 kB/s \n",
            "\u001b[K     |████████████████████████████████| 199 kB 66.9 MB/s \n",
            "\u001b[K     |████████████████████████████████| 154 kB 72.4 MB/s \n",
            "\u001b[?25h  Building wheel for pyspark (setup.py) ... \u001b[?25l\u001b[?25hdone\n"
          ]
        }
      ],
      "source": [
        "!apt-get install openjdk-11-jdk-headless -qq > /dev/null\n",
        "!wget -q https://bitbucket.org/habedi/datasets/raw/b6769c4664e7ff68b001e2f43bc517888cbe3642/spark/spark-3.0.2-bin-hadoop2.7.tgz\n",
        "!tar xf spark-3.0.2-bin-hadoop2.7.tgz\n",
        "!rm -rf spark-3.0.2-bin-hadoop2.7.tgz*\n",
        "!pip -q install findspark pyspark graphframes"
      ],
      "id": "7d73eb01"
    },
    {
      "cell_type": "code",
      "execution_count": 2,
      "metadata": {
        "colab": {
          "base_uri": "https://localhost:8080/"
        },
        "id": "299e0d6a",
        "outputId": "e77e3084-0499-4103-c868-5c5e38e4439b"
      },
      "outputs": [
        {
          "output_type": "stream",
          "name": "stdout",
          "text": [
            "--2022-07-02 11:30:36--  https://repos.spark-packages.org/graphframes/graphframes/0.8.2-spark3.0-s_2.12/graphframes-0.8.2-spark3.0-s_2.12.jar\n",
            "Resolving repos.spark-packages.org (repos.spark-packages.org)... 99.84.208.62, 99.84.208.69, 99.84.208.75, ...\n",
            "Connecting to repos.spark-packages.org (repos.spark-packages.org)|99.84.208.62|:443... connected.\n",
            "HTTP request sent, awaiting response... 200 OK\n",
            "Length: 247882 (242K) [binary/octet-stream]\n",
            "Saving to: ‘/content/spark-3.0.2-bin-hadoop2.7/jars/graphframes-0.8.2-spark3.0-s_2.12.jar’\n",
            "\n",
            "graphframes-0.8.2-s 100%[===================>] 242.07K  1.32MB/s    in 0.2s    \n",
            "\n",
            "2022-07-02 11:30:37 (1.32 MB/s) - ‘/content/spark-3.0.2-bin-hadoop2.7/jars/graphframes-0.8.2-spark3.0-s_2.12.jar’ saved [247882/247882]\n",
            "\n"
          ]
        }
      ],
      "source": [
        "!wget https://repos.spark-packages.org/graphframes/graphframes/0.8.2-spark3.0-s_2.12/graphframes-0.8.2-spark3.0-s_2.12.jar -P /content/spark-3.0.2-bin-hadoop2.7/jars/\n",
        "!cp /content/spark-3.0.2-bin-hadoop2.7/jars/graphframes-0.8.2-spark3.0-s_2.12.jar /content/spark-3.0.2-bin-hadoop2.7/graphframes-0.8.2-spark3.0-s_2.12.zip"
      ],
      "id": "299e0d6a"
    },
    {
      "cell_type": "code",
      "execution_count": 3,
      "metadata": {
        "id": "ee0d39ec"
      },
      "outputs": [],
      "source": [
        "import os\n",
        "\n",
        "os.environ[\"JAVA_HOME\"] = \"/usr/lib/jvm/java-11-openjdk-amd64\"\n",
        "os.environ[\"SPARK_HOME\"] = \"/content/spark-3.0.2-bin-hadoop2.7\"\n",
        "os.environ[\"HADOOP_HOME\"] = os.environ[\"SPARK_HOME\"]\n",
        "\n",
        "os.environ[\"PYSPARK_DRIVER_PYTHON\"] = \"jupyter\"\n",
        "os.environ[\"PYSPARK_DRIVER_PYTHON_OPTS\"] = \"notebook\"\n",
        "os.environ[\"PYSPARK_SUBMIT_ARGS\"] = \"--master local[*] pyspark-shell\""
      ],
      "id": "ee0d39ec"
    },
    {
      "cell_type": "code",
      "execution_count": 4,
      "metadata": {
        "id": "7136d8e6"
      },
      "outputs": [],
      "source": [
        "import findspark\n",
        "findspark.init()"
      ],
      "id": "7136d8e6"
    },
    {
      "cell_type": "code",
      "execution_count": 5,
      "metadata": {
        "id": "92f3e19b"
      },
      "outputs": [],
      "source": [
        "!export PYSPARK_SUBMIT_ARGS=\"--master local[*] pyspark-shell\"\n",
        "!export PYSPARK_DRIVER_PYTHON=jupyter\n",
        "!export PYSPARK_DRIVER_PYTHON_OPTS=notebook"
      ],
      "id": "92f3e19b"
    },
    {
      "cell_type": "code",
      "execution_count": 6,
      "metadata": {
        "id": "f1504ff4"
      },
      "outputs": [],
      "source": [
        "from pyspark.sql import SparkSession\n",
        "from graphframes import *\n",
        "\n",
        "spark = SparkSession.builder.master(\"local[*]\").appName(\"GraphFrames\").getOrCreate()"
      ],
      "id": "f1504ff4"
    },
    {
      "cell_type": "code",
      "execution_count": 7,
      "metadata": {
        "id": "252db99a"
      },
      "outputs": [],
      "source": [
        "os.environ[\"PYSPARK_SUBMIT_ARGS\"] = \"--packages graphframes:graphframes:0.8.1-spark3.0-s_2.12 pyspark-shell\""
      ],
      "id": "252db99a"
    },
    {
      "cell_type": "markdown",
      "metadata": {
        "id": "66232934"
      },
      "source": [
        "**************************************************************************\n",
        "**************************************************************************\n",
        "**************************************************************************"
      ],
      "id": "66232934"
    },
    {
      "cell_type": "code",
      "execution_count": null,
      "metadata": {
        "id": "c90808ca"
      },
      "outputs": [],
      "source": [
        ""
      ],
      "id": "c90808ca"
    },
    {
      "cell_type": "code",
      "execution_count": 8,
      "metadata": {
        "colab": {
          "base_uri": "https://localhost:8080/",
          "height": 17
        },
        "id": "2a0819b3",
        "outputId": "4f0a14d0-595c-4651-d8da-20fa36730e0e"
      },
      "outputs": [
        {
          "output_type": "display_data",
          "data": {
            "text/plain": [
              "<IPython.core.display.HTML object>"
            ],
            "text/html": [
              "<style>pre { white-space: pre !important; }</style>"
            ]
          },
          "metadata": {}
        }
      ],
      "source": [
        "from IPython.display import display, HTML\n",
        "display(HTML(\"<style>pre { white-space: pre !important; }</style>\"))"
      ],
      "id": "2a0819b3"
    },
    {
      "cell_type": "markdown",
      "metadata": {
        "id": "d7f57da0"
      },
      "source": [
        "### Read departuredelays.csv in Edge DataFrame\n",
        "### Read airport-codes-na.txt in Vertix DataFrame (the separator is Tab i.e sep = '\\t' )"
      ],
      "id": "d7f57da0"
    },
    {
      "cell_type": "markdown",
      "metadata": {
        "id": "631c334e"
      },
      "source": [
        "#### The US flight delays data set has five columns:\n",
        "- The <b>date</b> column contains an integer like 02190925 . When converted, this maps to 02-19 09:25 am.\n",
        "- The <b>delay</b> column gives the delay in minutes between the scheduled and actual departure times. Early departures show negative numbers.\n",
        "- The <b>distance</b> column gives the distance in miles from the origin airport to the destination airport.\n",
        "- The <b>origin</b> column contains the origin IATA airport code.\n",
        "- The <b>destination</b> column contains the destination IATA airport code.\n",
        "\n",
        "#### The airport-codes data set has four columns:\n",
        "- The <b>IATA</b> column contains IATA airport code.\n",
        "- The <b>City, State, and Country</b> columns contains information about the airport location. "
      ],
      "id": "631c334e"
    },
    {
      "cell_type": "code",
      "execution_count": 10,
      "metadata": {
        "colab": {
          "base_uri": "https://localhost:8080/"
        },
        "id": "30f02a5a",
        "outputId": "745dd78c-974f-4469-a3e5-348dbceb2b01"
      },
      "outputs": [
        {
          "output_type": "stream",
          "name": "stdout",
          "text": [
            "+--------+-----+--------+------+-----------+\n",
            "|date    |delay|distance|origin|destination|\n",
            "+--------+-----+--------+------+-----------+\n",
            "|01011245|6    |602     |ABE   |ATL        |\n",
            "|01020600|-8   |369     |ABE   |DTW        |\n",
            "|01021245|-2   |602     |ABE   |ATL        |\n",
            "|01020605|-4   |602     |ABE   |ATL        |\n",
            "|01031245|-4   |602     |ABE   |ATL        |\n",
            "+--------+-----+--------+------+-----------+\n",
            "only showing top 5 rows\n",
            "\n"
          ]
        }
      ],
      "source": [
        "Edge_DF= spark.read.option(\"header\",True).csv(\"/content/drive/MyDrive/pysparkGraph/departuredelays.csv\")\n",
        "\n",
        "Edge_DF.show(5,truncate=False)"
      ],
      "id": "30f02a5a"
    },
    {
      "cell_type": "code",
      "execution_count": 11,
      "metadata": {
        "id": "MLj8cFxOgrJb"
      },
      "outputs": [],
      "source": [
        "VertixDF=spark.read.options(header='True',inferSchema='True',delimiter='\\t') \\\n",
        "  .csv(\"/content/drive/MyDrive/pysparkGraph/airport-codes-na.txt\")\n"
      ],
      "id": "MLj8cFxOgrJb"
    },
    {
      "cell_type": "code",
      "execution_count": null,
      "metadata": {
        "id": "uqVhkFHstx9u"
      },
      "outputs": [],
      "source": [
        "#VertixDF=VertixDF.withColumnRenamed(\"IATA\",\"id\")"
      ],
      "id": "uqVhkFHstx9u"
    },
    {
      "cell_type": "code",
      "execution_count": 12,
      "metadata": {
        "colab": {
          "base_uri": "https://localhost:8080/"
        },
        "id": "o2KuqDcbtAqy",
        "outputId": "3d8f8d2e-5a3c-40ea-803a-4e659366c6b9"
      },
      "outputs": [
        {
          "output_type": "stream",
          "name": "stdout",
          "text": [
            "+----------+-----+-------+----+\n",
            "|City      |State|Country|IATA|\n",
            "+----------+-----+-------+----+\n",
            "|Abbotsford|BC   |Canada |YXX |\n",
            "|Aberdeen  |SD   |USA    |ABR |\n",
            "|Abilene   |TX   |USA    |ABI |\n",
            "|Akron     |OH   |USA    |CAK |\n",
            "|Alamosa   |CO   |USA    |ALS |\n",
            "+----------+-----+-------+----+\n",
            "only showing top 5 rows\n",
            "\n"
          ]
        }
      ],
      "source": [
        "VertixDF.show(5,truncate=False)"
      ],
      "id": "o2KuqDcbtAqy"
    },
    {
      "cell_type": "code",
      "execution_count": 9,
      "metadata": {
        "colab": {
          "base_uri": "https://localhost:8080/"
        },
        "id": "AxbBS8szgVuG",
        "outputId": "ffbf8da8-17ca-4d2c-b844-ad077fc1ac2d"
      },
      "outputs": [
        {
          "output_type": "stream",
          "name": "stdout",
          "text": [
            "Mounted at /content/drive\n"
          ]
        }
      ],
      "source": [
        "from google.colab import drive\n",
        "drive.mount('/content/drive')"
      ],
      "id": "AxbBS8szgVuG"
    },
    {
      "cell_type": "markdown",
      "metadata": {
        "id": "e1d90463"
      },
      "source": [
        "### In the vertix DataFrame, drop any duplicated rows with the same  IATA code."
      ],
      "id": "e1d90463"
    },
    {
      "cell_type": "code",
      "execution_count": 13,
      "metadata": {
        "colab": {
          "base_uri": "https://localhost:8080/"
        },
        "id": "W8N6xzhiyNGS",
        "outputId": "f42302fe-16cc-4155-a39a-4f80705d67ba"
      },
      "outputs": [
        {
          "output_type": "execute_result",
          "data": {
            "text/plain": [
              "526"
            ]
          },
          "metadata": {},
          "execution_count": 13
        }
      ],
      "source": [
        "VertixDF.count()"
      ],
      "id": "W8N6xzhiyNGS"
    },
    {
      "cell_type": "code",
      "execution_count": 14,
      "metadata": {
        "id": "15571db4"
      },
      "outputs": [],
      "source": [
        "VertixDF=VertixDF.dropDuplicates(subset=[\"IATA\"])\n"
      ],
      "id": "15571db4"
    },
    {
      "cell_type": "code",
      "execution_count": 15,
      "metadata": {
        "colab": {
          "base_uri": "https://localhost:8080/"
        },
        "id": "c9hFgDdgyT9y",
        "outputId": "e85957ee-4593-4cab-9726-33069654e72c"
      },
      "outputs": [
        {
          "output_type": "execute_result",
          "data": {
            "text/plain": [
              "524"
            ]
          },
          "metadata": {},
          "execution_count": 15
        }
      ],
      "source": [
        "VertixDF.count()"
      ],
      "id": "c9hFgDdgyT9y"
    },
    {
      "cell_type": "markdown",
      "metadata": {
        "id": "83d1dea8"
      },
      "source": [
        "### In the edges DataFrame:\n",
        "- Rename the <b>date</b> columns to become <b>tripid</b>.\n",
        "- Rename the <b>origin</b> columns to become <b>src</b>.\n",
        "- Rename the <b>destination</b> columns to become <b>dst</b>."
      ],
      "id": "83d1dea8"
    },
    {
      "cell_type": "code",
      "execution_count": 16,
      "metadata": {
        "id": "5319e844"
      },
      "outputs": [],
      "source": [
        "Edge_DF=Edge_DF.withColumnRenamed(\"origin\",\"src\") \\\n",
        "    .withColumnRenamed(\"destination\",\"dst\")\\\n",
        "    .withColumnRenamed(\"date\",\"tripid\")"
      ],
      "id": "5319e844"
    },
    {
      "cell_type": "code",
      "execution_count": 17,
      "metadata": {
        "colab": {
          "base_uri": "https://localhost:8080/"
        },
        "id": "zKJdhpdL15KJ",
        "outputId": "ed17b6c6-836f-4e54-82bf-6e2ff0ae775d"
      },
      "outputs": [
        {
          "output_type": "stream",
          "name": "stdout",
          "text": [
            "+--------+-----+--------+---+---+\n",
            "|  tripid|delay|distance|src|dst|\n",
            "+--------+-----+--------+---+---+\n",
            "|01011245|    6|     602|ABE|ATL|\n",
            "|01020600|   -8|     369|ABE|DTW|\n",
            "+--------+-----+--------+---+---+\n",
            "only showing top 2 rows\n",
            "\n"
          ]
        }
      ],
      "source": [
        "Edge_DF.show(2)"
      ],
      "id": "zKJdhpdL15KJ"
    },
    {
      "cell_type": "markdown",
      "metadata": {
        "id": "260660dc"
      },
      "source": [
        "### In the Vertix DataFrame:\n",
        "- Rename the <b>IATA</b> columns to become <b>id</b>."
      ],
      "id": "260660dc"
    },
    {
      "cell_type": "code",
      "execution_count": 18,
      "metadata": {
        "id": "42846969",
        "scrolled": false
      },
      "outputs": [],
      "source": [
        "VertixDF=VertixDF.withColumnRenamed(\"IATA\",\"id\")"
      ],
      "id": "42846969"
    },
    {
      "cell_type": "markdown",
      "metadata": {
        "id": "4b50a1fe"
      },
      "source": [
        "### Create GraphFrame from Vertix and Edges DataFrames"
      ],
      "id": "4b50a1fe"
    },
    {
      "cell_type": "code",
      "execution_count": 19,
      "metadata": {
        "id": "72be9d09"
      },
      "outputs": [],
      "source": [
        "GraphDF = GraphFrame(VertixDF,Edge_DF)"
      ],
      "id": "72be9d09"
    },
    {
      "cell_type": "code",
      "execution_count": 20,
      "metadata": {
        "colab": {
          "base_uri": "https://localhost:8080/"
        },
        "id": "3JJZWXHl0wlk",
        "outputId": "00b5ef89-3347-4a4a-a32f-284120412766"
      },
      "outputs": [
        {
          "output_type": "stream",
          "name": "stdout",
          "text": [
            "+-------------------+-----+-------+---+\n",
            "|               City|State|Country| id|\n",
            "+-------------------+-----+-------+---+\n",
            "|         Binghamton|   NY|    USA|BGM|\n",
            "|            Lebanon|   NH|    USA|LEB|\n",
            "|           Montreal|   PQ| Canada|YUL|\n",
            "|         Dillingham|   AK|    USA|DLG|\n",
            "|International Falls|   MN|    USA|INL|\n",
            "|         Wolf Point|   MT|    USA|OLF|\n",
            "|        New Orleans|   LA|    USA|MSY|\n",
            "|            Toronto|   ON| Canada|YTO|\n",
            "|            Spokane|   WA|    USA|GEG|\n",
            "|              Havre|   MT|    USA|HVR|\n",
            "|            Burbank|   CA|    USA|BUR|\n",
            "|      Orange County|   CA|    USA|SNA|\n",
            "|             Dryden|   ON| Canada|YHD|\n",
            "|         Fort Dodge|   IA|    USA|FOD|\n",
            "|          Green Bay|   WI|    USA|GRB|\n",
            "|        Great Falls|   MT|    USA|GTF|\n",
            "|              Homer|   AK|    USA|HOM|\n",
            "|        Idaho Falls|   ID|    USA|IDA|\n",
            "|      Sioux Lookout|   ON| Canada|YXL|\n",
            "|       Grand Rapids|   MI|    USA|GRR|\n",
            "+-------------------+-----+-------+---+\n",
            "only showing top 20 rows\n",
            "\n"
          ]
        }
      ],
      "source": [
        "GraphDF.vertices.show()"
      ],
      "id": "3JJZWXHl0wlk"
    },
    {
      "cell_type": "markdown",
      "metadata": {
        "id": "abd2ebc6"
      },
      "source": [
        "### Determine the number of airports"
      ],
      "id": "abd2ebc6"
    },
    {
      "cell_type": "code",
      "execution_count": 21,
      "metadata": {
        "colab": {
          "base_uri": "https://localhost:8080/"
        },
        "id": "f38688c9",
        "outputId": "81e4402c-bfe0-4683-c3de-16c69ac6fdca"
      },
      "outputs": [
        {
          "output_type": "execute_result",
          "data": {
            "text/plain": [
              "524"
            ]
          },
          "metadata": {},
          "execution_count": 21
        }
      ],
      "source": [
        "GraphDF.vertices.select('id').count()"
      ],
      "id": "f38688c9"
    },
    {
      "cell_type": "markdown",
      "metadata": {
        "id": "435187a8"
      },
      "source": [
        "### Determine the number of trips "
      ],
      "id": "435187a8"
    },
    {
      "cell_type": "code",
      "execution_count": 22,
      "metadata": {
        "colab": {
          "base_uri": "https://localhost:8080/"
        },
        "id": "db2a507d",
        "outputId": "070f3bb9-4f82-4d39-9740-681912c80037"
      },
      "outputs": [
        {
          "output_type": "execute_result",
          "data": {
            "text/plain": [
              "1391578"
            ]
          },
          "metadata": {},
          "execution_count": 22
        }
      ],
      "source": [
        "GraphDF.edges.count()"
      ],
      "id": "db2a507d"
    },
    {
      "cell_type": "markdown",
      "metadata": {
        "id": "dec8731f"
      },
      "source": [
        "### What is the longest delay?"
      ],
      "id": "dec8731f"
    },
    {
      "cell_type": "code",
      "execution_count": 23,
      "metadata": {
        "colab": {
          "base_uri": "https://localhost:8080/"
        },
        "id": "df3d6aac",
        "outputId": "6f661a04-32d0-4ce9-c9fd-8114827d250f"
      },
      "outputs": [
        {
          "output_type": "stream",
          "name": "stdout",
          "text": [
            "the longest delay is : 995.0\n"
          ]
        }
      ],
      "source": [
        "longest_delayPositive=float(GraphDF.edges.select(\"delay\").rdd.max()[0])\n",
        "longest_delayNegative=float(GraphDF.edges.select(\"delay\").rdd.min()[0])\n",
        "if longest_delayPositive> (-1*longest_delayNegative):\n",
        "  print(\"the longest delay is :\",longest_delayPositive)\n",
        "else:\n",
        "  print(\"the longest delay is :\",(-1*longest_delayNegative))"
      ],
      "id": "df3d6aac"
    },
    {
      "cell_type": "code",
      "execution_count": 24,
      "metadata": {
        "id": "7CU0GTX25VxY"
      },
      "outputs": [],
      "source": [
        "from pyspark.sql.functions import *"
      ],
      "id": "7CU0GTX25VxY"
    },
    {
      "cell_type": "code",
      "execution_count": 25,
      "metadata": {
        "colab": {
          "base_uri": "https://localhost:8080/"
        },
        "id": "cVL0sUUQ5ZAW",
        "outputId": "5788df87-f908-4ec3-b4ee-bce2df1ffb07"
      },
      "outputs": [
        {
          "output_type": "stream",
          "name": "stdout",
          "text": [
            "+----------+\n",
            "|max(delay)|\n",
            "+----------+\n",
            "|995       |\n",
            "+----------+\n",
            "\n"
          ]
        }
      ],
      "source": [
        "GraphDF.edges.select(max(\"delay\")).show(truncate=False)"
      ],
      "id": "cVL0sUUQ5ZAW"
    },
    {
      "cell_type": "code",
      "execution_count": 26,
      "metadata": {
        "colab": {
          "base_uri": "https://localhost:8080/"
        },
        "id": "JvmvoUOw4zTG",
        "outputId": "dfd105b9-a900-4c3f-8d85-4f831d36b7a8"
      },
      "outputs": [
        {
          "output_type": "stream",
          "name": "stdout",
          "text": [
            "+--------+-----+--------+---+---+\n",
            "|  tripid|delay|distance|src|dst|\n",
            "+--------+-----+--------+---+---+\n",
            "|01011245|    6|     602|ABE|ATL|\n",
            "|01020600|   -8|     369|ABE|DTW|\n",
            "|01021245|   -2|     602|ABE|ATL|\n",
            "|01020605|   -4|     602|ABE|ATL|\n",
            "|01031245|   -4|     602|ABE|ATL|\n",
            "|01030605|    0|     602|ABE|ATL|\n",
            "|01041243|   10|     602|ABE|ATL|\n",
            "|01040605|   28|     602|ABE|ATL|\n",
            "|01051245|   88|     602|ABE|ATL|\n",
            "|01050605|    9|     602|ABE|ATL|\n",
            "+--------+-----+--------+---+---+\n",
            "only showing top 10 rows\n",
            "\n"
          ]
        }
      ],
      "source": [
        "GraphDF.edges.show(10)"
      ],
      "id": "JvmvoUOw4zTG"
    },
    {
      "cell_type": "markdown",
      "metadata": {
        "id": "202d888c"
      },
      "source": [
        "### Find out the number of delayed flights vs. early flights (flights that departed before actual time)"
      ],
      "id": "202d888c"
    },
    {
      "cell_type": "code",
      "execution_count": 27,
      "metadata": {
        "id": "7cdd7ff7"
      },
      "outputs": [],
      "source": [
        "from pyspark.sql.functions import *\n",
        "from pyspark.sql.types import *\n",
        "#GraphDF.edges.select([count(when(float(v)>0, v)).alias(\"delayed flights\") for v in col(\"delay\")]).show()\n"
      ],
      "id": "7cdd7ff7"
    },
    {
      "cell_type": "code",
      "execution_count": 28,
      "metadata": {
        "colab": {
          "base_uri": "https://localhost:8080/"
        },
        "id": "AkObVQS7DOQw",
        "outputId": "96aed3ff-b900-472f-ad29-b84dbc260c28"
      },
      "outputs": [
        {
          "output_type": "stream",
          "name": "stdout",
          "text": [
            "delayed flights :  591727\n",
            "early flights :  668729\n"
          ]
        }
      ],
      "source": [
        "print(\"delayed flights : \",GraphDF.edges.withColumn(\"delay\",col(\"delay\").cast(DoubleType())).filter(col(\"delay\") >0).count() )\n",
        "print(\"early flights : \",GraphDF.edges.withColumn(\"delay\",col(\"delay\").cast(DoubleType())).filter(col(\"delay\") <0).count() )"
      ],
      "id": "AkObVQS7DOQw"
    },
    {
      "cell_type": "markdown",
      "metadata": {
        "id": "30961bc3"
      },
      "source": [
        "### What flight destinations departing SFO are most likely to have significant delays? Select the top 10\n",
        "#### Hint: you should get the average delay for each destination for trips that depart from SFO only"
      ],
      "id": "30961bc3"
    },
    {
      "cell_type": "code",
      "execution_count": null,
      "metadata": {
        "id": "x_SrxqqANnjP"
      },
      "outputs": [],
      "source": [
        "#tripid|delay|distance|src|dst"
      ],
      "id": "x_SrxqqANnjP"
    },
    {
      "cell_type": "code",
      "execution_count": 29,
      "metadata": {
        "id": "afdc6842"
      },
      "outputs": [],
      "source": [
        "paths = GraphDF.find(\"()-[e]->()\")\\\n",
        "  .filter(\"e.src = 'SFO'\")\n"
      ],
      "id": "afdc6842"
    },
    {
      "cell_type": "code",
      "execution_count": 30,
      "metadata": {
        "id": "r9ny0-m3EDhI"
      },
      "outputs": [],
      "source": [
        "import pyspark.sql.functions as funs"
      ],
      "id": "r9ny0-m3EDhI"
    },
    {
      "cell_type": "code",
      "execution_count": 31,
      "metadata": {
        "colab": {
          "base_uri": "https://localhost:8080/"
        },
        "id": "0lQ0vLoNC5iz",
        "outputId": "49f7f185-d73c-4541-bd80-aad653f35b04"
      },
      "outputs": [
        {
          "output_type": "stream",
          "name": "stdout",
          "text": [
            "+---+----------------------------------+\n",
            "|dst|average delay for each destination|\n",
            "+---+----------------------------------+\n",
            "|JAC|30.78846153846154                 |\n",
            "|OKC|24.822222222222223                |\n",
            "|SUN|22.696629213483146                |\n",
            "|COS|22.58888888888889                 |\n",
            "|SAT|22.16                             |\n",
            "|STL|20.203125                         |\n",
            "|HNL|19.982608695652175                |\n",
            "|ASE|19.846153846153847                |\n",
            "|CEC|19.089820359281436                |\n",
            "|MDW|18.771929824561404                |\n",
            "+---+----------------------------------+\n",
            "only showing top 10 rows\n",
            "\n"
          ]
        }
      ],
      "source": [
        "paths.select(\"e.src\",\"e.dst\",\"e.delay\").groupBy(\"dst\").agg(funs.avg('delay').alias(\"average delay for each destination\")).orderBy('average delay for each destination',ascending=False).show(10,truncate=False)"
      ],
      "id": "0lQ0vLoNC5iz"
    },
    {
      "cell_type": "markdown",
      "metadata": {
        "id": "71d46665"
      },
      "source": [
        "### Find the Incoming connections to the airport sorted in Desc. order."
      ],
      "id": "71d46665"
    },
    {
      "cell_type": "code",
      "source": [
        "#all in Incoming connections for each airport\n",
        "GraphDF.inDegrees.orderBy(desc(\"inDegree\")).show(10)"
      ],
      "metadata": {
        "colab": {
          "base_uri": "https://localhost:8080/"
        },
        "id": "i2lfF2ZXsVZx",
        "outputId": "a4dc720e-cb6e-411e-86ac-0475faac35bc"
      },
      "id": "i2lfF2ZXsVZx",
      "execution_count": 32,
      "outputs": [
        {
          "output_type": "stream",
          "name": "stdout",
          "text": [
            "+---+--------+\n",
            "| id|inDegree|\n",
            "+---+--------+\n",
            "|ATL|   90434|\n",
            "|DFW|   66050|\n",
            "|ORD|   61967|\n",
            "|LAX|   53601|\n",
            "|DEN|   50921|\n",
            "|IAH|   42700|\n",
            "|PHX|   39721|\n",
            "|SFO|   38988|\n",
            "|LAS|   32994|\n",
            "|CLT|   28388|\n",
            "+---+--------+\n",
            "only showing top 10 rows\n",
            "\n"
          ]
        }
      ]
    },
    {
      "cell_type": "code",
      "source": [
        "#tripid|delay|distance|src|dst"
      ],
      "metadata": {
        "id": "N8nZvy9ssY4z"
      },
      "id": "N8nZvy9ssY4z",
      "execution_count": null,
      "outputs": []
    },
    {
      "cell_type": "code",
      "execution_count": 33,
      "metadata": {
        "id": "c28925c3"
      },
      "outputs": [],
      "source": [
        "#Incoming connections to SFO\n",
        "IncomingTo_SFO = GraphDF.find(\"()-[e]->()\")\\\n",
        "  .filter(\"e.dst = 'SFO'\").select(\"e.tripid\",\"e.src\",\"e.dst\",\"e.delay\",\"e.distance\").orderBy(\"src\",ascending=False)"
      ],
      "id": "c28925c3"
    },
    {
      "cell_type": "code",
      "execution_count": 34,
      "metadata": {
        "colab": {
          "base_uri": "https://localhost:8080/"
        },
        "id": "iieASSE7IgPF",
        "outputId": "8c9d7003-0c32-48c3-fb6b-5c69f03471ed"
      },
      "outputs": [
        {
          "output_type": "stream",
          "name": "stdout",
          "text": [
            "+--------+---+---+-----+--------+\n",
            "|tripid  |src|dst|delay|distance|\n",
            "+--------+---+---+-----+--------+\n",
            "|02010850|TUS|SFO|-3   |653     |\n",
            "|02121454|TUS|SFO|-8   |653     |\n",
            "|02021158|TUS|SFO|28   |653     |\n",
            "|02020850|TUS|SFO|-6   |653     |\n",
            "|02031449|TUS|SFO|19   |653     |\n",
            "|02030850|TUS|SFO|27   |653     |\n",
            "|02041454|TUS|SFO|108  |653     |\n",
            "|02040830|TUS|SFO|-1   |653     |\n",
            "|02051454|TUS|SFO|3    |653     |\n",
            "|02050850|TUS|SFO|38   |653     |\n",
            "|02061449|TUS|SFO|57   |653     |\n",
            "|02060850|TUS|SFO|57   |653     |\n",
            "|02071449|TUS|SFO|190  |653     |\n",
            "|02070850|TUS|SFO|-5   |653     |\n",
            "|02080850|TUS|SFO|29   |653     |\n",
            "|02091158|TUS|SFO|209  |653     |\n",
            "|02090850|TUS|SFO|0    |653     |\n",
            "|02101449|TUS|SFO|61   |653     |\n",
            "|02100850|TUS|SFO|10   |653     |\n",
            "|02111454|TUS|SFO|-1   |653     |\n",
            "+--------+---+---+-----+--------+\n",
            "only showing top 20 rows\n",
            "\n"
          ]
        }
      ],
      "source": [
        "IncomingTo_SFO.show(truncate=False)"
      ],
      "id": "iieASSE7IgPF"
    },
    {
      "cell_type": "markdown",
      "metadata": {
        "id": "d1b6509d"
      },
      "source": [
        "### Find the Outgoing connections from the airport sorted in Desc. order."
      ],
      "id": "d1b6509d"
    },
    {
      "cell_type": "code",
      "source": [
        "#all in Outgoing connections for each airport\n",
        "GraphDF.outDegrees.orderBy(desc(\"outDegree\")).show(10)"
      ],
      "metadata": {
        "colab": {
          "base_uri": "https://localhost:8080/"
        },
        "id": "kSttPInuspo8",
        "outputId": "a3d3882c-8300-4b01-a2b3-e1b2ebf61883"
      },
      "id": "kSttPInuspo8",
      "execution_count": 35,
      "outputs": [
        {
          "output_type": "stream",
          "name": "stdout",
          "text": [
            "+---+---------+\n",
            "| id|outDegree|\n",
            "+---+---------+\n",
            "|ATL|    91484|\n",
            "|DFW|    68482|\n",
            "|ORD|    64228|\n",
            "|LAX|    54086|\n",
            "|DEN|    53148|\n",
            "|IAH|    43361|\n",
            "|PHX|    40155|\n",
            "|SFO|    39483|\n",
            "|LAS|    33107|\n",
            "|CLT|    28402|\n",
            "+---+---------+\n",
            "only showing top 10 rows\n",
            "\n"
          ]
        }
      ]
    },
    {
      "cell_type": "code",
      "execution_count": 36,
      "metadata": {
        "id": "631af51d"
      },
      "outputs": [],
      "source": [
        "OutgoingFrom_SFO = GraphDF.find(\"()-[e]->()\")\\\n",
        "  .filter(\"e.src = 'SFO'\").select(\"e.tripid\",\"e.src\",\"e.dst\",\"e.delay\",\"e.distance\").orderBy(\"dst\",ascending=False)"
      ],
      "id": "631af51d"
    },
    {
      "cell_type": "code",
      "execution_count": 37,
      "metadata": {
        "colab": {
          "base_uri": "https://localhost:8080/"
        },
        "id": "PK323LF-Jvxn",
        "outputId": "c8fcc324-619f-438c-d2fa-11143a583cc0"
      },
      "outputs": [
        {
          "output_type": "stream",
          "name": "stdout",
          "text": [
            "+--------+---+---+-----+--------+\n",
            "|tripid  |src|dst|delay|distance|\n",
            "+--------+---+---+-----+--------+\n",
            "|01081055|SFO|TUS|1    |653     |\n",
            "|02020825|SFO|TUS|37   |653     |\n",
            "|01311939|SFO|TUS|46   |653     |\n",
            "|01010753|SFO|TUS|-4   |653     |\n",
            "|01141055|SFO|TUS|1    |653     |\n",
            "|01051934|SFO|TUS|-4   |653     |\n",
            "|01161055|SFO|TUS|-7   |653     |\n",
            "|01060753|SFO|TUS|4    |653     |\n",
            "|01171055|SFO|TUS|6    |653     |\n",
            "|01171939|SFO|TUS|-3   |653     |\n",
            "|01221055|SFO|TUS|-4   |653     |\n",
            "|01191939|SFO|TUS|1    |653     |\n",
            "|01201055|SFO|TUS|-3   |653     |\n",
            "|01121939|SFO|TUS|-7   |653     |\n",
            "|01091055|SFO|TUS|21   |653     |\n",
            "|01040753|SFO|TUS|-5   |653     |\n",
            "|01101055|SFO|TUS|-1   |653     |\n",
            "|01101939|SFO|TUS|-9   |653     |\n",
            "|01111730|SFO|TUS|87   |653     |\n",
            "|01281939|SFO|TUS|-8   |653     |\n",
            "|01050750|SFO|TUS|-4   |653     |\n",
            "|03051130|SFO|TUS|-8   |653     |\n",
            "|03051813|SFO|TUS|9    |653     |\n",
            "|02091939|SFO|TUS|97   |653     |\n",
            "|02181130|SFO|TUS|-6   |653     |\n",
            "|01061155|SFO|TUS|28   |653     |\n",
            "|03061915|SFO|TUS|-6   |653     |\n",
            "|02031055|SFO|TUS|17   |653     |\n",
            "|02051939|SFO|TUS|-7   |653     |\n",
            "|01311055|SFO|TUS|-5   |653     |\n",
            "|03061215|SFO|TUS|13   |653     |\n",
            "|01151939|SFO|TUS|-1   |653     |\n",
            "|02181813|SFO|TUS|42   |653     |\n",
            "|01051158|SFO|TUS|119  |653     |\n",
            "|03071915|SFO|TUS|55   |653     |\n",
            "|01030753|SFO|TUS|-4   |653     |\n",
            "|01011934|SFO|TUS|5    |653     |\n",
            "|01141939|SFO|TUS|-3   |653     |\n",
            "|03071215|SFO|TUS|-6   |653     |\n",
            "|02101055|SFO|TUS|127  |653     |\n",
            "|02191130|SFO|TUS|-3   |653     |\n",
            "|01211055|SFO|TUS|-3   |653     |\n",
            "|03081915|SFO|TUS|61   |653     |\n",
            "|01151055|SFO|TUS|-4   |653     |\n",
            "|03081215|SFO|TUS|-6   |653     |\n",
            "|02191813|SFO|TUS|-10  |653     |\n",
            "|01031155|SFO|TUS|90   |653     |\n",
            "|03091605|SFO|TUS|-8   |653     |\n",
            "|01161939|SFO|TUS|-6   |653     |\n",
            "|03091915|SFO|TUS|-7   |653     |\n",
            "|02101939|SFO|TUS|30   |653     |\n",
            "|02201130|SFO|TUS|0    |653     |\n",
            "|01031934|SFO|TUS|16   |653     |\n",
            "|03091215|SFO|TUS|-6   |653     |\n",
            "|02051055|SFO|TUS|-9   |653     |\n",
            "|01181730|SFO|TUS|-2   |653     |\n",
            "|03101915|SFO|TUS|-6   |653     |\n",
            "|02201813|SFO|TUS|46   |653     |\n",
            "|01071055|SFO|TUS|4    |653     |\n",
            "|03101215|SFO|TUS|-8   |653     |\n",
            "|01190825|SFO|TUS|-2   |653     |\n",
            "|01020753|SFO|TUS|0    |653     |\n",
            "|03111915|SFO|TUS|-8   |653     |\n",
            "|02111055|SFO|TUS|41   |653     |\n",
            "|02211130|SFO|TUS|-9   |653     |\n",
            "|01071939|SFO|TUS|-2   |653     |\n",
            "|03111215|SFO|TUS|-2   |653     |\n",
            "|01201939|SFO|TUS|-7   |653     |\n",
            "|03121915|SFO|TUS|-7   |653     |\n",
            "|01211939|SFO|TUS|-10  |653     |\n",
            "|02211813|SFO|TUS|90   |653     |\n",
            "|01081939|SFO|TUS|-2   |653     |\n",
            "|03121215|SFO|TUS|28   |653     |\n",
            "|01221939|SFO|TUS|-6   |653     |\n",
            "|03131915|SFO|TUS|-2   |653     |\n",
            "|02111939|SFO|TUS|29   |653     |\n",
            "|02220820|SFO|TUS|-5   |653     |\n",
            "|01091939|SFO|TUS|42   |653     |\n",
            "|03131215|SFO|TUS|-7   |653     |\n",
            "|02031939|SFO|TUS|2    |653     |\n",
            "|02061055|SFO|TUS|4    |653     |\n",
            "|01231055|SFO|TUS|-4   |653     |\n",
            "|03141915|SFO|TUS|-8   |653     |\n",
            "|02221715|SFO|TUS|35   |653     |\n",
            "|01231939|SFO|TUS|24   |653     |\n",
            "|03141215|SFO|TUS|0    |653     |\n",
            "|01011155|SFO|TUS|-1   |653     |\n",
            "|01241055|SFO|TUS|-2   |653     |\n",
            "|01021155|SFO|TUS|0    |653     |\n",
            "|03151915|SFO|TUS|-8   |653     |\n",
            "|02121055|SFO|TUS|20   |653     |\n",
            "|02230800|SFO|TUS|-14  |653     |\n",
            "|01241939|SFO|TUS|-9   |653     |\n",
            "|03151215|SFO|TUS|-11  |653     |\n",
            "|01041155|SFO|TUS|-3   |653     |\n",
            "|01271055|SFO|TUS|2    |653     |\n",
            "|01251730|SFO|TUS|-4   |653     |\n",
            "|03161605|SFO|TUS|22   |653     |\n",
            "|02231815|SFO|TUS|3    |653     |\n",
            "|01260825|SFO|TUS|0    |653     |\n",
            "|03161915|SFO|TUS|-4   |653     |\n",
            "|01261939|SFO|TUS|8    |653     |\n",
            "|03161215|SFO|TUS|-3   |653     |\n",
            "|02131130|SFO|TUS|10   |653     |\n",
            "|02241130|SFO|TUS|-3   |653     |\n",
            "|01281055|SFO|TUS|21   |653     |\n",
            "|03171915|SFO|TUS|-9   |653     |\n",
            "|01271939|SFO|TUS|30   |653     |\n",
            "|02061939|SFO|TUS|8    |653     |\n",
            "|01041934|SFO|TUS|0    |653     |\n",
            "|03171215|SFO|TUS|64   |653     |\n",
            "|02241813|SFO|TUS|28   |653     |\n",
            "|01021934|SFO|TUS|18   |653     |\n",
            "|03181915|SFO|TUS|-9   |653     |\n",
            "|01291939|SFO|TUS|14   |653     |\n",
            "|01120825|SFO|TUS|-4   |653     |\n",
            "|03181215|SFO|TUS|112  |653     |\n",
            "|02131813|SFO|TUS|52   |653     |\n",
            "|02251130|SFO|TUS|-10  |653     |\n",
            "|01291055|SFO|TUS|33   |653     |\n",
            "|03191915|SFO|TUS|72   |653     |\n",
            "|01131055|SFO|TUS|-14  |653     |\n",
            "|01301939|SFO|TUS|-3   |653     |\n",
            "|01301055|SFO|TUS|0    |653     |\n",
            "|03191215|SFO|TUS|-1   |653     |\n",
            "|02251813|SFO|TUS|8    |653     |\n",
            "|03201915|SFO|TUS|-2   |653     |\n",
            "|03201215|SFO|TUS|-2   |653     |\n",
            "|02141130|SFO|TUS|-12  |653     |\n",
            "|02261130|SFO|TUS|3    |653     |\n",
            "|03211915|SFO|TUS|-7   |653     |\n",
            "|02041055|SFO|TUS|-5   |653     |\n",
            "|02071055|SFO|TUS|37   |653     |\n",
            "|03211215|SFO|TUS|4    |653     |\n",
            "|02261813|SFO|TUS|68   |653     |\n",
            "|03221915|SFO|TUS|-10  |653     |\n",
            "|03221215|SFO|TUS|-2   |653     |\n",
            "|02141813|SFO|TUS|16   |653     |\n",
            "|02271130|SFO|TUS|-4   |653     |\n",
            "|03231605|SFO|TUS|42   |653     |\n",
            "|03231915|SFO|TUS|-2   |653     |\n",
            "|02271813|SFO|TUS|152  |653     |\n",
            "|03231215|SFO|TUS|35   |653     |\n",
            "|03241915|SFO|TUS|-6   |653     |\n",
            "|02150820|SFO|TUS|55   |653     |\n",
            "|02281130|SFO|TUS|42   |653     |\n",
            "|03241215|SFO|TUS|-6   |653     |\n",
            "|02071939|SFO|TUS|-4   |653     |\n",
            "|03251915|SFO|TUS|28   |653     |\n",
            "|02281813|SFO|TUS|108  |653     |\n",
            "|03251215|SFO|TUS|42   |653     |\n",
            "|03261915|SFO|TUS|18   |653     |\n",
            "|02151715|SFO|TUS|2    |653     |\n",
            "|03010820|SFO|TUS|-5   |653     |\n",
            "|03261215|SFO|TUS|61   |653     |\n",
            "|03271915|SFO|TUS|-8   |653     |\n",
            "|03011715|SFO|TUS|50   |653     |\n",
            "|03271215|SFO|TUS|37   |653     |\n",
            "|03281915|SFO|TUS|-11  |653     |\n",
            "|02160800|SFO|TUS|5    |653     |\n",
            "|03021650|SFO|TUS|14   |653     |\n",
            "|03281215|SFO|TUS|-7   |653     |\n",
            "|02081730|SFO|TUS|63   |653     |\n",
            "|03291915|SFO|TUS|-7   |653     |\n",
            "|03020800|SFO|TUS|0    |653     |\n",
            "|03291215|SFO|TUS|89   |653     |\n",
            "|03301605|SFO|TUS|126  |653     |\n",
            "|02161815|SFO|TUS|61   |653     |\n",
            "|03021815|SFO|TUS|0    |653     |\n",
            "|03301915|SFO|TUS|4    |653     |\n",
            "|03301215|SFO|TUS|-5   |653     |\n",
            "|03031130|SFO|TUS|-8   |653     |\n",
            "|03311915|SFO|TUS|0    |653     |\n",
            "|03311215|SFO|TUS|-10  |653     |\n",
            "|02021939|SFO|TUS|168  |653     |\n",
            "|02171130|SFO|TUS|28   |653     |\n",
            "|03031813|SFO|TUS|68   |653     |\n",
            "|03041130|SFO|TUS|-3   |653     |\n",
            "|02041939|SFO|TUS|-7   |653     |\n",
            "|02090825|SFO|TUS|-6   |653     |\n",
            "|03041813|SFO|TUS|-7   |653     |\n",
            "|02011730|SFO|TUS|0    |653     |\n",
            "|02171813|SFO|TUS|57   |653     |\n",
            "|01131939|SFO|TUS|2    |653     |\n",
            "|01301040|SFO|SUN|87   |510     |\n",
            "|01211040|SFO|SUN|10   |510     |\n",
            "|01041040|SFO|SUN|226  |510     |\n",
            "|01131040|SFO|SUN|-10  |510     |\n",
            "|02261040|SFO|SUN|34   |510     |\n",
            "|03051040|SFO|SUN|-3   |510     |\n",
            "|02091040|SFO|SUN|10   |510     |\n",
            "|01031040|SFO|SUN|6    |510     |\n",
            "|01081040|SFO|SUN|53   |510     |\n",
            "|01111040|SFO|SUN|-2   |510     |\n",
            "|02241040|SFO|SUN|-7   |510     |\n",
            "|01201040|SFO|SUN|6    |510     |\n",
            "|03041040|SFO|SUN|61   |510     |\n",
            "|01291040|SFO|SUN|-4   |510     |\n",
            "|03151040|SFO|SUN|32   |510     |\n",
            "|02101040|SFO|SUN|4    |510     |\n",
            "|01021040|SFO|SUN|-7   |510     |\n",
            "|02121040|SFO|SUN|92   |510     |\n",
            "|01121040|SFO|SUN|-1   |510     |\n",
            "|02171040|SFO|SUN|4    |510     |\n",
            "|02181040|SFO|SUN|-6   |510     |\n",
            "|01071040|SFO|SUN|44   |510     |\n",
            "|02221040|SFO|SUN|-9   |510     |\n",
            "|02251040|SFO|SUN|28   |510     |\n",
            "|01181040|SFO|SUN|9    |510     |\n",
            "|01171040|SFO|SUN|-7   |510     |\n",
            "|03021040|SFO|SUN|32   |510     |\n",
            "|01251040|SFO|SUN|-2   |510     |\n",
            "|03081040|SFO|SUN|6    |510     |\n",
            "|01281040|SFO|SUN|-8   |510     |\n",
            "|03131040|SFO|SUN|5    |510     |\n",
            "|01311040|SFO|SUN|131  |510     |\n",
            "|03211040|SFO|SUN|-3   |510     |\n",
            "|02111040|SFO|SUN|169  |510     |\n",
            "|02131040|SFO|SUN|162  |510     |\n",
            "|02141040|SFO|SUN|46   |510     |\n",
            "|02151040|SFO|SUN|17   |510     |\n",
            "|02161040|SFO|SUN|0    |510     |\n",
            "|01061040|SFO|SUN|-8   |510     |\n",
            "|02201040|SFO|SUN|1    |510     |\n",
            "|01101040|SFO|SUN|21   |510     |\n",
            "|01141040|SFO|SUN|0    |510     |\n",
            "|01151040|SFO|SUN|-3   |510     |\n",
            "|02281040|SFO|SUN|-4   |510     |\n",
            "|01161040|SFO|SUN|-2   |510     |\n",
            "|03031040|SFO|SUN|202  |510     |\n",
            "|01221040|SFO|SUN|-10  |510     |\n",
            "|03071040|SFO|SUN|-1   |510     |\n",
            "|03091040|SFO|SUN|-2   |510     |\n",
            "|01241040|SFO|SUN|0    |510     |\n",
            "|01261040|SFO|SUN|125  |510     |\n",
            "|03111040|SFO|SUN|58   |510     |\n",
            "|03141040|SFO|SUN|3    |510     |\n",
            "|01011030|SFO|SUN|-4   |510     |\n",
            "|03161040|SFO|SUN|-2   |510     |\n",
            "|03181040|SFO|SUN|-3   |510     |\n",
            "|03191040|SFO|SUN|0    |510     |\n",
            "|03201040|SFO|SUN|8    |510     |\n",
            "|03221040|SFO|SUN|-12  |510     |\n",
            "|03231040|SFO|SUN|37   |510     |\n",
            "|03241040|SFO|SUN|-4   |510     |\n",
            "|03291040|SFO|SUN|0    |510     |\n",
            "|03301040|SFO|SUN|19   |510     |\n",
            "|02011040|SFO|SUN|-2   |510     |\n",
            "|02081040|SFO|SUN|6    |510     |\n",
            "|02021040|SFO|SUN|0    |510     |\n",
            "|02061040|SFO|SUN|-1   |510     |\n",
            "|02071040|SFO|SUN|3    |510     |\n",
            "|02191040|SFO|SUN|0    |510     |\n",
            "|01051040|SFO|SUN|46   |510     |\n",
            "|02211040|SFO|SUN|51   |510     |\n",
            "|02231040|SFO|SUN|19   |510     |\n",
            "|01091040|SFO|SUN|-15  |510     |\n",
            "|02271040|SFO|SUN|16   |510     |\n",
            "|03011040|SFO|SUN|31   |510     |\n",
            "|01191040|SFO|SUN|-9   |510     |\n",
            "|03061040|SFO|SUN|33   |510     |\n",
            "|01231040|SFO|SUN|3    |510     |\n",
            "|03101040|SFO|SUN|-5   |510     |\n",
            "|01271040|SFO|SUN|83   |510     |\n",
            "|03171040|SFO|SUN|-2   |510     |\n",
            "|03251040|SFO|SUN|63   |510     |\n",
            "|03261040|SFO|SUN|-3   |510     |\n",
            "|03271040|SFO|SUN|-4   |510     |\n",
            "|03281040|SFO|SUN|-7   |510     |\n",
            "|03121040|SFO|SUN|52   |510     |\n",
            "|02031040|SFO|SUN|39   |510     |\n",
            "|02041040|SFO|SUN|3    |510     |\n",
            "|02051040|SFO|SUN|-4   |510     |\n",
            "|02031227|SFO|STL|-2   |1508    |\n",
            "|01201227|SFO|STL|-5   |1508    |\n",
            "|02061227|SFO|STL|43   |1508    |\n",
            "|01061220|SFO|STL|30   |1508    |\n",
            "|01241227|SFO|STL|-3   |1508    |\n",
            "|01051220|SFO|STL|0    |1508    |\n",
            "|01091227|SFO|STL|-7   |1508    |\n",
            "|01131227|SFO|STL|0    |1508    |\n",
            "|01231227|SFO|STL|-8   |1508    |\n",
            "|01011220|SFO|STL|3    |1508    |\n",
            "|01031220|SFO|STL|29   |1508    |\n",
            "|01041220|SFO|STL|73   |1508    |\n",
            "|01121227|SFO|STL|2    |1508    |\n",
            "|01101227|SFO|STL|11   |1508    |\n",
            "|01191227|SFO|STL|-2   |1508    |\n",
            "|02071227|SFO|STL|51   |1508    |\n",
            "|01271227|SFO|STL|26   |1508    |\n",
            "|01301227|SFO|STL|4    |1508    |\n",
            "|01311227|SFO|STL|1    |1508    |\n",
            "|02131246|SFO|STL|8    |1508    |\n",
            "|02231246|SFO|STL|-3   |1508    |\n",
            "|01021220|SFO|STL|29   |1508    |\n",
            "|01161227|SFO|STL|2    |1508    |\n",
            "|01171227|SFO|STL|-5   |1508    |\n",
            "|02091227|SFO|STL|-4   |1508    |\n",
            "|01261227|SFO|STL|7    |1508    |\n",
            "|02101227|SFO|STL|307  |1508    |\n",
            "|02141246|SFO|STL|17   |1508    |\n",
            "|02161246|SFO|STL|23   |1508    |\n",
            "|02171246|SFO|STL|-4   |1508    |\n",
            "|02261246|SFO|STL|234  |1508    |\n",
            "|02281246|SFO|STL|44   |1508    |\n",
            "|03071230|SFO|STL|-9   |1508    |\n",
            "|03101230|SFO|STL|-4   |1508    |\n",
            "|03171230|SFO|STL|21   |1508    |\n",
            "|02241246|SFO|STL|38   |1508    |\n",
            "|03201230|SFO|STL|-5   |1508    |\n",
            "|03261230|SFO|STL|-3   |1508    |\n",
            "|03241230|SFO|STL|5    |1508    |\n",
            "|02021227|SFO|STL|-7   |1508    |\n",
            "|02191246|SFO|STL|-6   |1508    |\n",
            "|02201246|SFO|STL|51   |1508    |\n",
            "|02211246|SFO|STL|-6   |1508    |\n",
            "|02271246|SFO|STL|75   |1508    |\n",
            "|03021246|SFO|STL|30   |1508    |\n",
            "|03031246|SFO|STL|-2   |1508    |\n",
            "|03051246|SFO|STL|-4   |1508    |\n",
            "|03061230|SFO|STL|-7   |1508    |\n",
            "|03081304|SFO|STL|-5   |1508    |\n",
            "|03091230|SFO|STL|3    |1508    |\n",
            "|03121230|SFO|STL|1    |1508    |\n",
            "|03131230|SFO|STL|-8   |1508    |\n",
            "|03141230|SFO|STL|10   |1508    |\n",
            "|03161230|SFO|STL|-2   |1508    |\n",
            "|03191230|SFO|STL|65   |1508    |\n",
            "|03211230|SFO|STL|-5   |1508    |\n",
            "|03221300|SFO|STL|14   |1508    |\n",
            "|03231230|SFO|STL|26   |1508    |\n",
            "|03151300|SFO|STL|7    |1508    |\n",
            "|03271230|SFO|STL|7    |1508    |\n",
            "|03281230|SFO|STL|13   |1508    |\n",
            "|03301230|SFO|STL|-2   |1508    |\n",
            "|03291304|SFO|STL|62   |1508    |\n",
            "|03311229|SFO|STL|39   |1508    |\n",
            "|03260841|SFO|SNA|-3   |323     |\n",
            "|02130640|SFO|SNA|-5   |323     |\n",
            "|02111603|SFO|SNA|-1   |323     |\n",
            "|03260733|SFO|SNA|-6   |323     |\n",
            "|02161825|SFO|SNA|-1   |323     |\n",
            "|02180733|SFO|SNA|38   |323     |\n",
            "|02141455|SFO|SNA|208  |323     |\n",
            "|02070846|SFO|SNA|0    |323     |\n",
            "|02221410|SFO|SNA|5    |323     |\n",
            "|02111922|SFO|SNA|-3   |323     |\n",
            "|02141930|SFO|SNA|-2   |323     |\n",
            "|02271632|SFO|SNA|32   |323     |\n",
            "|02171455|SFO|SNA|27   |323     |\n",
            "|02190950|SFO|SNA|-4   |323     |\n",
            "|03300822|SFO|SNA|27   |323     |\n",
            "|02250950|SFO|SNA|19   |323     |\n",
            "|02040734|SFO|SNA|-5   |323     |\n",
            "|02121315|SFO|SNA|7    |323     |\n",
            "|03160822|SFO|SNA|-7   |323     |\n",
            "|02162057|SFO|SNA|-4   |323     |\n",
            "|02140950|SFO|SNA|6    |323     |\n",
            "|02140640|SFO|SNA|-6   |323     |\n",
            "|02280733|SFO|SNA|0    |323     |\n",
            "|02181455|SFO|SNA|13   |323     |\n",
            "|03281635|SFO|SNA|5    |323     |\n",
            "|02200640|SFO|SNA|14   |323     |\n",
            "|02220725|SFO|SNA|-2   |323     |\n",
            "|03081046|SFO|SNA|-1   |323     |\n",
            "|03091050|SFO|SNA|-1   |323     |\n",
            "|02260640|SFO|SNA|-8   |323     |\n",
            "|02281455|SFO|SNA|0    |323     |\n",
            "|02121036|SFO|SNA|7    |323     |\n",
            "|03150841|SFO|SNA|16   |323     |\n",
            "|02071608|SFO|SNA|0    |323     |\n",
            "|02142057|SFO|SNA|4    |323     |\n",
            "|02151048|SFO|SNA|0    |323     |\n",
            "|02190733|SFO|SNA|13   |323     |\n",
            "|02171930|SFO|SNA|14   |323     |\n",
            "|02280846|SFO|SNA|0    |323     |\n",
            "|03261635|SFO|SNA|91   |323     |\n",
            "|02150725|SFO|SNA|-2   |323     |\n",
            "|02170950|SFO|SNA|-1   |323     |\n",
            "|02281632|SFO|SNA|0    |323     |\n",
            "|02180640|SFO|SNA|-5   |323     |\n",
            "|02190640|SFO|SNA|-6   |323     |\n",
            "|02201455|SFO|SNA|10   |323     |\n",
            "|02021036|SFO|SNA|11   |323     |\n",
            "|02210950|SFO|SNA|0    |323     |\n",
            "|03300733|SFO|SNA|-1   |323     |\n",
            "|02231455|SFO|SNA|4    |323     |\n",
            "|02050734|SFO|SNA|4    |323     |\n",
            "|02240640|SFO|SNA|-6   |323     |\n",
            "|02250640|SFO|SNA|0    |323     |\n",
            "|02261455|SFO|SNA|0    |323     |\n",
            "|03102104|SFO|SNA|-5   |323     |\n",
            "|02270950|SFO|SNA|0    |323     |\n",
            "|03111050|SFO|SNA|-7   |323     |\n",
            "|02280640|SFO|SNA|-3   |323     |\n",
            "|03141635|SFO|SNA|19   |323     |\n",
            "|02121603|SFO|SNA|67   |323     |\n",
            "|02090734|SFO|SNA|11   |323     |\n",
            "|02131048|SFO|SNA|0    |323     |\n",
            "|02190846|SFO|SNA|-2   |323     |\n",
            "|02131252|SFO|SNA|0    |323     |\n",
            "|02102059|SFO|SNA|-4   |323     |\n",
            "|02191632|SFO|SNA|-4   |323     |\n",
            "|02191500|SFO|SNA|42   |323     |\n",
            "|02150830|SFO|SNA|1    |323     |\n",
            "|02031608|SFO|SNA|2    |323     |\n",
            "|02161252|SFO|SNA|19   |323     |\n",
            "|03170841|SFO|SNA|7    |323     |\n",
            "|02172057|SFO|SNA|-2   |323     |\n",
            "|02151410|SFO|SNA|20   |323     |\n",
            "|02021608|SFO|SNA|59   |323     |\n",
            "|02161455|SFO|SNA|-4   |323     |\n",
            "|03271635|SFO|SNA|-7   |323     |\n",
            "|02170640|SFO|SNA|28   |323     |\n",
            "|02180950|SFO|SNA|2    |323     |\n",
            "|02011315|SFO|SNA|0    |323     |\n",
            "|02191455|SFO|SNA|28   |323     |\n",
            "|02011922|SFO|SNA|-7   |323     |\n",
            "|03290841|SFO|SNA|39   |323     |\n",
            "|02200950|SFO|SNA|-5   |323     |\n",
            "|02211455|SFO|SNA|62   |323     |\n",
            "|02021320|SFO|SNA|6    |323     |\n",
            "|02210640|SFO|SNA|-5   |323     |\n",
            "|02031313|SFO|SNA|5    |323     |\n",
            "|02231825|SFO|SNA|8    |323     |\n",
            "|03241915|SFO|SNA|-5   |323     |\n",
            "|03091921|SFO|SNA|12   |323     |\n",
            "|02251455|SFO|SNA|27   |323     |\n",
            "|03092104|SFO|SNA|39   |323     |\n",
            "|02051603|SFO|SNA|1    |323     |\n",
            "|02260950|SFO|SNA|0    |323     |\n",
            "|02271455|SFO|SNA|129  |323     |\n",
            "|03101251|SFO|SNA|4    |323     |\n",
            "|02270640|SFO|SNA|-6   |323     |\n",
            "|02280950|SFO|SNA|0    |323     |\n",
            "|03112104|SFO|SNA|-12  |323     |\n",
            "|02240733|SFO|SNA|-1   |323     |\n",
            "|02081608|SFO|SNA|0    |323     |\n",
            "|03011625|SFO|SNA|8    |323     |\n",
            "|02020734|SFO|SNA|6    |323     |\n",
            "|02010846|SFO|SNA|44   |323     |\n",
            "|02061036|SFO|SNA|17   |323     |\n",
            "|03030846|SFO|SNA|-2   |323     |\n",
            "|03030733|SFO|SNA|4    |323     |\n",
            "|02181500|SFO|SNA|96   |323     |\n",
            "|03040846|SFO|SNA|34   |323     |\n",
            "|03041632|SFO|SNA|35   |323     |\n",
            "|02101608|SFO|SNA|10   |323     |\n",
            "|03151715|SFO|SNA|-2   |323     |\n",
            "|03141050|SFO|SNA|29   |323     |\n",
            "|03051500|SFO|SNA|-3   |323     |\n",
            "|02111508|SFO|SNA|17   |323     |\n",
            "|03060841|SFO|SNA|7    |323     |\n",
            "|03060733|SFO|SNA|-5   |323     |\n",
            "|02120841|SFO|SNA|-4   |323     |\n",
            "|03070841|SFO|SNA|0    |323     |\n",
            "|03160733|SFO|SNA|-3   |323     |\n",
            "|03161921|SFO|SNA|-2   |323     |\n",
            "|02030734|SFO|SNA|4    |323     |\n",
            "|02131632|SFO|SNA|26   |323     |\n",
            "|02200846|SFO|SNA|5    |323     |\n",
            "|02200733|SFO|SNA|-1   |323     |\n",
            "|03270841|SFO|SNA|0    |323     |\n",
            "|03270733|SFO|SNA|-9   |323     |\n",
            "|03280841|SFO|SNA|6    |323     |\n",
            "|03280733|SFO|SNA|-4   |323     |\n",
            "|02011036|SFO|SNA|11   |323     |\n",
            "|02021922|SFO|SNA|-4   |323     |\n",
            "|03291715|SFO|SNA|26   |323     |\n",
            "|02031036|SFO|SNA|-5   |323     |\n",
            "|02031922|SFO|SNA|95   |323     |\n",
            "|02052059|SFO|SNA|-4   |323     |\n",
            "|03091250|SFO|SNA|-3   |323     |\n",
            "|03102015|SFO|SNA|-9   |323     |\n",
            "|03101050|SFO|SNA|3    |323     |\n",
            "|03112015|SFO|SNA|-8   |323     |\n",
            "|03111251|SFO|SNA|-6   |323     |\n",
            "|02051922|SFO|SNA|0    |323     |\n",
            "|03122015|SFO|SNA|-5   |323     |\n",
            "|03121050|SFO|SNA|5    |323     |\n",
            "|03121250|SFO|SNA|13   |323     |\n",
            "|03020733|SFO|SNA|-4   |323     |\n",
            "|03122104|SFO|SNA|-6   |323     |\n",
            "|03132015|SFO|SNA|2    |323     |\n",
            "|03132104|SFO|SNA|2    |323     |\n",
            "|02100846|SFO|SNA|-7   |323     |\n",
            "|03131050|SFO|SNA|-1   |323     |\n",
            "|03131251|SFO|SNA|0    |323     |\n",
            "|02061923|SFO|SNA|63   |323     |\n",
            "|03142015|SFO|SNA|-7   |323     |\n",
            "|03041500|SFO|SNA|7    |323     |\n",
            "|03142104|SFO|SNA|2    |323     |\n",
            "|03141251|SFO|SNA|71   |323     |\n",
            "|03151046|SFO|SNA|-7   |323     |\n",
            "|03152000|SFO|SNA|-8   |323     |\n",
            "|02061315|SFO|SNA|9    |323     |\n",
            "|03161250|SFO|SNA|6    |323     |\n",
            "|03162104|SFO|SNA|-3   |323     |\n",
            "|03070733|SFO|SNA|23   |323     |\n",
            "|02071036|SFO|SNA|1    |323     |\n",
            "+--------+---+---+-----+--------+\n",
            "only showing top 500 rows\n",
            "\n"
          ]
        }
      ],
      "source": [
        "OutgoingFrom_SFO.show(500,truncate=False)"
      ],
      "id": "PK323LF-Jvxn"
    },
    {
      "cell_type": "markdown",
      "metadata": {
        "id": "fbec58ce"
      },
      "source": [
        "### Use motif finding to answer this question: which delays could we blame on SFO?\n",
        "#### Hint: this practically means that SFO is a transit station"
      ],
      "id": "fbec58ce"
    },
    {
      "cell_type": "code",
      "execution_count": 38,
      "metadata": {
        "colab": {
          "base_uri": "https://localhost:8080/"
        },
        "id": "db17f3df",
        "outputId": "b821727e-94e2-47cd-c5c6-206a5d3b3d61"
      },
      "outputs": [
        {
          "output_type": "stream",
          "name": "stdout",
          "text": [
            "+---+---+---+-----+\n",
            "|src|dst|dst|delay|\n",
            "+---+---+---+-----+\n",
            "|ABQ|SFO|IAH|99   |\n",
            "|ABQ|SFO|JFK|99   |\n",
            "|ABQ|SFO|BOS|99   |\n",
            "|ABQ|SFO|MIA|99   |\n",
            "|ABQ|SFO|DEN|99   |\n",
            "|ABQ|SFO|SEA|99   |\n",
            "|ABQ|SFO|LAX|99   |\n",
            "|ABQ|SFO|LAX|99   |\n",
            "|ABQ|SFO|PDX|99   |\n",
            "|ABQ|SFO|AUS|99   |\n",
            "|ABQ|SFO|RDD|99   |\n",
            "|ABQ|SFO|DEN|99   |\n",
            "|ABQ|SFO|SBP|99   |\n",
            "|ABQ|SFO|SMF|99   |\n",
            "|ABQ|SFO|BOI|99   |\n",
            "|ABQ|SFO|JAC|99   |\n",
            "|ABQ|SFO|JFK|99   |\n",
            "|ABQ|SFO|LAX|99   |\n",
            "|ABQ|SFO|AUS|99   |\n",
            "|ABQ|SFO|MIA|99   |\n",
            "+---+---+---+-----+\n",
            "only showing top 20 rows\n",
            "\n"
          ]
        }
      ],
      "source": [
        "GraphDF.find(\"()-[e]->(v2);(v2)-[e2]->()\")\\\n",
        "  .filter(\"e.dst = 'SFO'\").filter(\"e2.delay > 0\").select(\"e.src\",\"e.dst\",\"e2.dst\",\"e2.delay\").orderBy(\"delay\",ascending=False).show(truncate=False)"
      ],
      "id": "db17f3df"
    },
    {
      "cell_type": "markdown",
      "metadata": {
        "id": "cc1ece96"
      },
      "source": [
        "### Determine Airport Ranking in Desc. order using PageRank algorithm"
      ],
      "id": "cc1ece96"
    },
    {
      "cell_type": "code",
      "execution_count": 39,
      "metadata": {
        "id": "f754d545"
      },
      "outputs": [],
      "source": [
        "results = GraphDF.pageRank(resetProbability=0.15, maxIter=5)"
      ],
      "id": "f754d545"
    },
    {
      "cell_type": "code",
      "execution_count": 40,
      "metadata": {
        "colab": {
          "base_uri": "https://localhost:8080/"
        },
        "id": "3-IP9ryDRWCy",
        "outputId": "64bc005e-f7c2-4b19-b39b-e6b7d5fca9ee"
      },
      "outputs": [
        {
          "output_type": "stream",
          "name": "stdout",
          "text": [
            "+--------------+-----+-------+---+------------------+\n",
            "|          City|State|Country| id|          pagerank|\n",
            "+--------------+-----+-------+---+------------------+\n",
            "|       Atlanta|   GA|    USA|ATL|30.852689637281415|\n",
            "|        Dallas|   TX|    USA|DFW| 22.35090825185797|\n",
            "|       Chicago|   IL|    USA|ORD|21.476110490648225|\n",
            "|        Denver|   CO|    USA|DEN|15.864147080276451|\n",
            "|   Los Angeles|   CA|    USA|LAX|14.200409160093676|\n",
            "|       Houston|   TX|    USA|IAH|13.038206739080561|\n",
            "| San Francisco|   CA|    USA|SFO|11.262952692947371|\n",
            "|       Phoenix|   AZ|    USA|PHX| 10.61464841238288|\n",
            "|Salt Lake City|   UT|    USA|SLC|  9.46228920900108|\n",
            "|     Las Vegas|   NV|    USA|LAS| 8.571473320234631|\n",
            "|       Seattle|   WA|    USA|SEA| 7.548959663023094|\n",
            "|        Newark|   NJ|    USA|EWR| 7.180791090543533|\n",
            "|       Orlando|   FL|    USA|MCO| 7.160926547658392|\n",
            "|     Charlotte|   NC|    USA|CLT| 7.143654438927901|\n",
            "|       Detroit|   MI|    USA|DTW| 6.890631890038128|\n",
            "|   Minneapolis|   MN|    USA|MSP|6.7692888436047465|\n",
            "|      New York|   NY|    USA|LGA| 6.737391483201898|\n",
            "|        Boston|   MA|    USA|BOS| 6.219575898669399|\n",
            "|     Baltimore|   MD|    USA|BWI| 5.761252754817864|\n",
            "|      New York|   NY|    USA|JFK|   5.7462085111883|\n",
            "+--------------+-----+-------+---+------------------+\n",
            "only showing top 20 rows\n",
            "\n",
            "+--------+-----+--------+---+---+--------------------+\n",
            "|  tripid|delay|distance|src|dst|              weight|\n",
            "+--------+-----+--------+---+---+--------------------+\n",
            "|01111105|   -1|     246|GFK|MSP|  0.3333333333333333|\n",
            "|01111105|   -1|     246|GFK|MSP|  0.3333333333333333|\n",
            "|01030800|  -12|     246|GFK|MSP|  0.3333333333333333|\n",
            "|01111700|   -3|     246|GFK|MSP|  0.3333333333333333|\n",
            "|01111105|   -1|     246|GFK|MSP|  0.3333333333333333|\n",
            "|01030800|  -12|     246|GFK|MSP|  0.3333333333333333|\n",
            "|01111700|   -3|     246|GFK|MSP|  0.3333333333333333|\n",
            "|01111700|   -3|     246|GFK|MSP|  0.3333333333333333|\n",
            "|01030800|  -12|     246|GFK|MSP|  0.3333333333333333|\n",
            "|01050745|    0|     263|MQT|ORD|0.012987012987012988|\n",
            "|01120745|   47|     263|MQT|ORD|0.012987012987012988|\n",
            "|01210745|    1|     263|MQT|ORD|0.012987012987012988|\n",
            "|01090745|   92|     263|MQT|ORD|0.012987012987012988|\n",
            "|01160745|   -2|     263|MQT|ORD|0.012987012987012988|\n",
            "|01200745|   -5|     263|MQT|ORD|0.012987012987012988|\n",
            "|01080745|   -3|     263|MQT|ORD|0.012987012987012988|\n",
            "|01100745|  111|     263|MQT|ORD|0.012987012987012988|\n",
            "|01140745|   -6|     263|MQT|ORD|0.012987012987012988|\n",
            "|01150745|   56|     263|MQT|ORD|0.012987012987012988|\n",
            "|01170745|  180|     263|MQT|ORD|0.012987012987012988|\n",
            "+--------+-----+--------+---+---+--------------------+\n",
            "only showing top 20 rows\n",
            "\n"
          ]
        }
      ],
      "source": [
        "results.vertices.orderBy('pagerank',ascending=False).show()\n",
        "results.edges.orderBy('weight',ascending=False).show()"
      ],
      "id": "3-IP9ryDRWCy"
    },
    {
      "cell_type": "markdown",
      "metadata": {
        "id": "fe1e7648"
      },
      "source": [
        "## Determine the most popular flights (single city hops)"
      ],
      "id": "fe1e7648"
    },
    {
      "cell_type": "code",
      "execution_count": 41,
      "metadata": {
        "colab": {
          "base_uri": "https://localhost:8080/"
        },
        "id": "da4b3306",
        "outputId": "e47633c5-757e-4332-dae9-188b3173c174"
      },
      "outputs": [
        {
          "output_type": "execute_result",
          "data": {
            "text/plain": [
              "[Row(City='Atlanta', flights numbers=90434)]"
            ]
          },
          "metadata": {},
          "execution_count": 41
        }
      ],
      "source": [
        "GraphDF.find(\"()-[e]->(v2)\")\\\n",
        "   .groupBy(\"v2.City\").agg(funs.count('e.tripid').alias(\"flights numbers\")).orderBy('flights numbers',ascending=False).take(1)"
      ],
      "id": "da4b3306"
    },
    {
      "cell_type": "code",
      "source": [
        "#if you mean most popular flights (from same source to same destination)\n",
        "GraphDF.edges.groupBy(\"src\", \"dst\").agg(count(\"tripid\")).orderBy(\"count(tripid)\",ascending=False).show(10)"
      ],
      "metadata": {
        "colab": {
          "base_uri": "https://localhost:8080/"
        },
        "id": "xu8_233QFpak",
        "outputId": "73b94ae9-0916-4e25-db57-25d730d77635"
      },
      "id": "xu8_233QFpak",
      "execution_count": 42,
      "outputs": [
        {
          "output_type": "stream",
          "name": "stdout",
          "text": [
            "+---+---+-------------+\n",
            "|src|dst|count(tripid)|\n",
            "+---+---+-------------+\n",
            "|SFO|LAX|         3232|\n",
            "|LAX|SFO|         3198|\n",
            "|LAS|LAX|         3016|\n",
            "|LAX|LAS|         2964|\n",
            "|JFK|LAX|         2720|\n",
            "|LAX|JFK|         2719|\n",
            "|ATL|LGA|         2501|\n",
            "|LGA|ATL|         2500|\n",
            "|LAX|PHX|         2394|\n",
            "|PHX|LAX|         2387|\n",
            "+---+---+-------------+\n",
            "only showing top 10 rows\n",
            "\n"
          ]
        }
      ]
    },
    {
      "cell_type": "markdown",
      "metadata": {
        "id": "8ebb5e18"
      },
      "source": [
        "### Find and Save a Subragph that obtained from the following pattern:\n",
        "#### The flight starts from an airport and return back to the same airport through 2 other airports."
      ],
      "id": "8ebb5e18"
    },
    {
      "cell_type": "code",
      "source": [
        "#Create a new small graph with 30%\n",
        "sample_edgesDF=GraphDF.edges.sample(withReplacement=False, fraction=0.3)\n",
        "sample_verticesDF= GraphDF.vertices.sample(withReplacement=False, fraction=0.3)\n",
        "subGraph=GraphFrame(sample_verticesDF, sample_edgesDF)\n"
      ],
      "metadata": {
        "id": "V7z3DNErQtsF"
      },
      "id": "V7z3DNErQtsF",
      "execution_count": 43,
      "outputs": []
    },
    {
      "cell_type": "code",
      "source": [
        "subGraphWithPattern=subGraph.find(\"(v1)-[e1]->(v2); (v2)-[e2]->(v3); (v3)-[e3]->(v1)\")"
      ],
      "metadata": {
        "id": "DoyqzKS0SCEb"
      },
      "id": "DoyqzKS0SCEb",
      "execution_count": 44,
      "outputs": []
    },
    {
      "cell_type": "code",
      "source": [
        "subGraphWithPattern.show(truncate=False)"
      ],
      "metadata": {
        "colab": {
          "base_uri": "https://localhost:8080/"
        },
        "id": "-d4E5DtXShwo",
        "outputId": "9a8d4447-170d-47e4-f604-875c27fab1a8"
      },
      "id": "-d4E5DtXShwo",
      "execution_count": 45,
      "outputs": [
        {
          "output_type": "stream",
          "name": "stdout",
          "text": [
            "+---------------------------+-----------------------------+---------------------------+------------------------------+-----------------------+-----------------------------+\n",
            "|v1                         |e1                           |v2                         |e2                            |v3                     |e3                           |\n",
            "+---------------------------+-----------------------------+---------------------------+------------------------------+-----------------------+-----------------------------+\n",
            "|[Albuquerque, NM, USA, ABQ]|[01021440, -4, 852, ABQ, MSP]|[Minneapolis, MN, USA, MSP]|[03311005, -4, 1109, MSP, PHX]|[Phoenix, AZ, USA, PHX]|[03312130, 20, 285, PHX, ABQ]|\n",
            "|[Albuquerque, NM, USA, ABQ]|[01021440, -4, 852, ABQ, MSP]|[Minneapolis, MN, USA, MSP]|[03311005, -4, 1109, MSP, PHX]|[Phoenix, AZ, USA, PHX]|[03311740, 74, 285, PHX, ABQ]|\n",
            "|[Albuquerque, NM, USA, ABQ]|[01021440, -4, 852, ABQ, MSP]|[Minneapolis, MN, USA, MSP]|[03311005, -4, 1109, MSP, PHX]|[Phoenix, AZ, USA, PHX]|[03301435, 25, 285, PHX, ABQ]|\n",
            "|[Albuquerque, NM, USA, ABQ]|[01021440, -4, 852, ABQ, MSP]|[Minneapolis, MN, USA, MSP]|[03311005, -4, 1109, MSP, PHX]|[Phoenix, AZ, USA, PHX]|[03291600, 73, 285, PHX, ABQ]|\n",
            "|[Albuquerque, NM, USA, ABQ]|[01021440, -4, 852, ABQ, MSP]|[Minneapolis, MN, USA, MSP]|[03311005, -4, 1109, MSP, PHX]|[Phoenix, AZ, USA, PHX]|[03281340, 8, 285, PHX, ABQ] |\n",
            "|[Albuquerque, NM, USA, ABQ]|[01021440, -4, 852, ABQ, MSP]|[Minneapolis, MN, USA, MSP]|[03311005, -4, 1109, MSP, PHX]|[Phoenix, AZ, USA, PHX]|[03282045, 16, 285, PHX, ABQ]|\n",
            "|[Albuquerque, NM, USA, ABQ]|[01021440, -4, 852, ABQ, MSP]|[Minneapolis, MN, USA, MSP]|[03311005, -4, 1109, MSP, PHX]|[Phoenix, AZ, USA, PHX]|[03271340, 19, 285, PHX, ABQ]|\n",
            "|[Albuquerque, NM, USA, ABQ]|[01021440, -4, 852, ABQ, MSP]|[Minneapolis, MN, USA, MSP]|[03311005, -4, 1109, MSP, PHX]|[Phoenix, AZ, USA, PHX]|[03271115, 7, 285, PHX, ABQ] |\n",
            "|[Albuquerque, NM, USA, ABQ]|[01021440, -4, 852, ABQ, MSP]|[Minneapolis, MN, USA, MSP]|[03311005, -4, 1109, MSP, PHX]|[Phoenix, AZ, USA, PHX]|[03270550, -5, 285, PHX, ABQ]|\n",
            "|[Albuquerque, NM, USA, ABQ]|[01021440, -4, 852, ABQ, MSP]|[Minneapolis, MN, USA, MSP]|[03311005, -4, 1109, MSP, PHX]|[Phoenix, AZ, USA, PHX]|[03270740, -3, 285, PHX, ABQ]|\n",
            "|[Albuquerque, NM, USA, ABQ]|[01021440, -4, 852, ABQ, MSP]|[Minneapolis, MN, USA, MSP]|[03311005, -4, 1109, MSP, PHX]|[Phoenix, AZ, USA, PHX]|[03261740, 43, 285, PHX, ABQ]|\n",
            "|[Albuquerque, NM, USA, ABQ]|[01021440, -4, 852, ABQ, MSP]|[Minneapolis, MN, USA, MSP]|[03311005, -4, 1109, MSP, PHX]|[Phoenix, AZ, USA, PHX]|[03262045, 12, 285, PHX, ABQ]|\n",
            "|[Albuquerque, NM, USA, ABQ]|[01021440, -4, 852, ABQ, MSP]|[Minneapolis, MN, USA, MSP]|[03311005, -4, 1109, MSP, PHX]|[Phoenix, AZ, USA, PHX]|[03260550, -5, 285, PHX, ABQ]|\n",
            "|[Albuquerque, NM, USA, ABQ]|[01021440, -4, 852, ABQ, MSP]|[Minneapolis, MN, USA, MSP]|[03311005, -4, 1109, MSP, PHX]|[Phoenix, AZ, USA, PHX]|[03260740, -3, 285, PHX, ABQ]|\n",
            "|[Albuquerque, NM, USA, ABQ]|[01021440, -4, 852, ABQ, MSP]|[Minneapolis, MN, USA, MSP]|[03311005, -4, 1109, MSP, PHX]|[Phoenix, AZ, USA, PHX]|[03251340, 2, 285, PHX, ABQ] |\n",
            "|[Albuquerque, NM, USA, ABQ]|[01021440, -4, 852, ABQ, MSP]|[Minneapolis, MN, USA, MSP]|[03311005, -4, 1109, MSP, PHX]|[Phoenix, AZ, USA, PHX]|[03252045, 2, 285, PHX, ABQ] |\n",
            "|[Albuquerque, NM, USA, ABQ]|[01021440, -4, 852, ABQ, MSP]|[Minneapolis, MN, USA, MSP]|[03311005, -4, 1109, MSP, PHX]|[Phoenix, AZ, USA, PHX]|[03241340, 1, 285, PHX, ABQ] |\n",
            "|[Albuquerque, NM, USA, ABQ]|[01021440, -4, 852, ABQ, MSP]|[Minneapolis, MN, USA, MSP]|[03311005, -4, 1109, MSP, PHX]|[Phoenix, AZ, USA, PHX]|[03241115, 6, 285, PHX, ABQ] |\n",
            "|[Albuquerque, NM, USA, ABQ]|[01021440, -4, 852, ABQ, MSP]|[Minneapolis, MN, USA, MSP]|[03311005, -4, 1109, MSP, PHX]|[Phoenix, AZ, USA, PHX]|[03241435, 14, 285, PHX, ABQ]|\n",
            "|[Albuquerque, NM, USA, ABQ]|[01021440, -4, 852, ABQ, MSP]|[Minneapolis, MN, USA, MSP]|[03311005, -4, 1109, MSP, PHX]|[Phoenix, AZ, USA, PHX]|[03240740, -3, 285, PHX, ABQ]|\n",
            "+---------------------------+-----------------------------+---------------------------+------------------------------+-----------------------+-----------------------------+\n",
            "only showing top 20 rows\n",
            "\n"
          ]
        }
      ]
    },
    {
      "cell_type": "code",
      "source": [
        "#City|State|Country| id\n",
        "vertice_PatternDF=subGraphWithPattern.select(\"v1.City\",\"v1.State\",\"v1.Country\",\"v1.id\")"
      ],
      "metadata": {
        "id": "9_myq-65Szvy"
      },
      "id": "9_myq-65Szvy",
      "execution_count": 46,
      "outputs": []
    },
    {
      "cell_type": "code",
      "source": [
        "vertice_PatternDf=vertice_PatternDF.dropDuplicates(subset=[\"id\"])"
      ],
      "metadata": {
        "id": "X3HAuE3PbJIR"
      },
      "id": "X3HAuE3PbJIR",
      "execution_count": 47,
      "outputs": []
    },
    {
      "cell_type": "code",
      "source": [
        "vertice_PatternDF.show(truncate=False)"
      ],
      "metadata": {
        "colab": {
          "base_uri": "https://localhost:8080/"
        },
        "id": "mulY2h65aBhS",
        "outputId": "505d9f04-e9b6-4b67-a64b-226c0c3d8d97"
      },
      "id": "mulY2h65aBhS",
      "execution_count": 48,
      "outputs": [
        {
          "output_type": "stream",
          "name": "stdout",
          "text": [
            "+-----------+-----+-------+---+\n",
            "|City       |State|Country|id |\n",
            "+-----------+-----+-------+---+\n",
            "|Albuquerque|NM   |USA    |ABQ|\n",
            "|Albuquerque|NM   |USA    |ABQ|\n",
            "|Albuquerque|NM   |USA    |ABQ|\n",
            "|Albuquerque|NM   |USA    |ABQ|\n",
            "|Albuquerque|NM   |USA    |ABQ|\n",
            "|Albuquerque|NM   |USA    |ABQ|\n",
            "|Albuquerque|NM   |USA    |ABQ|\n",
            "|Albuquerque|NM   |USA    |ABQ|\n",
            "|Albuquerque|NM   |USA    |ABQ|\n",
            "|Albuquerque|NM   |USA    |ABQ|\n",
            "|Albuquerque|NM   |USA    |ABQ|\n",
            "|Albuquerque|NM   |USA    |ABQ|\n",
            "|Albuquerque|NM   |USA    |ABQ|\n",
            "|Albuquerque|NM   |USA    |ABQ|\n",
            "|Albuquerque|NM   |USA    |ABQ|\n",
            "|Albuquerque|NM   |USA    |ABQ|\n",
            "|Albuquerque|NM   |USA    |ABQ|\n",
            "|Albuquerque|NM   |USA    |ABQ|\n",
            "|Albuquerque|NM   |USA    |ABQ|\n",
            "|Albuquerque|NM   |USA    |ABQ|\n",
            "+-----------+-----+-------+---+\n",
            "only showing top 20 rows\n",
            "\n"
          ]
        }
      ]
    },
    {
      "cell_type": "code",
      "source": [
        "vertice_PatternDF.count()"
      ],
      "metadata": {
        "colab": {
          "base_uri": "https://localhost:8080/"
        },
        "id": "ZlPv9X6WaI82",
        "outputId": "c2bdf706-e239-4bf8-e07a-e77fbb083ef2"
      },
      "id": "ZlPv9X6WaI82",
      "execution_count": 49,
      "outputs": [
        {
          "output_type": "execute_result",
          "data": {
            "text/plain": [
              "11881250196"
            ]
          },
          "metadata": {},
          "execution_count": 49
        }
      ]
    },
    {
      "cell_type": "code",
      "source": [
        "vertice_PatternDF=vertice_PatternDF.union(subGraphWithPattern.select(\"v2.City\",\"v2.State\",\"v2.Country\",\"v2.id\"))"
      ],
      "metadata": {
        "id": "vgmaz6ZwaNDE"
      },
      "id": "vgmaz6ZwaNDE",
      "execution_count": 68,
      "outputs": []
    },
    {
      "cell_type": "code",
      "source": [
        "vertice_PatternDF=vertice_PatternDF.union(subGraphWithPattern.select(\"v3.City\",\"v3.State\",\"v3.Country\",\"v3.id\"))"
      ],
      "metadata": {
        "id": "VARFcqXfb4VQ"
      },
      "id": "VARFcqXfb4VQ",
      "execution_count": 51,
      "outputs": []
    },
    {
      "cell_type": "code",
      "source": [
        "vertice_PatternDF=vertice_PatternDF.dropDuplicates(subset=[\"id\"])"
      ],
      "metadata": {
        "id": "Q9izolpk37r6"
      },
      "id": "Q9izolpk37r6",
      "execution_count": 71,
      "outputs": []
    },
    {
      "cell_type": "code",
      "source": [
        "vert=vertice_PatternDF.dropDuplicates(subset=[\"id\"])"
      ],
      "metadata": {
        "id": "tAHKUy77dl6f"
      },
      "id": "tAHKUy77dl6f",
      "execution_count": 56,
      "outputs": []
    },
    {
      "cell_type": "code",
      "execution_count": 59,
      "metadata": {
        "id": "tL8YHFnGXKge",
        "colab": {
          "base_uri": "https://localhost:8080/",
          "height": 1000
        },
        "outputId": "c13f58ed-a7d9-41c5-e28a-f0b83c88f24a"
      },
      "outputs": [
        {
          "output_type": "error",
          "ename": "Py4JJavaError",
          "evalue": "ignored",
          "traceback": [
            "\u001b[0;31m---------------------------------------------------------------------------\u001b[0m",
            "\u001b[0;31mPy4JJavaError\u001b[0m                             Traceback (most recent call last)",
            "\u001b[0;32m<ipython-input-59-9330244cb057>\u001b[0m in \u001b[0;36m<module>\u001b[0;34m()\u001b[0m\n\u001b[0;32m----> 1\u001b[0;31m \u001b[0mvertice_PatternDf\u001b[0m\u001b[0;34m.\u001b[0m\u001b[0mwrite\u001b[0m\u001b[0;34m.\u001b[0m\u001b[0mcsv\u001b[0m\u001b[0;34m(\u001b[0m\u001b[0;34m\"/content/drive/MyDrive/pysparkGraph/out/Lab4Graph_verticesForSubGragh\"\u001b[0m\u001b[0;34m)\u001b[0m\u001b[0;34m\u001b[0m\u001b[0;34m\u001b[0m\u001b[0m\n\u001b[0m",
            "\u001b[0;32m/content/spark-3.0.2-bin-hadoop2.7/python/pyspark/sql/readwriter.py\u001b[0m in \u001b[0;36mcsv\u001b[0;34m(self, path, mode, compression, sep, quote, escape, header, nullValue, escapeQuotes, quoteAll, dateFormat, timestampFormat, ignoreLeadingWhiteSpace, ignoreTrailingWhiteSpace, charToEscapeQuoteEscaping, encoding, emptyValue, lineSep)\u001b[0m\n\u001b[1;32m   1028\u001b[0m                        \u001b[0mcharToEscapeQuoteEscaping\u001b[0m\u001b[0;34m=\u001b[0m\u001b[0mcharToEscapeQuoteEscaping\u001b[0m\u001b[0;34m,\u001b[0m\u001b[0;34m\u001b[0m\u001b[0;34m\u001b[0m\u001b[0m\n\u001b[1;32m   1029\u001b[0m                        encoding=encoding, emptyValue=emptyValue, lineSep=lineSep)\n\u001b[0;32m-> 1030\u001b[0;31m         \u001b[0mself\u001b[0m\u001b[0;34m.\u001b[0m\u001b[0m_jwrite\u001b[0m\u001b[0;34m.\u001b[0m\u001b[0mcsv\u001b[0m\u001b[0;34m(\u001b[0m\u001b[0mpath\u001b[0m\u001b[0;34m)\u001b[0m\u001b[0;34m\u001b[0m\u001b[0;34m\u001b[0m\u001b[0m\n\u001b[0m\u001b[1;32m   1031\u001b[0m \u001b[0;34m\u001b[0m\u001b[0m\n\u001b[1;32m   1032\u001b[0m     \u001b[0;34m@\u001b[0m\u001b[0msince\u001b[0m\u001b[0;34m(\u001b[0m\u001b[0;36m1.5\u001b[0m\u001b[0;34m)\u001b[0m\u001b[0;34m\u001b[0m\u001b[0;34m\u001b[0m\u001b[0m\n",
            "\u001b[0;32m/content/spark-3.0.2-bin-hadoop2.7/python/lib/py4j-0.10.9-src.zip/py4j/java_gateway.py\u001b[0m in \u001b[0;36m__call__\u001b[0;34m(self, *args)\u001b[0m\n\u001b[1;32m   1303\u001b[0m         \u001b[0manswer\u001b[0m \u001b[0;34m=\u001b[0m \u001b[0mself\u001b[0m\u001b[0;34m.\u001b[0m\u001b[0mgateway_client\u001b[0m\u001b[0;34m.\u001b[0m\u001b[0msend_command\u001b[0m\u001b[0;34m(\u001b[0m\u001b[0mcommand\u001b[0m\u001b[0;34m)\u001b[0m\u001b[0;34m\u001b[0m\u001b[0;34m\u001b[0m\u001b[0m\n\u001b[1;32m   1304\u001b[0m         return_value = get_return_value(\n\u001b[0;32m-> 1305\u001b[0;31m             answer, self.gateway_client, self.target_id, self.name)\n\u001b[0m\u001b[1;32m   1306\u001b[0m \u001b[0;34m\u001b[0m\u001b[0m\n\u001b[1;32m   1307\u001b[0m         \u001b[0;32mfor\u001b[0m \u001b[0mtemp_arg\u001b[0m \u001b[0;32min\u001b[0m \u001b[0mtemp_args\u001b[0m\u001b[0;34m:\u001b[0m\u001b[0;34m\u001b[0m\u001b[0;34m\u001b[0m\u001b[0m\n",
            "\u001b[0;32m/content/spark-3.0.2-bin-hadoop2.7/python/pyspark/sql/utils.py\u001b[0m in \u001b[0;36mdeco\u001b[0;34m(*a, **kw)\u001b[0m\n\u001b[1;32m    126\u001b[0m     \u001b[0;32mdef\u001b[0m \u001b[0mdeco\u001b[0m\u001b[0;34m(\u001b[0m\u001b[0;34m*\u001b[0m\u001b[0ma\u001b[0m\u001b[0;34m,\u001b[0m \u001b[0;34m**\u001b[0m\u001b[0mkw\u001b[0m\u001b[0;34m)\u001b[0m\u001b[0;34m:\u001b[0m\u001b[0;34m\u001b[0m\u001b[0;34m\u001b[0m\u001b[0m\n\u001b[1;32m    127\u001b[0m         \u001b[0;32mtry\u001b[0m\u001b[0;34m:\u001b[0m\u001b[0;34m\u001b[0m\u001b[0;34m\u001b[0m\u001b[0m\n\u001b[0;32m--> 128\u001b[0;31m             \u001b[0;32mreturn\u001b[0m \u001b[0mf\u001b[0m\u001b[0;34m(\u001b[0m\u001b[0;34m*\u001b[0m\u001b[0ma\u001b[0m\u001b[0;34m,\u001b[0m \u001b[0;34m**\u001b[0m\u001b[0mkw\u001b[0m\u001b[0;34m)\u001b[0m\u001b[0;34m\u001b[0m\u001b[0;34m\u001b[0m\u001b[0m\n\u001b[0m\u001b[1;32m    129\u001b[0m         \u001b[0;32mexcept\u001b[0m \u001b[0mpy4j\u001b[0m\u001b[0;34m.\u001b[0m\u001b[0mprotocol\u001b[0m\u001b[0;34m.\u001b[0m\u001b[0mPy4JJavaError\u001b[0m \u001b[0;32mas\u001b[0m \u001b[0me\u001b[0m\u001b[0;34m:\u001b[0m\u001b[0;34m\u001b[0m\u001b[0;34m\u001b[0m\u001b[0m\n\u001b[1;32m    130\u001b[0m             \u001b[0mconverted\u001b[0m \u001b[0;34m=\u001b[0m \u001b[0mconvert_exception\u001b[0m\u001b[0;34m(\u001b[0m\u001b[0me\u001b[0m\u001b[0;34m.\u001b[0m\u001b[0mjava_exception\u001b[0m\u001b[0;34m)\u001b[0m\u001b[0;34m\u001b[0m\u001b[0;34m\u001b[0m\u001b[0m\n",
            "\u001b[0;32m/content/spark-3.0.2-bin-hadoop2.7/python/lib/py4j-0.10.9-src.zip/py4j/protocol.py\u001b[0m in \u001b[0;36mget_return_value\u001b[0;34m(answer, gateway_client, target_id, name)\u001b[0m\n\u001b[1;32m    326\u001b[0m                 raise Py4JJavaError(\n\u001b[1;32m    327\u001b[0m                     \u001b[0;34m\"An error occurred while calling {0}{1}{2}.\\n\"\u001b[0m\u001b[0;34m.\u001b[0m\u001b[0;34m\u001b[0m\u001b[0;34m\u001b[0m\u001b[0m\n\u001b[0;32m--> 328\u001b[0;31m                     format(target_id, \".\", name), value)\n\u001b[0m\u001b[1;32m    329\u001b[0m             \u001b[0;32melse\u001b[0m\u001b[0;34m:\u001b[0m\u001b[0;34m\u001b[0m\u001b[0;34m\u001b[0m\u001b[0m\n\u001b[1;32m    330\u001b[0m                 raise Py4JError(\n",
            "\u001b[0;31mPy4JJavaError\u001b[0m: An error occurred while calling o305.csv.\n: org.apache.spark.SparkException: Job aborted.\n\tat org.apache.spark.sql.execution.datasources.FileFormatWriter$.write(FileFormatWriter.scala:231)\n\tat org.apache.spark.sql.execution.datasources.InsertIntoHadoopFsRelationCommand.run(InsertIntoHadoopFsRelationCommand.scala:178)\n\tat org.apache.spark.sql.execution.command.DataWritingCommandExec.sideEffectResult$lzycompute(commands.scala:108)\n\tat org.apache.spark.sql.execution.command.DataWritingCommandExec.sideEffectResult(commands.scala:106)\n\tat org.apache.spark.sql.execution.command.DataWritingCommandExec.doExecute(commands.scala:131)\n\tat org.apache.spark.sql.execution.SparkPlan.$anonfun$execute$1(SparkPlan.scala:180)\n\tat org.apache.spark.sql.execution.SparkPlan.$anonfun$executeQuery$1(SparkPlan.scala:218)\n\tat org.apache.spark.rdd.RDDOperationScope$.withScope(RDDOperationScope.scala:151)\n\tat org.apache.spark.sql.execution.SparkPlan.executeQuery(SparkPlan.scala:215)\n\tat org.apache.spark.sql.execution.SparkPlan.execute(SparkPlan.scala:176)\n\tat org.apache.spark.sql.execution.QueryExecution.toRdd$lzycompute(QueryExecution.scala:127)\n\tat org.apache.spark.sql.execution.QueryExecution.toRdd(QueryExecution.scala:126)\n\tat org.apache.spark.sql.DataFrameWriter.$anonfun$runCommand$1(DataFrameWriter.scala:962)\n\tat org.apache.spark.sql.execution.SQLExecution$.$anonfun$withNewExecutionId$5(SQLExecution.scala:100)\n\tat org.apache.spark.sql.execution.SQLExecution$.withSQLConfPropagated(SQLExecution.scala:160)\n\tat org.apache.spark.sql.execution.SQLExecution$.$anonfun$withNewExecutionId$1(SQLExecution.scala:87)\n\tat org.apache.spark.sql.SparkSession.withActive(SparkSession.scala:764)\n\tat org.apache.spark.sql.execution.SQLExecution$.withNewExecutionId(SQLExecution.scala:64)\n\tat org.apache.spark.sql.DataFrameWriter.runCommand(DataFrameWriter.scala:962)\n\tat org.apache.spark.sql.DataFrameWriter.saveToV1Source(DataFrameWriter.scala:414)\n\tat org.apache.spark.sql.DataFrameWriter.save(DataFrameWriter.scala:398)\n\tat org.apache.spark.sql.DataFrameWriter.save(DataFrameWriter.scala:287)\n\tat org.apache.spark.sql.DataFrameWriter.csv(DataFrameWriter.scala:952)\n\tat java.base/jdk.internal.reflect.NativeMethodAccessorImpl.invoke0(Native Method)\n\tat java.base/jdk.internal.reflect.NativeMethodAccessorImpl.invoke(NativeMethodAccessorImpl.java:62)\n\tat java.base/jdk.internal.reflect.DelegatingMethodAccessorImpl.invoke(DelegatingMethodAccessorImpl.java:43)\n\tat java.base/java.lang.reflect.Method.invoke(Method.java:566)\n\tat py4j.reflection.MethodInvoker.invoke(MethodInvoker.java:244)\n\tat py4j.reflection.ReflectionEngine.invoke(ReflectionEngine.java:357)\n\tat py4j.Gateway.invoke(Gateway.java:282)\n\tat py4j.commands.AbstractCommand.invokeMethod(AbstractCommand.java:132)\n\tat py4j.commands.CallCommand.execute(CallCommand.java:79)\n\tat py4j.GatewayConnection.run(GatewayConnection.java:238)\n\tat java.base/java.lang.Thread.run(Thread.java:829)\nCaused by: org.apache.spark.SparkException: Could not execute broadcast in 300 secs. You can increase the timeout for broadcasts via spark.sql.broadcastTimeout or disable broadcast join by setting spark.sql.autoBroadcastJoinThreshold to -1\n\tat org.apache.spark.sql.execution.exchange.BroadcastExchangeExec.doExecuteBroadcast(BroadcastExchangeExec.scala:206)\n\tat org.apache.spark.sql.execution.InputAdapter.doExecuteBroadcast(WholeStageCodegenExec.scala:515)\n\tat org.apache.spark.sql.execution.SparkPlan.$anonfun$executeBroadcast$1(SparkPlan.scala:193)\n\tat org.apache.spark.sql.execution.SparkPlan.$anonfun$executeQuery$1(SparkPlan.scala:218)\n\tat org.apache.spark.rdd.RDDOperationScope$.withScope(RDDOperationScope.scala:151)\n\tat org.apache.spark.sql.execution.SparkPlan.executeQuery(SparkPlan.scala:215)\n\tat org.apache.spark.sql.execution.SparkPlan.executeBroadcast(SparkPlan.scala:189)\n\tat org.apache.spark.sql.execution.joins.BroadcastHashJoinExec.prepareBroadcast(BroadcastHashJoinExec.scala:116)\n\tat org.apache.spark.sql.execution.joins.BroadcastHashJoinExec.codegenInner(BroadcastHashJoinExec.scala:210)\n\tat org.apache.spark.sql.execution.joins.BroadcastHashJoinExec.doConsume(BroadcastHashJoinExec.scala:100)\n\tat org.apache.spark.sql.execution.CodegenSupport.constructDoConsumeFunction(WholeStageCodegenExec.scala:221)\n\tat org.apache.spark.sql.execution.CodegenSupport.consume(WholeStageCodegenExec.scala:192)\n\tat org.apache.spark.sql.execution.CodegenSupport.consume$(WholeStageCodegenExec.scala:149)\n\tat org.apache.spark.sql.execution.ProjectExec.consume(basicPhysicalOperators.scala:41)\n\tat org.apache.spark.sql.execution.ProjectExec.doConsume(basicPhysicalOperators.scala:71)\n\tat org.apache.spark.sql.execution.CodegenSupport.consume(WholeStageCodegenExec.scala:194)\n\tat org.apache.spark.sql.execution.CodegenSupport.consume$(WholeStageCodegenExec.scala:149)\n\tat org.apache.spark.sql.execution.SampleExec.consume(basicPhysicalOperators.scala:263)\n\tat org.apache.spark.sql.execution.SampleExec.doConsume(basicPhysicalOperators.scala:352)\n\tat org.apache.spark.sql.execution.CodegenSupport.consume(WholeStageCodegenExec.scala:194)\n\tat org.apache.spark.sql.execution.CodegenSupport.consume$(WholeStageCodegenExec.scala:149)\n\tat org.apache.spark.sql.execution.ProjectExec.consume(basicPhysicalOperators.scala:41)\n\tat org.apache.spark.sql.execution.ProjectExec.doConsume(basicPhysicalOperators.scala:71)\n\tat org.apache.spark.sql.execution.CodegenSupport.consume(WholeStageCodegenExec.scala:194)\n\tat org.apache.spark.sql.execution.CodegenSupport.consume$(WholeStageCodegenExec.scala:149)\n\tat org.apache.spark.sql.execution.InputAdapter.consume(WholeStageCodegenExec.scala:496)\n\tat org.apache.spark.sql.execution.InputRDDCodegen.doProduce(WholeStageCodegenExec.scala:483)\n\tat org.apache.spark.sql.execution.InputRDDCodegen.doProduce$(WholeStageCodegenExec.scala:456)\n\tat org.apache.spark.sql.execution.InputAdapter.doProduce(WholeStageCodegenExec.scala:496)\n\tat org.apache.spark.sql.execution.CodegenSupport.$anonfun$produce$1(WholeStageCodegenExec.scala:95)\n\tat org.apache.spark.sql.execution.SparkPlan.$anonfun$executeQuery$1(SparkPlan.scala:218)\n\tat org.apache.spark.rdd.RDDOperationScope$.withScope(RDDOperationScope.scala:151)\n\tat org.apache.spark.sql.execution.SparkPlan.executeQuery(SparkPlan.scala:215)\n\tat org.apache.spark.sql.execution.CodegenSupport.produce(WholeStageCodegenExec.scala:90)\n\tat org.apache.spark.sql.execution.CodegenSupport.produce$(WholeStageCodegenExec.scala:90)\n\tat org.apache.spark.sql.execution.InputAdapter.produce(WholeStageCodegenExec.scala:496)\n\tat org.apache.spark.sql.execution.ProjectExec.doProduce(basicPhysicalOperators.scala:51)\n\tat org.apache.spark.sql.execution.CodegenSupport.$anonfun$produce$1(WholeStageCodegenExec.scala:95)\n\tat org.apache.spark.sql.execution.SparkPlan.$anonfun$executeQuery$1(SparkPlan.scala:218)\n\tat org.apache.spark.rdd.RDDOperationScope$.withScope(RDDOperationScope.scala:151)\n\tat org.apache.spark.sql.execution.SparkPlan.executeQuery(SparkPlan.scala:215)\n\tat org.apache.spark.sql.execution.CodegenSupport.produce(WholeStageCodegenExec.scala:90)\n\tat org.apache.spark.sql.execution.CodegenSupport.produce$(WholeStageCodegenExec.scala:90)\n\tat org.apache.spark.sql.execution.ProjectExec.produce(basicPhysicalOperators.scala:41)\n\tat org.apache.spark.sql.execution.SampleExec.doProduce(basicPhysicalOperators.scala:299)\n\tat org.apache.spark.sql.execution.CodegenSupport.$anonfun$produce$1(WholeStageCodegenExec.scala:95)\n\tat org.apache.spark.sql.execution.SparkPlan.$anonfun$executeQuery$1(SparkPlan.scala:218)\n\tat org.apache.spark.rdd.RDDOperationScope$.withScope(RDDOperationScope.scala:151)\n\tat org.apache.spark.sql.execution.SparkPlan.executeQuery(SparkPlan.scala:215)\n\tat org.apache.spark.sql.execution.CodegenSupport.produce(WholeStageCodegenExec.scala:90)\n\tat org.apache.spark.sql.execution.CodegenSupport.produce$(WholeStageCodegenExec.scala:90)\n\tat org.apache.spark.sql.execution.SampleExec.produce(basicPhysicalOperators.scala:263)\n\tat org.apache.spark.sql.execution.ProjectExec.doProduce(basicPhysicalOperators.scala:51)\n\tat org.apache.spark.sql.execution.CodegenSupport.$anonfun$produce$1(WholeStageCodegenExec.scala:95)\n\tat org.apache.spark.sql.execution.SparkPlan.$anonfun$executeQuery$1(SparkPlan.scala:218)\n\tat org.apache.spark.rdd.RDDOperationScope$.withScope(RDDOperationScope.scala:151)\n\tat org.apache.spark.sql.execution.SparkPlan.executeQuery(SparkPlan.scala:215)\n\tat org.apache.spark.sql.execution.CodegenSupport.produce(WholeStageCodegenExec.scala:90)\n\tat org.apache.spark.sql.execution.CodegenSupport.produce$(WholeStageCodegenExec.scala:90)\n\tat org.apache.spark.sql.execution.ProjectExec.produce(basicPhysicalOperators.scala:41)\n\tat org.apache.spark.sql.execution.joins.BroadcastHashJoinExec.doProduce(BroadcastHashJoinExec.scala:95)\n\tat org.apache.spark.sql.execution.CodegenSupport.$anonfun$produce$1(WholeStageCodegenExec.scala:95)\n\tat org.apache.spark.sql.execution.SparkPlan.$anonfun$executeQuery$1(SparkPlan.scala:218)\n\tat org.apache.spark.rdd.RDDOperationScope$.withScope(RDDOperationScope.scala:151)\n\tat org.apache.spark.sql.execution.SparkPlan.executeQuery(SparkPlan.scala:215)\n\tat org.apache.spark.sql.execution.CodegenSupport.produce(WholeStageCodegenExec.scala:90)\n\tat org.apache.spark.sql.execution.CodegenSupport.produce$(WholeStageCodegenExec.scala:90)\n\tat org.apache.spark.sql.execution.joins.BroadcastHashJoinExec.produce(BroadcastHashJoinExec.scala:39)\n\tat org.apache.spark.sql.execution.joins.BroadcastHashJoinExec.doProduce(BroadcastHashJoinExec.scala:95)\n\tat org.apache.spark.sql.execution.CodegenSupport.$anonfun$produce$1(WholeStageCodegenExec.scala:95)\n\tat org.apache.spark.sql.execution.SparkPlan.$anonfun$executeQuery$1(SparkPlan.scala:218)\n\tat org.apache.spark.rdd.RDDOperationScope$.withScope(RDDOperationScope.scala:151)\n\tat org.apache.spark.sql.execution.SparkPlan.executeQuery(SparkPlan.scala:215)\n\tat org.apache.spark.sql.execution.CodegenSupport.produce(WholeStageCodegenExec.scala:90)\n\tat org.apache.spark.sql.execution.CodegenSupport.produce$(WholeStageCodegenExec.scala:90)\n\tat org.apache.spark.sql.execution.joins.BroadcastHashJoinExec.produce(BroadcastHashJoinExec.scala:39)\n\tat org.apache.spark.sql.execution.ProjectExec.doProduce(basicPhysicalOperators.scala:51)\n\tat org.apache.spark.sql.execution.CodegenSupport.$anonfun$produce$1(WholeStageCodegenExec.scala:95)\n\tat org.apache.spark.sql.execution.SparkPlan.$anonfun$executeQuery$1(SparkPlan.scala:218)\n\tat org.apache.spark.rdd.RDDOperationScope$.withScope(RDDOperationScope.scala:151)\n\tat org.apache.spark.sql.execution.SparkPlan.executeQuery(SparkPlan.scala:215)\n\tat org.apache.spark.sql.execution.CodegenSupport.produce(WholeStageCodegenExec.scala:90)\n\tat org.apache.spark.sql.execution.CodegenSupport.produce$(WholeStageCodegenExec.scala:90)\n\tat org.apache.spark.sql.execution.ProjectExec.produce(basicPhysicalOperators.scala:41)\n\tat org.apache.spark.sql.execution.joins.BroadcastHashJoinExec.doProduce(BroadcastHashJoinExec.scala:95)\n\tat org.apache.spark.sql.execution.CodegenSupport.$anonfun$produce$1(WholeStageCodegenExec.scala:95)\n\tat org.apache.spark.sql.execution.SparkPlan.$anonfun$executeQuery$1(SparkPlan.scala:218)\n\tat org.apache.spark.rdd.RDDOperationScope$.withScope(RDDOperationScope.scala:151)\n\tat org.apache.spark.sql.execution.SparkPlan.executeQuery(SparkPlan.scala:215)\n\tat org.apache.spark.sql.execution.CodegenSupport.produce(WholeStageCodegenExec.scala:90)\n\tat org.apache.spark.sql.execution.CodegenSupport.produce$(WholeStageCodegenExec.scala:90)\n\tat org.apache.spark.sql.execution.joins.BroadcastHashJoinExec.produce(BroadcastHashJoinExec.scala:39)\n\tat org.apache.spark.sql.execution.ProjectExec.doProduce(basicPhysicalOperators.scala:51)\n\tat org.apache.spark.sql.execution.CodegenSupport.$anonfun$produce$1(WholeStageCodegenExec.scala:95)\n\tat org.apache.spark.sql.execution.SparkPlan.$anonfun$executeQuery$1(SparkPlan.scala:218)\n\tat org.apache.spark.rdd.RDDOperationScope$.withScope(RDDOperationScope.scala:151)\n\tat org.apache.spark.sql.execution.SparkPlan.executeQuery(SparkPlan.scala:215)\n\tat org.apache.spark.sql.execution.CodegenSupport.produce(WholeStageCodegenExec.scala:90)\n\tat org.apache.spark.sql.execution.CodegenSupport.produce$(WholeStageCodegenExec.scala:90)\n\tat org.apache.spark.sql.execution.ProjectExec.produce(basicPhysicalOperators.scala:41)\n\tat org.apache.spark.sql.execution.joins.BroadcastHashJoinExec.doProduce(BroadcastHashJoinExec.scala:95)\n\tat org.apache.spark.sql.execution.CodegenSupport.$anonfun$produce$1(WholeStageCodegenExec.scala:95)\n\tat org.apache.spark.sql.execution.SparkPlan.$anonfun$executeQuery$1(SparkPlan.scala:218)\n\tat org.apache.spark.rdd.RDDOperationScope$.withScope(RDDOperationScope.scala:151)\n\tat org.apache.spark.sql.execution.SparkPlan.executeQuery(SparkPlan.scala:215)\n\tat org.apache.spark.sql.execution.CodegenSupport.produce(WholeStageCodegenExec.scala:90)\n\tat org.apache.spark.sql.execution.CodegenSupport.produce$(WholeStageCodegenExec.scala:90)\n\tat org.apache.spark.sql.execution.joins.BroadcastHashJoinExec.produce(BroadcastHashJoinExec.scala:39)\n\tat org.apache.spark.sql.execution.ProjectExec.doProduce(basicPhysicalOperators.scala:51)\n\tat org.apache.spark.sql.execution.CodegenSupport.$anonfun$produce$1(WholeStageCodegenExec.scala:95)\n\tat org.apache.spark.sql.execution.SparkPlan.$anonfun$executeQuery$1(SparkPlan.scala:218)\n\tat org.apache.spark.rdd.RDDOperationScope$.withScope(RDDOperationScope.scala:151)\n\tat org.apache.spark.sql.execution.SparkPlan.executeQuery(SparkPlan.scala:215)\n\tat org.apache.spark.sql.execution.CodegenSupport.produce(WholeStageCodegenExec.scala:90)\n\tat org.apache.spark.sql.execution.CodegenSupport.produce$(WholeStageCodegenExec.scala:90)\n\tat org.apache.spark.sql.execution.ProjectExec.produce(basicPhysicalOperators.scala:41)\n\tat org.apache.spark.sql.execution.joins.BroadcastHashJoinExec.doProduce(BroadcastHashJoinExec.scala:95)\n\tat org.apache.spark.sql.execution.CodegenSupport.$anonfun$produce$1(WholeStageCodegenExec.scala:95)\n\tat org.apache.spark.sql.execution.SparkPlan.$anonfun$executeQuery$1(SparkPlan.scala:218)\n\tat org.apache.spark.rdd.RDDOperationScope$.withScope(RDDOperationScope.scala:151)\n\tat org.apache.spark.sql.execution.SparkPlan.executeQuery(SparkPlan.scala:215)\n\tat org.apache.spark.sql.execution.CodegenSupport.produce(WholeStageCodegenExec.scala:90)\n\tat org.apache.spark.sql.execution.CodegenSupport.produce$(WholeStageCodegenExec.scala:90)\n\tat org.apache.spark.sql.execution.joins.BroadcastHashJoinExec.produce(BroadcastHashJoinExec.scala:39)\n\tat org.apache.spark.sql.execution.ProjectExec.doProduce(basicPhysicalOperators.scala:51)\n\tat org.apache.spark.sql.execution.CodegenSupport.$anonfun$produce$1(WholeStageCodegenExec.scala:95)\n\tat org.apache.spark.sql.execution.SparkPlan.$anonfun$executeQuery$1(SparkPlan.scala:218)\n\tat org.apache.spark.rdd.RDDOperationScope$.withScope(RDDOperationScope.scala:151)\n\tat org.apache.spark.sql.execution.SparkPlan.executeQuery(SparkPlan.scala:215)\n\tat org.apache.spark.sql.execution.CodegenSupport.produce(WholeStageCodegenExec.scala:90)\n\tat org.apache.spark.sql.execution.CodegenSupport.produce$(WholeStageCodegenExec.scala:90)\n\tat org.apache.spark.sql.execution.ProjectExec.produce(basicPhysicalOperators.scala:41)\n\tat org.apache.spark.sql.execution.WholeStageCodegenExec.doCodeGen(WholeStageCodegenExec.scala:632)\n\tat org.apache.spark.sql.execution.WholeStageCodegenExec.doExecute(WholeStageCodegenExec.scala:692)\n\tat org.apache.spark.sql.execution.SparkPlan.$anonfun$execute$1(SparkPlan.scala:180)\n\tat org.apache.spark.sql.execution.SparkPlan.$anonfun$executeQuery$1(SparkPlan.scala:218)\n\tat org.apache.spark.rdd.RDDOperationScope$.withScope(RDDOperationScope.scala:151)\n\tat org.apache.spark.sql.execution.SparkPlan.executeQuery(SparkPlan.scala:215)\n\tat org.apache.spark.sql.execution.SparkPlan.execute(SparkPlan.scala:176)\n\tat org.apache.spark.sql.execution.UnionExec.$anonfun$doExecute$5(basicPhysicalOperators.scala:644)\n\tat scala.collection.TraversableLike.$anonfun$map$1(TraversableLike.scala:238)\n\tat scala.collection.mutable.ResizableArray.foreach(ResizableArray.scala:62)\n\tat scala.collection.mutable.ResizableArray.foreach$(ResizableArray.scala:55)\n\tat scala.collection.mutable.ArrayBuffer.foreach(ArrayBuffer.scala:49)\n\tat scala.collection.TraversableLike.map(TraversableLike.scala:238)\n\tat scala.collection.TraversableLike.map$(TraversableLike.scala:231)\n\tat scala.collection.AbstractTraversable.map(Traversable.scala:108)\n\tat org.apache.spark.sql.execution.UnionExec.doExecute(basicPhysicalOperators.scala:644)\n\tat org.apache.spark.sql.execution.SparkPlan.$anonfun$execute$1(SparkPlan.scala:180)\n\tat org.apache.spark.sql.execution.SparkPlan.$anonfun$executeQuery$1(SparkPlan.scala:218)\n\tat org.apache.spark.rdd.RDDOperationScope$.withScope(RDDOperationScope.scala:151)\n\tat org.apache.spark.sql.execution.SparkPlan.executeQuery(SparkPlan.scala:215)\n\tat org.apache.spark.sql.execution.SparkPlan.execute(SparkPlan.scala:176)\n\tat org.apache.spark.sql.execution.InputAdapter.inputRDD(WholeStageCodegenExec.scala:525)\n\tat org.apache.spark.sql.execution.InputRDDCodegen.inputRDDs(WholeStageCodegenExec.scala:453)\n\tat org.apache.spark.sql.execution.InputRDDCodegen.inputRDDs$(WholeStageCodegenExec.scala:452)\n\tat org.apache.spark.sql.execution.InputAdapter.inputRDDs(WholeStageCodegenExec.scala:496)\n\tat org.apache.spark.sql.execution.SortExec.inputRDDs(SortExec.scala:132)\n\tat org.apache.spark.sql.execution.WholeStageCodegenExec.doExecute(WholeStageCodegenExec.scala:720)\n\tat org.apache.spark.sql.execution.SparkPlan.$anonfun$execute$1(SparkPlan.scala:180)\n\tat org.apache.spark.sql.execution.SparkPlan.$anonfun$executeQuery$1(SparkPlan.scala:218)\n\tat org.apache.spark.rdd.RDDOperationScope$.withScope(RDDOperationScope.scala:151)\n\tat org.apache.spark.sql.execution.SparkPlan.executeQuery(SparkPlan.scala:215)\n\tat org.apache.spark.sql.execution.SparkPlan.execute(SparkPlan.scala:176)\n\tat org.apache.spark.sql.execution.aggregate.SortAggregateExec.$anonfun$doExecute$1(SortAggregateExec.scala:77)\n\tat org.apache.spark.sql.catalyst.errors.package$.attachTree(package.scala:52)\n\tat org.apache.spark.sql.execution.aggregate.SortAggregateExec.doExecute(SortAggregateExec.scala:75)\n\tat org.apache.spark.sql.execution.SparkPlan.$anonfun$execute$1(SparkPlan.scala:180)\n\tat org.apache.spark.sql.execution.SparkPlan.$anonfun$executeQuery$1(SparkPlan.scala:218)\n\tat org.apache.spark.rdd.RDDOperationScope$.withScope(RDDOperationScope.scala:151)\n\tat org.apache.spark.sql.execution.SparkPlan.executeQuery(SparkPlan.scala:215)\n\tat org.apache.spark.sql.execution.SparkPlan.execute(SparkPlan.scala:176)\n\tat org.apache.spark.sql.execution.exchange.ShuffleExchangeExec.inputRDD$lzycompute(ShuffleExchangeExec.scala:106)\n\tat org.apache.spark.sql.execution.exchange.ShuffleExchangeExec.inputRDD(ShuffleExchangeExec.scala:106)\n\tat org.apache.spark.sql.execution.exchange.ShuffleExchangeExec.shuffleDependency$lzycompute(ShuffleExchangeExec.scala:139)\n\tat org.apache.spark.sql.execution.exchange.ShuffleExchangeExec.shuffleDependency(ShuffleExchangeExec.scala:137)\n\tat org.apache.spark.sql.execution.exchange.ShuffleExchangeExec.$anonfun$doExecute$1(ShuffleExchangeExec.scala:154)\n\tat org.apache.spark.sql.catalyst.errors.package$.attachTree(package.scala:52)\n\tat org.apache.spark.sql.execution.exchange.ShuffleExchangeExec.doExecute(ShuffleExchangeExec.scala:151)\n\tat org.apache.spark.sql.execution.SparkPlan.$anonfun$execute$1(SparkPlan.scala:180)\n\tat org.apache.spark.sql.execution.SparkPlan.$anonfun$executeQuery$1(SparkPlan.scala:218)\n\tat org.apache.spark.rdd.RDDOperationScope$.withScope(RDDOperationScope.scala:151)\n\tat org.apache.spark.sql.execution.SparkPlan.executeQuery(SparkPlan.scala:215)\n\tat org.apache.spark.sql.execution.SparkPlan.execute(SparkPlan.scala:176)\n\tat org.apache.spark.sql.execution.InputAdapter.inputRDD(WholeStageCodegenExec.scala:525)\n\tat org.apache.spark.sql.execution.InputRDDCodegen.inputRDDs(WholeStageCodegenExec.scala:453)\n\tat org.apache.spark.sql.execution.InputRDDCodegen.inputRDDs$(WholeStageCodegenExec.scala:452)\n\tat org.apache.spark.sql.execution.InputAdapter.inputRDDs(WholeStageCodegenExec.scala:496)\n\tat org.apache.spark.sql.execution.SortExec.inputRDDs(SortExec.scala:132)\n\tat org.apache.spark.sql.execution.WholeStageCodegenExec.doExecute(WholeStageCodegenExec.scala:720)\n\tat org.apache.spark.sql.execution.SparkPlan.$anonfun$execute$1(SparkPlan.scala:180)\n\tat org.apache.spark.sql.execution.SparkPlan.$anonfun$executeQuery$1(SparkPlan.scala:218)\n\tat org.apache.spark.rdd.RDDOperationScope$.withScope(RDDOperationScope.scala:151)\n\tat org.apache.spark.sql.execution.SparkPlan.executeQuery(SparkPlan.scala:215)\n\tat org.apache.spark.sql.execution.SparkPlan.execute(SparkPlan.scala:176)\n\tat org.apache.spark.sql.execution.aggregate.SortAggregateExec.$anonfun$doExecute$1(SortAggregateExec.scala:77)\n\tat org.apache.spark.sql.catalyst.errors.package$.attachTree(package.scala:52)\n\tat org.apache.spark.sql.execution.aggregate.SortAggregateExec.doExecute(SortAggregateExec.scala:75)\n\tat org.apache.spark.sql.execution.SparkPlan.$anonfun$execute$1(SparkPlan.scala:180)\n\tat org.apache.spark.sql.execution.SparkPlan.$anonfun$executeQuery$1(SparkPlan.scala:218)\n\tat org.apache.spark.rdd.RDDOperationScope$.withScope(RDDOperationScope.scala:151)\n\tat org.apache.spark.sql.execution.SparkPlan.executeQuery(SparkPlan.scala:215)\n\tat org.apache.spark.sql.execution.SparkPlan.execute(SparkPlan.scala:176)\n\tat org.apache.spark.sql.execution.datasources.FileFormatWriter$.write(FileFormatWriter.scala:177)\n\t... 33 more\nCaused by: java.util.concurrent.TimeoutException\n\tat java.base/java.util.concurrent.FutureTask.get(FutureTask.java:204)\n\tat org.apache.spark.sql.execution.exchange.BroadcastExchangeExec.doExecuteBroadcast(BroadcastExchangeExec.scala:195)\n\t... 236 more\n"
          ]
        }
      ],
      "source": [
        "vertice_PatternDf.write.csv(\"/content/drive/MyDrive/pysparkGraph/out/Lab4Graph_verticesForSubGragh\")"
      ],
      "id": "tL8YHFnGXKge"
    },
    {
      "cell_type": "code",
      "source": [
        "# tripid|delay|distance|src|dst\n",
        "edges_PatternDF=subGraphWithPattern.select(\"e1.tripid\",\"e1.delay\",\"e1.distance\",\"e1.src\",\"e1.dst\")"
      ],
      "metadata": {
        "id": "sTP4sE4jduMS"
      },
      "id": "sTP4sE4jduMS",
      "execution_count": 74,
      "outputs": []
    },
    {
      "cell_type": "code",
      "source": [
        "e=edges_PatternDF.drop_duplicates(subset=[\"tripid\"])"
      ],
      "metadata": {
        "id": "ClM5iZqE7S58"
      },
      "id": "ClM5iZqE7S58",
      "execution_count": 76,
      "outputs": []
    },
    {
      "cell_type": "code",
      "source": [
        "edges_PatternDF=edges_PatternDF.dropDuplicates(subset=[\"tripid\"])"
      ],
      "metadata": {
        "id": "5P_keAZ3eMtY"
      },
      "id": "5P_keAZ3eMtY",
      "execution_count": 61,
      "outputs": []
    },
    {
      "cell_type": "code",
      "source": [
        "edges_PatternDF=edges_PatternDF.union(subGraphWithPattern.select(\"e2.tripid\",\"e2.delay\",\"e2.distance\",\"e2.src\",\"e2.dst\"))"
      ],
      "metadata": {
        "id": "1XR2XBJee7Z0"
      },
      "id": "1XR2XBJee7Z0",
      "execution_count": 78,
      "outputs": []
    },
    {
      "cell_type": "code",
      "source": [
        "edges_PatternDF=edges_PatternDF.union(subGraphWithPattern.select(\"e3.tripid\",\"e3.delay\",\"e3.distance\",\"e3.src\",\"e3.dst\"))"
      ],
      "metadata": {
        "id": "lHikkJBpfKqs"
      },
      "id": "lHikkJBpfKqs",
      "execution_count": 79,
      "outputs": []
    },
    {
      "cell_type": "code",
      "source": [
        "edges_PatternDF=edges_PatternDF.dropDuplicates(subset=[\"tripid\"])"
      ],
      "metadata": {
        "id": "7G5WLFipfSOO"
      },
      "id": "7G5WLFipfSOO",
      "execution_count": 80,
      "outputs": []
    },
    {
      "cell_type": "code",
      "execution_count": 81,
      "metadata": {
        "id": "YgvAtaiyXiU5",
        "colab": {
          "base_uri": "https://localhost:8080/",
          "height": 1000
        },
        "outputId": "f81b40eb-dcb1-43e5-9e67-85b6cb35760a"
      },
      "outputs": [
        {
          "output_type": "error",
          "ename": "Py4JJavaError",
          "evalue": "ignored",
          "traceback": [
            "\u001b[0;31m---------------------------------------------------------------------------\u001b[0m",
            "\u001b[0;31mPy4JJavaError\u001b[0m                             Traceback (most recent call last)",
            "\u001b[0;32m<ipython-input-81-b15eec333a6a>\u001b[0m in \u001b[0;36m<module>\u001b[0;34m()\u001b[0m\n\u001b[0;32m----> 1\u001b[0;31m \u001b[0medges_PatternDF\u001b[0m\u001b[0;34m.\u001b[0m\u001b[0mwrite\u001b[0m\u001b[0;34m.\u001b[0m\u001b[0mcsv\u001b[0m\u001b[0;34m(\u001b[0m\u001b[0;34m\"/content/drive/MyDrive/pysparkGraph/out/Lab4Graph_edgesForSubGragh\"\u001b[0m\u001b[0;34m)\u001b[0m\u001b[0;34m\u001b[0m\u001b[0;34m\u001b[0m\u001b[0m\n\u001b[0m",
            "\u001b[0;32m/content/spark-3.0.2-bin-hadoop2.7/python/pyspark/sql/readwriter.py\u001b[0m in \u001b[0;36mcsv\u001b[0;34m(self, path, mode, compression, sep, quote, escape, header, nullValue, escapeQuotes, quoteAll, dateFormat, timestampFormat, ignoreLeadingWhiteSpace, ignoreTrailingWhiteSpace, charToEscapeQuoteEscaping, encoding, emptyValue, lineSep)\u001b[0m\n\u001b[1;32m   1028\u001b[0m                        \u001b[0mcharToEscapeQuoteEscaping\u001b[0m\u001b[0;34m=\u001b[0m\u001b[0mcharToEscapeQuoteEscaping\u001b[0m\u001b[0;34m,\u001b[0m\u001b[0;34m\u001b[0m\u001b[0;34m\u001b[0m\u001b[0m\n\u001b[1;32m   1029\u001b[0m                        encoding=encoding, emptyValue=emptyValue, lineSep=lineSep)\n\u001b[0;32m-> 1030\u001b[0;31m         \u001b[0mself\u001b[0m\u001b[0;34m.\u001b[0m\u001b[0m_jwrite\u001b[0m\u001b[0;34m.\u001b[0m\u001b[0mcsv\u001b[0m\u001b[0;34m(\u001b[0m\u001b[0mpath\u001b[0m\u001b[0;34m)\u001b[0m\u001b[0;34m\u001b[0m\u001b[0;34m\u001b[0m\u001b[0m\n\u001b[0m\u001b[1;32m   1031\u001b[0m \u001b[0;34m\u001b[0m\u001b[0m\n\u001b[1;32m   1032\u001b[0m     \u001b[0;34m@\u001b[0m\u001b[0msince\u001b[0m\u001b[0;34m(\u001b[0m\u001b[0;36m1.5\u001b[0m\u001b[0;34m)\u001b[0m\u001b[0;34m\u001b[0m\u001b[0;34m\u001b[0m\u001b[0m\n",
            "\u001b[0;32m/content/spark-3.0.2-bin-hadoop2.7/python/lib/py4j-0.10.9-src.zip/py4j/java_gateway.py\u001b[0m in \u001b[0;36m__call__\u001b[0;34m(self, *args)\u001b[0m\n\u001b[1;32m   1303\u001b[0m         \u001b[0manswer\u001b[0m \u001b[0;34m=\u001b[0m \u001b[0mself\u001b[0m\u001b[0;34m.\u001b[0m\u001b[0mgateway_client\u001b[0m\u001b[0;34m.\u001b[0m\u001b[0msend_command\u001b[0m\u001b[0;34m(\u001b[0m\u001b[0mcommand\u001b[0m\u001b[0;34m)\u001b[0m\u001b[0;34m\u001b[0m\u001b[0;34m\u001b[0m\u001b[0m\n\u001b[1;32m   1304\u001b[0m         return_value = get_return_value(\n\u001b[0;32m-> 1305\u001b[0;31m             answer, self.gateway_client, self.target_id, self.name)\n\u001b[0m\u001b[1;32m   1306\u001b[0m \u001b[0;34m\u001b[0m\u001b[0m\n\u001b[1;32m   1307\u001b[0m         \u001b[0;32mfor\u001b[0m \u001b[0mtemp_arg\u001b[0m \u001b[0;32min\u001b[0m \u001b[0mtemp_args\u001b[0m\u001b[0;34m:\u001b[0m\u001b[0;34m\u001b[0m\u001b[0;34m\u001b[0m\u001b[0m\n",
            "\u001b[0;32m/content/spark-3.0.2-bin-hadoop2.7/python/pyspark/sql/utils.py\u001b[0m in \u001b[0;36mdeco\u001b[0;34m(*a, **kw)\u001b[0m\n\u001b[1;32m    126\u001b[0m     \u001b[0;32mdef\u001b[0m \u001b[0mdeco\u001b[0m\u001b[0;34m(\u001b[0m\u001b[0;34m*\u001b[0m\u001b[0ma\u001b[0m\u001b[0;34m,\u001b[0m \u001b[0;34m**\u001b[0m\u001b[0mkw\u001b[0m\u001b[0;34m)\u001b[0m\u001b[0;34m:\u001b[0m\u001b[0;34m\u001b[0m\u001b[0;34m\u001b[0m\u001b[0m\n\u001b[1;32m    127\u001b[0m         \u001b[0;32mtry\u001b[0m\u001b[0;34m:\u001b[0m\u001b[0;34m\u001b[0m\u001b[0;34m\u001b[0m\u001b[0m\n\u001b[0;32m--> 128\u001b[0;31m             \u001b[0;32mreturn\u001b[0m \u001b[0mf\u001b[0m\u001b[0;34m(\u001b[0m\u001b[0;34m*\u001b[0m\u001b[0ma\u001b[0m\u001b[0;34m,\u001b[0m \u001b[0;34m**\u001b[0m\u001b[0mkw\u001b[0m\u001b[0;34m)\u001b[0m\u001b[0;34m\u001b[0m\u001b[0;34m\u001b[0m\u001b[0m\n\u001b[0m\u001b[1;32m    129\u001b[0m         \u001b[0;32mexcept\u001b[0m \u001b[0mpy4j\u001b[0m\u001b[0;34m.\u001b[0m\u001b[0mprotocol\u001b[0m\u001b[0;34m.\u001b[0m\u001b[0mPy4JJavaError\u001b[0m \u001b[0;32mas\u001b[0m \u001b[0me\u001b[0m\u001b[0;34m:\u001b[0m\u001b[0;34m\u001b[0m\u001b[0;34m\u001b[0m\u001b[0m\n\u001b[1;32m    130\u001b[0m             \u001b[0mconverted\u001b[0m \u001b[0;34m=\u001b[0m \u001b[0mconvert_exception\u001b[0m\u001b[0;34m(\u001b[0m\u001b[0me\u001b[0m\u001b[0;34m.\u001b[0m\u001b[0mjava_exception\u001b[0m\u001b[0;34m)\u001b[0m\u001b[0;34m\u001b[0m\u001b[0;34m\u001b[0m\u001b[0m\n",
            "\u001b[0;32m/content/spark-3.0.2-bin-hadoop2.7/python/lib/py4j-0.10.9-src.zip/py4j/protocol.py\u001b[0m in \u001b[0;36mget_return_value\u001b[0;34m(answer, gateway_client, target_id, name)\u001b[0m\n\u001b[1;32m    326\u001b[0m                 raise Py4JJavaError(\n\u001b[1;32m    327\u001b[0m                     \u001b[0;34m\"An error occurred while calling {0}{1}{2}.\\n\"\u001b[0m\u001b[0;34m.\u001b[0m\u001b[0;34m\u001b[0m\u001b[0;34m\u001b[0m\u001b[0m\n\u001b[0;32m--> 328\u001b[0;31m                     format(target_id, \".\", name), value)\n\u001b[0m\u001b[1;32m    329\u001b[0m             \u001b[0;32melse\u001b[0m\u001b[0;34m:\u001b[0m\u001b[0;34m\u001b[0m\u001b[0;34m\u001b[0m\u001b[0m\n\u001b[1;32m    330\u001b[0m                 raise Py4JError(\n",
            "\u001b[0;31mPy4JJavaError\u001b[0m: An error occurred while calling o400.csv.\n: org.apache.spark.SparkException: Job aborted.\n\tat org.apache.spark.sql.execution.datasources.FileFormatWriter$.write(FileFormatWriter.scala:231)\n\tat org.apache.spark.sql.execution.datasources.InsertIntoHadoopFsRelationCommand.run(InsertIntoHadoopFsRelationCommand.scala:178)\n\tat org.apache.spark.sql.execution.command.DataWritingCommandExec.sideEffectResult$lzycompute(commands.scala:108)\n\tat org.apache.spark.sql.execution.command.DataWritingCommandExec.sideEffectResult(commands.scala:106)\n\tat org.apache.spark.sql.execution.command.DataWritingCommandExec.doExecute(commands.scala:131)\n\tat org.apache.spark.sql.execution.SparkPlan.$anonfun$execute$1(SparkPlan.scala:180)\n\tat org.apache.spark.sql.execution.SparkPlan.$anonfun$executeQuery$1(SparkPlan.scala:218)\n\tat org.apache.spark.rdd.RDDOperationScope$.withScope(RDDOperationScope.scala:151)\n\tat org.apache.spark.sql.execution.SparkPlan.executeQuery(SparkPlan.scala:215)\n\tat org.apache.spark.sql.execution.SparkPlan.execute(SparkPlan.scala:176)\n\tat org.apache.spark.sql.execution.QueryExecution.toRdd$lzycompute(QueryExecution.scala:127)\n\tat org.apache.spark.sql.execution.QueryExecution.toRdd(QueryExecution.scala:126)\n\tat org.apache.spark.sql.DataFrameWriter.$anonfun$runCommand$1(DataFrameWriter.scala:962)\n\tat org.apache.spark.sql.execution.SQLExecution$.$anonfun$withNewExecutionId$5(SQLExecution.scala:100)\n\tat org.apache.spark.sql.execution.SQLExecution$.withSQLConfPropagated(SQLExecution.scala:160)\n\tat org.apache.spark.sql.execution.SQLExecution$.$anonfun$withNewExecutionId$1(SQLExecution.scala:87)\n\tat org.apache.spark.sql.SparkSession.withActive(SparkSession.scala:764)\n\tat org.apache.spark.sql.execution.SQLExecution$.withNewExecutionId(SQLExecution.scala:64)\n\tat org.apache.spark.sql.DataFrameWriter.runCommand(DataFrameWriter.scala:962)\n\tat org.apache.spark.sql.DataFrameWriter.saveToV1Source(DataFrameWriter.scala:414)\n\tat org.apache.spark.sql.DataFrameWriter.save(DataFrameWriter.scala:398)\n\tat org.apache.spark.sql.DataFrameWriter.save(DataFrameWriter.scala:287)\n\tat org.apache.spark.sql.DataFrameWriter.csv(DataFrameWriter.scala:952)\n\tat java.base/jdk.internal.reflect.NativeMethodAccessorImpl.invoke0(Native Method)\n\tat java.base/jdk.internal.reflect.NativeMethodAccessorImpl.invoke(NativeMethodAccessorImpl.java:62)\n\tat java.base/jdk.internal.reflect.DelegatingMethodAccessorImpl.invoke(DelegatingMethodAccessorImpl.java:43)\n\tat java.base/java.lang.reflect.Method.invoke(Method.java:566)\n\tat py4j.reflection.MethodInvoker.invoke(MethodInvoker.java:244)\n\tat py4j.reflection.ReflectionEngine.invoke(ReflectionEngine.java:357)\n\tat py4j.Gateway.invoke(Gateway.java:282)\n\tat py4j.commands.AbstractCommand.invokeMethod(AbstractCommand.java:132)\n\tat py4j.commands.CallCommand.execute(CallCommand.java:79)\n\tat py4j.GatewayConnection.run(GatewayConnection.java:238)\n\tat java.base/java.lang.Thread.run(Thread.java:829)\nCaused by: org.apache.spark.SparkException: Could not execute broadcast in 300 secs. You can increase the timeout for broadcasts via spark.sql.broadcastTimeout or disable broadcast join by setting spark.sql.autoBroadcastJoinThreshold to -1\n\tat org.apache.spark.sql.execution.exchange.BroadcastExchangeExec.doExecuteBroadcast(BroadcastExchangeExec.scala:206)\n\tat org.apache.spark.sql.execution.InputAdapter.doExecuteBroadcast(WholeStageCodegenExec.scala:515)\n\tat org.apache.spark.sql.execution.SparkPlan.$anonfun$executeBroadcast$1(SparkPlan.scala:193)\n\tat org.apache.spark.sql.execution.SparkPlan.$anonfun$executeQuery$1(SparkPlan.scala:218)\n\tat org.apache.spark.rdd.RDDOperationScope$.withScope(RDDOperationScope.scala:151)\n\tat org.apache.spark.sql.execution.SparkPlan.executeQuery(SparkPlan.scala:215)\n\tat org.apache.spark.sql.execution.SparkPlan.executeBroadcast(SparkPlan.scala:189)\n\tat org.apache.spark.sql.execution.joins.BroadcastHashJoinExec.prepareBroadcast(BroadcastHashJoinExec.scala:116)\n\tat org.apache.spark.sql.execution.joins.BroadcastHashJoinExec.codegenInner(BroadcastHashJoinExec.scala:210)\n\tat org.apache.spark.sql.execution.joins.BroadcastHashJoinExec.doConsume(BroadcastHashJoinExec.scala:100)\n\tat org.apache.spark.sql.execution.CodegenSupport.constructDoConsumeFunction(WholeStageCodegenExec.scala:221)\n\tat org.apache.spark.sql.execution.CodegenSupport.consume(WholeStageCodegenExec.scala:192)\n\tat org.apache.spark.sql.execution.CodegenSupport.consume$(WholeStageCodegenExec.scala:149)\n\tat org.apache.spark.sql.execution.ProjectExec.consume(basicPhysicalOperators.scala:41)\n\tat org.apache.spark.sql.execution.ProjectExec.doConsume(basicPhysicalOperators.scala:71)\n\tat org.apache.spark.sql.execution.CodegenSupport.consume(WholeStageCodegenExec.scala:194)\n\tat org.apache.spark.sql.execution.CodegenSupport.consume$(WholeStageCodegenExec.scala:149)\n\tat org.apache.spark.sql.execution.SampleExec.consume(basicPhysicalOperators.scala:263)\n\tat org.apache.spark.sql.execution.SampleExec.doConsume(basicPhysicalOperators.scala:352)\n\tat org.apache.spark.sql.execution.CodegenSupport.consume(WholeStageCodegenExec.scala:194)\n\tat org.apache.spark.sql.execution.CodegenSupport.consume$(WholeStageCodegenExec.scala:149)\n\tat org.apache.spark.sql.execution.ProjectExec.consume(basicPhysicalOperators.scala:41)\n\tat org.apache.spark.sql.execution.ProjectExec.doConsume(basicPhysicalOperators.scala:71)\n\tat org.apache.spark.sql.execution.CodegenSupport.consume(WholeStageCodegenExec.scala:194)\n\tat org.apache.spark.sql.execution.CodegenSupport.consume$(WholeStageCodegenExec.scala:149)\n\tat org.apache.spark.sql.execution.InputAdapter.consume(WholeStageCodegenExec.scala:496)\n\tat org.apache.spark.sql.execution.InputRDDCodegen.doProduce(WholeStageCodegenExec.scala:483)\n\tat org.apache.spark.sql.execution.InputRDDCodegen.doProduce$(WholeStageCodegenExec.scala:456)\n\tat org.apache.spark.sql.execution.InputAdapter.doProduce(WholeStageCodegenExec.scala:496)\n\tat org.apache.spark.sql.execution.CodegenSupport.$anonfun$produce$1(WholeStageCodegenExec.scala:95)\n\tat org.apache.spark.sql.execution.SparkPlan.$anonfun$executeQuery$1(SparkPlan.scala:218)\n\tat org.apache.spark.rdd.RDDOperationScope$.withScope(RDDOperationScope.scala:151)\n\tat org.apache.spark.sql.execution.SparkPlan.executeQuery(SparkPlan.scala:215)\n\tat org.apache.spark.sql.execution.CodegenSupport.produce(WholeStageCodegenExec.scala:90)\n\tat org.apache.spark.sql.execution.CodegenSupport.produce$(WholeStageCodegenExec.scala:90)\n\tat org.apache.spark.sql.execution.InputAdapter.produce(WholeStageCodegenExec.scala:496)\n\tat org.apache.spark.sql.execution.ProjectExec.doProduce(basicPhysicalOperators.scala:51)\n\tat org.apache.spark.sql.execution.CodegenSupport.$anonfun$produce$1(WholeStageCodegenExec.scala:95)\n\tat org.apache.spark.sql.execution.SparkPlan.$anonfun$executeQuery$1(SparkPlan.scala:218)\n\tat org.apache.spark.rdd.RDDOperationScope$.withScope(RDDOperationScope.scala:151)\n\tat org.apache.spark.sql.execution.SparkPlan.executeQuery(SparkPlan.scala:215)\n\tat org.apache.spark.sql.execution.CodegenSupport.produce(WholeStageCodegenExec.scala:90)\n\tat org.apache.spark.sql.execution.CodegenSupport.produce$(WholeStageCodegenExec.scala:90)\n\tat org.apache.spark.sql.execution.ProjectExec.produce(basicPhysicalOperators.scala:41)\n\tat org.apache.spark.sql.execution.SampleExec.doProduce(basicPhysicalOperators.scala:299)\n\tat org.apache.spark.sql.execution.CodegenSupport.$anonfun$produce$1(WholeStageCodegenExec.scala:95)\n\tat org.apache.spark.sql.execution.SparkPlan.$anonfun$executeQuery$1(SparkPlan.scala:218)\n\tat org.apache.spark.rdd.RDDOperationScope$.withScope(RDDOperationScope.scala:151)\n\tat org.apache.spark.sql.execution.SparkPlan.executeQuery(SparkPlan.scala:215)\n\tat org.apache.spark.sql.execution.CodegenSupport.produce(WholeStageCodegenExec.scala:90)\n\tat org.apache.spark.sql.execution.CodegenSupport.produce$(WholeStageCodegenExec.scala:90)\n\tat org.apache.spark.sql.execution.SampleExec.produce(basicPhysicalOperators.scala:263)\n\tat org.apache.spark.sql.execution.ProjectExec.doProduce(basicPhysicalOperators.scala:51)\n\tat org.apache.spark.sql.execution.CodegenSupport.$anonfun$produce$1(WholeStageCodegenExec.scala:95)\n\tat org.apache.spark.sql.execution.SparkPlan.$anonfun$executeQuery$1(SparkPlan.scala:218)\n\tat org.apache.spark.rdd.RDDOperationScope$.withScope(RDDOperationScope.scala:151)\n\tat org.apache.spark.sql.execution.SparkPlan.executeQuery(SparkPlan.scala:215)\n\tat org.apache.spark.sql.execution.CodegenSupport.produce(WholeStageCodegenExec.scala:90)\n\tat org.apache.spark.sql.execution.CodegenSupport.produce$(WholeStageCodegenExec.scala:90)\n\tat org.apache.spark.sql.execution.ProjectExec.produce(basicPhysicalOperators.scala:41)\n\tat org.apache.spark.sql.execution.joins.BroadcastHashJoinExec.doProduce(BroadcastHashJoinExec.scala:95)\n\tat org.apache.spark.sql.execution.CodegenSupport.$anonfun$produce$1(WholeStageCodegenExec.scala:95)\n\tat org.apache.spark.sql.execution.SparkPlan.$anonfun$executeQuery$1(SparkPlan.scala:218)\n\tat org.apache.spark.rdd.RDDOperationScope$.withScope(RDDOperationScope.scala:151)\n\tat org.apache.spark.sql.execution.SparkPlan.executeQuery(SparkPlan.scala:215)\n\tat org.apache.spark.sql.execution.CodegenSupport.produce(WholeStageCodegenExec.scala:90)\n\tat org.apache.spark.sql.execution.CodegenSupport.produce$(WholeStageCodegenExec.scala:90)\n\tat org.apache.spark.sql.execution.joins.BroadcastHashJoinExec.produce(BroadcastHashJoinExec.scala:39)\n\tat org.apache.spark.sql.execution.joins.BroadcastHashJoinExec.doProduce(BroadcastHashJoinExec.scala:95)\n\tat org.apache.spark.sql.execution.CodegenSupport.$anonfun$produce$1(WholeStageCodegenExec.scala:95)\n\tat org.apache.spark.sql.execution.SparkPlan.$anonfun$executeQuery$1(SparkPlan.scala:218)\n\tat org.apache.spark.rdd.RDDOperationScope$.withScope(RDDOperationScope.scala:151)\n\tat org.apache.spark.sql.execution.SparkPlan.executeQuery(SparkPlan.scala:215)\n\tat org.apache.spark.sql.execution.CodegenSupport.produce(WholeStageCodegenExec.scala:90)\n\tat org.apache.spark.sql.execution.CodegenSupport.produce$(WholeStageCodegenExec.scala:90)\n\tat org.apache.spark.sql.execution.joins.BroadcastHashJoinExec.produce(BroadcastHashJoinExec.scala:39)\n\tat org.apache.spark.sql.execution.joins.BroadcastHashJoinExec.doProduce(BroadcastHashJoinExec.scala:95)\n\tat org.apache.spark.sql.execution.CodegenSupport.$anonfun$produce$1(WholeStageCodegenExec.scala:95)\n\tat org.apache.spark.sql.execution.SparkPlan.$anonfun$executeQuery$1(SparkPlan.scala:218)\n\tat org.apache.spark.rdd.RDDOperationScope$.withScope(RDDOperationScope.scala:151)\n\tat org.apache.spark.sql.execution.SparkPlan.executeQuery(SparkPlan.scala:215)\n\tat org.apache.spark.sql.execution.CodegenSupport.produce(WholeStageCodegenExec.scala:90)\n\tat org.apache.spark.sql.execution.CodegenSupport.produce$(WholeStageCodegenExec.scala:90)\n\tat org.apache.spark.sql.execution.joins.BroadcastHashJoinExec.produce(BroadcastHashJoinExec.scala:39)\n\tat org.apache.spark.sql.execution.ProjectExec.doProduce(basicPhysicalOperators.scala:51)\n\tat org.apache.spark.sql.execution.CodegenSupport.$anonfun$produce$1(WholeStageCodegenExec.scala:95)\n\tat org.apache.spark.sql.execution.SparkPlan.$anonfun$executeQuery$1(SparkPlan.scala:218)\n\tat org.apache.spark.rdd.RDDOperationScope$.withScope(RDDOperationScope.scala:151)\n\tat org.apache.spark.sql.execution.SparkPlan.executeQuery(SparkPlan.scala:215)\n\tat org.apache.spark.sql.execution.CodegenSupport.produce(WholeStageCodegenExec.scala:90)\n\tat org.apache.spark.sql.execution.CodegenSupport.produce$(WholeStageCodegenExec.scala:90)\n\tat org.apache.spark.sql.execution.ProjectExec.produce(basicPhysicalOperators.scala:41)\n\tat org.apache.spark.sql.execution.joins.BroadcastHashJoinExec.doProduce(BroadcastHashJoinExec.scala:95)\n\tat org.apache.spark.sql.execution.CodegenSupport.$anonfun$produce$1(WholeStageCodegenExec.scala:95)\n\tat org.apache.spark.sql.execution.SparkPlan.$anonfun$executeQuery$1(SparkPlan.scala:218)\n\tat org.apache.spark.rdd.RDDOperationScope$.withScope(RDDOperationScope.scala:151)\n\tat org.apache.spark.sql.execution.SparkPlan.executeQuery(SparkPlan.scala:215)\n\tat org.apache.spark.sql.execution.CodegenSupport.produce(WholeStageCodegenExec.scala:90)\n\tat org.apache.spark.sql.execution.CodegenSupport.produce$(WholeStageCodegenExec.scala:90)\n\tat org.apache.spark.sql.execution.joins.BroadcastHashJoinExec.produce(BroadcastHashJoinExec.scala:39)\n\tat org.apache.spark.sql.execution.ProjectExec.doProduce(basicPhysicalOperators.scala:51)\n\tat org.apache.spark.sql.execution.CodegenSupport.$anonfun$produce$1(WholeStageCodegenExec.scala:95)\n\tat org.apache.spark.sql.execution.SparkPlan.$anonfun$executeQuery$1(SparkPlan.scala:218)\n\tat org.apache.spark.rdd.RDDOperationScope$.withScope(RDDOperationScope.scala:151)\n\tat org.apache.spark.sql.execution.SparkPlan.executeQuery(SparkPlan.scala:215)\n\tat org.apache.spark.sql.execution.CodegenSupport.produce(WholeStageCodegenExec.scala:90)\n\tat org.apache.spark.sql.execution.CodegenSupport.produce$(WholeStageCodegenExec.scala:90)\n\tat org.apache.spark.sql.execution.ProjectExec.produce(basicPhysicalOperators.scala:41)\n\tat org.apache.spark.sql.execution.joins.BroadcastHashJoinExec.doProduce(BroadcastHashJoinExec.scala:95)\n\tat org.apache.spark.sql.execution.CodegenSupport.$anonfun$produce$1(WholeStageCodegenExec.scala:95)\n\tat org.apache.spark.sql.execution.SparkPlan.$anonfun$executeQuery$1(SparkPlan.scala:218)\n\tat org.apache.spark.rdd.RDDOperationScope$.withScope(RDDOperationScope.scala:151)\n\tat org.apache.spark.sql.execution.SparkPlan.executeQuery(SparkPlan.scala:215)\n\tat org.apache.spark.sql.execution.CodegenSupport.produce(WholeStageCodegenExec.scala:90)\n\tat org.apache.spark.sql.execution.CodegenSupport.produce$(WholeStageCodegenExec.scala:90)\n\tat org.apache.spark.sql.execution.joins.BroadcastHashJoinExec.produce(BroadcastHashJoinExec.scala:39)\n\tat org.apache.spark.sql.execution.ProjectExec.doProduce(basicPhysicalOperators.scala:51)\n\tat org.apache.spark.sql.execution.CodegenSupport.$anonfun$produce$1(WholeStageCodegenExec.scala:95)\n\tat org.apache.spark.sql.execution.SparkPlan.$anonfun$executeQuery$1(SparkPlan.scala:218)\n\tat org.apache.spark.rdd.RDDOperationScope$.withScope(RDDOperationScope.scala:151)\n\tat org.apache.spark.sql.execution.SparkPlan.executeQuery(SparkPlan.scala:215)\n\tat org.apache.spark.sql.execution.CodegenSupport.produce(WholeStageCodegenExec.scala:90)\n\tat org.apache.spark.sql.execution.CodegenSupport.produce$(WholeStageCodegenExec.scala:90)\n\tat org.apache.spark.sql.execution.ProjectExec.produce(basicPhysicalOperators.scala:41)\n\tat org.apache.spark.sql.execution.WholeStageCodegenExec.doCodeGen(WholeStageCodegenExec.scala:632)\n\tat org.apache.spark.sql.execution.WholeStageCodegenExec.doExecute(WholeStageCodegenExec.scala:692)\n\tat org.apache.spark.sql.execution.SparkPlan.$anonfun$execute$1(SparkPlan.scala:180)\n\tat org.apache.spark.sql.execution.SparkPlan.$anonfun$executeQuery$1(SparkPlan.scala:218)\n\tat org.apache.spark.rdd.RDDOperationScope$.withScope(RDDOperationScope.scala:151)\n\tat org.apache.spark.sql.execution.SparkPlan.executeQuery(SparkPlan.scala:215)\n\tat org.apache.spark.sql.execution.SparkPlan.execute(SparkPlan.scala:176)\n\tat org.apache.spark.sql.execution.UnionExec.$anonfun$doExecute$5(basicPhysicalOperators.scala:644)\n\tat scala.collection.TraversableLike.$anonfun$map$1(TraversableLike.scala:238)\n\tat scala.collection.mutable.ResizableArray.foreach(ResizableArray.scala:62)\n\tat scala.collection.mutable.ResizableArray.foreach$(ResizableArray.scala:55)\n\tat scala.collection.mutable.ArrayBuffer.foreach(ArrayBuffer.scala:49)\n\tat scala.collection.TraversableLike.map(TraversableLike.scala:238)\n\tat scala.collection.TraversableLike.map$(TraversableLike.scala:231)\n\tat scala.collection.AbstractTraversable.map(Traversable.scala:108)\n\tat org.apache.spark.sql.execution.UnionExec.doExecute(basicPhysicalOperators.scala:644)\n\tat org.apache.spark.sql.execution.SparkPlan.$anonfun$execute$1(SparkPlan.scala:180)\n\tat org.apache.spark.sql.execution.SparkPlan.$anonfun$executeQuery$1(SparkPlan.scala:218)\n\tat org.apache.spark.rdd.RDDOperationScope$.withScope(RDDOperationScope.scala:151)\n\tat org.apache.spark.sql.execution.SparkPlan.executeQuery(SparkPlan.scala:215)\n\tat org.apache.spark.sql.execution.SparkPlan.execute(SparkPlan.scala:176)\n\tat org.apache.spark.sql.execution.InputAdapter.inputRDD(WholeStageCodegenExec.scala:525)\n\tat org.apache.spark.sql.execution.InputRDDCodegen.inputRDDs(WholeStageCodegenExec.scala:453)\n\tat org.apache.spark.sql.execution.InputRDDCodegen.inputRDDs$(WholeStageCodegenExec.scala:452)\n\tat org.apache.spark.sql.execution.InputAdapter.inputRDDs(WholeStageCodegenExec.scala:496)\n\tat org.apache.spark.sql.execution.SortExec.inputRDDs(SortExec.scala:132)\n\tat org.apache.spark.sql.execution.WholeStageCodegenExec.doExecute(WholeStageCodegenExec.scala:720)\n\tat org.apache.spark.sql.execution.SparkPlan.$anonfun$execute$1(SparkPlan.scala:180)\n\tat org.apache.spark.sql.execution.SparkPlan.$anonfun$executeQuery$1(SparkPlan.scala:218)\n\tat org.apache.spark.rdd.RDDOperationScope$.withScope(RDDOperationScope.scala:151)\n\tat org.apache.spark.sql.execution.SparkPlan.executeQuery(SparkPlan.scala:215)\n\tat org.apache.spark.sql.execution.SparkPlan.execute(SparkPlan.scala:176)\n\tat org.apache.spark.sql.execution.aggregate.SortAggregateExec.$anonfun$doExecute$1(SortAggregateExec.scala:77)\n\tat org.apache.spark.sql.catalyst.errors.package$.attachTree(package.scala:52)\n\tat org.apache.spark.sql.execution.aggregate.SortAggregateExec.doExecute(SortAggregateExec.scala:75)\n\tat org.apache.spark.sql.execution.SparkPlan.$anonfun$execute$1(SparkPlan.scala:180)\n\tat org.apache.spark.sql.execution.SparkPlan.$anonfun$executeQuery$1(SparkPlan.scala:218)\n\tat org.apache.spark.rdd.RDDOperationScope$.withScope(RDDOperationScope.scala:151)\n\tat org.apache.spark.sql.execution.SparkPlan.executeQuery(SparkPlan.scala:215)\n\tat org.apache.spark.sql.execution.SparkPlan.execute(SparkPlan.scala:176)\n\tat org.apache.spark.sql.execution.exchange.ShuffleExchangeExec.inputRDD$lzycompute(ShuffleExchangeExec.scala:106)\n\tat org.apache.spark.sql.execution.exchange.ShuffleExchangeExec.inputRDD(ShuffleExchangeExec.scala:106)\n\tat org.apache.spark.sql.execution.exchange.ShuffleExchangeExec.shuffleDependency$lzycompute(ShuffleExchangeExec.scala:139)\n\tat org.apache.spark.sql.execution.exchange.ShuffleExchangeExec.shuffleDependency(ShuffleExchangeExec.scala:137)\n\tat org.apache.spark.sql.execution.exchange.ShuffleExchangeExec.$anonfun$doExecute$1(ShuffleExchangeExec.scala:154)\n\tat org.apache.spark.sql.catalyst.errors.package$.attachTree(package.scala:52)\n\tat org.apache.spark.sql.execution.exchange.ShuffleExchangeExec.doExecute(ShuffleExchangeExec.scala:151)\n\tat org.apache.spark.sql.execution.SparkPlan.$anonfun$execute$1(SparkPlan.scala:180)\n\tat org.apache.spark.sql.execution.SparkPlan.$anonfun$executeQuery$1(SparkPlan.scala:218)\n\tat org.apache.spark.rdd.RDDOperationScope$.withScope(RDDOperationScope.scala:151)\n\tat org.apache.spark.sql.execution.SparkPlan.executeQuery(SparkPlan.scala:215)\n\tat org.apache.spark.sql.execution.SparkPlan.execute(SparkPlan.scala:176)\n\tat org.apache.spark.sql.execution.InputAdapter.inputRDD(WholeStageCodegenExec.scala:525)\n\tat org.apache.spark.sql.execution.InputRDDCodegen.inputRDDs(WholeStageCodegenExec.scala:453)\n\tat org.apache.spark.sql.execution.InputRDDCodegen.inputRDDs$(WholeStageCodegenExec.scala:452)\n\tat org.apache.spark.sql.execution.InputAdapter.inputRDDs(WholeStageCodegenExec.scala:496)\n\tat org.apache.spark.sql.execution.SortExec.inputRDDs(SortExec.scala:132)\n\tat org.apache.spark.sql.execution.WholeStageCodegenExec.doExecute(WholeStageCodegenExec.scala:720)\n\tat org.apache.spark.sql.execution.SparkPlan.$anonfun$execute$1(SparkPlan.scala:180)\n\tat org.apache.spark.sql.execution.SparkPlan.$anonfun$executeQuery$1(SparkPlan.scala:218)\n\tat org.apache.spark.rdd.RDDOperationScope$.withScope(RDDOperationScope.scala:151)\n\tat org.apache.spark.sql.execution.SparkPlan.executeQuery(SparkPlan.scala:215)\n\tat org.apache.spark.sql.execution.SparkPlan.execute(SparkPlan.scala:176)\n\tat org.apache.spark.sql.execution.aggregate.SortAggregateExec.$anonfun$doExecute$1(SortAggregateExec.scala:77)\n\tat org.apache.spark.sql.catalyst.errors.package$.attachTree(package.scala:52)\n\tat org.apache.spark.sql.execution.aggregate.SortAggregateExec.doExecute(SortAggregateExec.scala:75)\n\tat org.apache.spark.sql.execution.SparkPlan.$anonfun$execute$1(SparkPlan.scala:180)\n\tat org.apache.spark.sql.execution.SparkPlan.$anonfun$executeQuery$1(SparkPlan.scala:218)\n\tat org.apache.spark.rdd.RDDOperationScope$.withScope(RDDOperationScope.scala:151)\n\tat org.apache.spark.sql.execution.SparkPlan.executeQuery(SparkPlan.scala:215)\n\tat org.apache.spark.sql.execution.SparkPlan.execute(SparkPlan.scala:176)\n\tat org.apache.spark.sql.execution.datasources.FileFormatWriter$.write(FileFormatWriter.scala:177)\n\t... 33 more\nCaused by: java.util.concurrent.TimeoutException\n\tat java.base/java.util.concurrent.FutureTask.get(FutureTask.java:204)\n\tat org.apache.spark.sql.execution.exchange.BroadcastExchangeExec.doExecuteBroadcast(BroadcastExchangeExec.scala:195)\n\t... 228 more\n"
          ]
        }
      ],
      "source": [
        "edges_PatternDF.write.csv(\"/content/drive/MyDrive/pysparkGraph/out/Lab4Graph_edgesForSubGragh\")"
      ],
      "id": "YgvAtaiyXiU5"
    }
  ],
  "metadata": {
    "colab": {
      "collapsed_sections": [],
      "name": "GraphFrams_P.S._Student.ipynb",
      "provenance": []
    },
    "kernelspec": {
      "display_name": "Python 3 (ipykernel)",
      "language": "python",
      "name": "python3"
    },
    "language_info": {
      "codemirror_mode": {
        "name": "ipython",
        "version": 3
      },
      "file_extension": ".py",
      "mimetype": "text/x-python",
      "name": "python",
      "nbconvert_exporter": "python",
      "pygments_lexer": "ipython3",
      "version": "3.9.12"
    },
    "accelerator": "GPU",
    "gpuClass": "standard"
  },
  "nbformat": 4,
  "nbformat_minor": 5
}