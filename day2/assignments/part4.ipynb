{
  "nbformat": 4,
  "nbformat_minor": 0,
  "metadata": {
    "colab": {
      "name": "part4.ipynb",
      "provenance": []
    },
    "kernelspec": {
      "name": "python3",
      "display_name": "Python 3"
    },
    "language_info": {
      "name": "python"
    }
  },
  "cells": [
    {
      "cell_type": "code",
      "execution_count": 3,
      "metadata": {
        "id": "ibCiOfKXRH7k"
      },
      "outputs": [],
      "source": [
        "%%capture\n",
        "!pip install pyspark"
      ]
    },
    {
      "cell_type": "code",
      "source": [
        "from sklearn.preprocessing import OneHotEncoder"
      ],
      "metadata": {
        "id": "hEbEHQIphsF4"
      },
      "execution_count": 4,
      "outputs": []
    },
    {
      "cell_type": "code",
      "source": [
        "import pyspark\n",
        "from pyspark.sql import SparkSession\n",
        "spark = SparkSession.builder.appName('homework2').getOrCreate()"
      ],
      "metadata": {
        "id": "KlUn_AwXSXMc"
      },
      "execution_count": 5,
      "outputs": []
    },
    {
      "cell_type": "code",
      "source": [
        "import numpy as np"
      ],
      "metadata": {
        "id": "lq1L-q-LXfBB"
      },
      "execution_count": 6,
      "outputs": []
    },
    {
      "cell_type": "code",
      "source": [
        "df4 = spark.read.csv('/content/ITI_data.csv', header=True)\n",
        "df4.show(10)"
      ],
      "metadata": {
        "colab": {
          "base_uri": "https://localhost:8080/"
        },
        "id": "fqgwoal-R7y4",
        "outputId": "2f4bc801-0583-47d7-885d-0a630ebd42da"
      },
      "execution_count": 129,
      "outputs": [
        {
          "output_type": "stream",
          "name": "stdout",
          "text": [
            "+-----------+-----------+---+------------------+----------+------+------+-----------------+----+\n",
            "|  Ship_name|Cruise_line|Age|           Tonnage|passengers|length|cabins|passenger_density|crew|\n",
            "+-----------+-----------+---+------------------+----------+------+------+-----------------+----+\n",
            "|    Journey|    Azamara|  6|30.276999999999997|      6.94|  5.94|  3.55|            42.64|3.55|\n",
            "|      Quest|    Azamara|  6|30.276999999999997|      6.94|  5.94|  3.55|            42.64|3.55|\n",
            "|Celebration|   Carnival| 26|            47.262|     14.86|  7.22|  7.43|             31.8| 6.7|\n",
            "|   Conquest|   Carnival| 11|             110.0|     29.74|  9.53| 14.88|            36.99|19.1|\n",
            "|    Destiny|   Carnival| 17|           101.353|     26.42|  8.92| 13.21|            38.36|10.0|\n",
            "|    Ecstasy|   Carnival| 22|            70.367|     20.52|  8.55|  10.2|            34.29| 9.2|\n",
            "|    Elation|   Carnival| 15|            70.367|     20.52|  8.55|  10.2|            34.29| 9.2|\n",
            "|    Fantasy|   Carnival| 23|            70.367|     20.56|  8.55| 10.22|            34.23| 9.2|\n",
            "|Fascination|   Carnival| 19|            70.367|     20.52|  8.55|  10.2|            34.29| 9.2|\n",
            "|    Freedom|   Carnival|  6|110.23899999999999|      37.0|  9.51| 14.87|            29.79|11.5|\n",
            "+-----------+-----------+---+------------------+----------+------+------+-----------------+----+\n",
            "only showing top 10 rows\n",
            "\n"
          ]
        }
      ]
    },
    {
      "cell_type": "code",
      "source": [
        "d=df4.select(\"Cruise_line\").rdd.map(lambda x : x[0]).collect()"
      ],
      "metadata": {
        "id": "WebMX1dxfdaD"
      },
      "execution_count": 130,
      "outputs": []
    },
    {
      "cell_type": "code",
      "source": [
        "enc = OneHotEncoder(handle_unknown='ignore')"
      ],
      "metadata": {
        "id": "KE8_LuaOgOPo"
      },
      "execution_count": 74,
      "outputs": []
    },
    {
      "cell_type": "code",
      "source": [
        "A = np.array(list(d)).reshape(-1,1)"
      ],
      "metadata": {
        "id": "IQfxWda8ffDG"
      },
      "execution_count": 75,
      "outputs": []
    },
    {
      "cell_type": "code",
      "source": [
        "data_encoded=enc.fit_transform( A).toarray()\n",
        "#data_encoded=data_encoded.tolist()"
      ],
      "metadata": {
        "id": "0eCSVtSffn7l"
      },
      "execution_count": 76,
      "outputs": []
    },
    {
      "cell_type": "code",
      "source": [
        "cols=enc.get_feature_names_out()\n",
        "cols=cols.tolist()"
      ],
      "metadata": {
        "id": "h_66X-f3f0eh"
      },
      "execution_count": 77,
      "outputs": []
    },
    {
      "cell_type": "code",
      "source": [
        "import pandas as pd\n",
        "df = pd.DataFrame(data_encoded,columns =cols)\n",
        "df.head(10)"
      ],
      "metadata": {
        "colab": {
          "base_uri": "https://localhost:8080/",
          "height": 427
        },
        "id": "RMBnIJiVf2BY",
        "outputId": "af061c53-ea40-4d18-8bb0-9da60699f039"
      },
      "execution_count": 131,
      "outputs": [
        {
          "output_type": "execute_result",
          "data": {
            "text/plain": [
              "   x0_Azamara  x0_Carnival  x0_Celebrity  x0_Costa  x0_Crystal  x0_Cunard  \\\n",
              "0         1.0          0.0           0.0       0.0         0.0        0.0   \n",
              "1         1.0          0.0           0.0       0.0         0.0        0.0   \n",
              "2         0.0          1.0           0.0       0.0         0.0        0.0   \n",
              "3         0.0          1.0           0.0       0.0         0.0        0.0   \n",
              "4         0.0          1.0           0.0       0.0         0.0        0.0   \n",
              "5         0.0          1.0           0.0       0.0         0.0        0.0   \n",
              "6         0.0          1.0           0.0       0.0         0.0        0.0   \n",
              "7         0.0          1.0           0.0       0.0         0.0        0.0   \n",
              "8         0.0          1.0           0.0       0.0         0.0        0.0   \n",
              "9         0.0          1.0           0.0       0.0         0.0        0.0   \n",
              "\n",
              "   x0_Disney  x0_Holland_American  x0_MSC  x0_Norwegian  x0_Oceania  \\\n",
              "0        0.0                  0.0     0.0           0.0         0.0   \n",
              "1        0.0                  0.0     0.0           0.0         0.0   \n",
              "2        0.0                  0.0     0.0           0.0         0.0   \n",
              "3        0.0                  0.0     0.0           0.0         0.0   \n",
              "4        0.0                  0.0     0.0           0.0         0.0   \n",
              "5        0.0                  0.0     0.0           0.0         0.0   \n",
              "6        0.0                  0.0     0.0           0.0         0.0   \n",
              "7        0.0                  0.0     0.0           0.0         0.0   \n",
              "8        0.0                  0.0     0.0           0.0         0.0   \n",
              "9        0.0                  0.0     0.0           0.0         0.0   \n",
              "\n",
              "   x0_Orient  x0_P&O  x0_Princess  x0_Regent_Seven_Seas  x0_Royal_Caribbean  \\\n",
              "0        0.0     0.0          0.0                   0.0                 0.0   \n",
              "1        0.0     0.0          0.0                   0.0                 0.0   \n",
              "2        0.0     0.0          0.0                   0.0                 0.0   \n",
              "3        0.0     0.0          0.0                   0.0                 0.0   \n",
              "4        0.0     0.0          0.0                   0.0                 0.0   \n",
              "5        0.0     0.0          0.0                   0.0                 0.0   \n",
              "6        0.0     0.0          0.0                   0.0                 0.0   \n",
              "7        0.0     0.0          0.0                   0.0                 0.0   \n",
              "8        0.0     0.0          0.0                   0.0                 0.0   \n",
              "9        0.0     0.0          0.0                   0.0                 0.0   \n",
              "\n",
              "   x0_Seabourn  x0_Silversea  x0_Star  x0_Windstar  \n",
              "0          0.0           0.0      0.0          0.0  \n",
              "1          0.0           0.0      0.0          0.0  \n",
              "2          0.0           0.0      0.0          0.0  \n",
              "3          0.0           0.0      0.0          0.0  \n",
              "4          0.0           0.0      0.0          0.0  \n",
              "5          0.0           0.0      0.0          0.0  \n",
              "6          0.0           0.0      0.0          0.0  \n",
              "7          0.0           0.0      0.0          0.0  \n",
              "8          0.0           0.0      0.0          0.0  \n",
              "9          0.0           0.0      0.0          0.0  "
            ],
            "text/html": [
              "\n",
              "  <div id=\"df-1ad7e079-09ca-4a91-9592-a5eb3e77f3fa\">\n",
              "    <div class=\"colab-df-container\">\n",
              "      <div>\n",
              "<style scoped>\n",
              "    .dataframe tbody tr th:only-of-type {\n",
              "        vertical-align: middle;\n",
              "    }\n",
              "\n",
              "    .dataframe tbody tr th {\n",
              "        vertical-align: top;\n",
              "    }\n",
              "\n",
              "    .dataframe thead th {\n",
              "        text-align: right;\n",
              "    }\n",
              "</style>\n",
              "<table border=\"1\" class=\"dataframe\">\n",
              "  <thead>\n",
              "    <tr style=\"text-align: right;\">\n",
              "      <th></th>\n",
              "      <th>x0_Azamara</th>\n",
              "      <th>x0_Carnival</th>\n",
              "      <th>x0_Celebrity</th>\n",
              "      <th>x0_Costa</th>\n",
              "      <th>x0_Crystal</th>\n",
              "      <th>x0_Cunard</th>\n",
              "      <th>x0_Disney</th>\n",
              "      <th>x0_Holland_American</th>\n",
              "      <th>x0_MSC</th>\n",
              "      <th>x0_Norwegian</th>\n",
              "      <th>x0_Oceania</th>\n",
              "      <th>x0_Orient</th>\n",
              "      <th>x0_P&amp;O</th>\n",
              "      <th>x0_Princess</th>\n",
              "      <th>x0_Regent_Seven_Seas</th>\n",
              "      <th>x0_Royal_Caribbean</th>\n",
              "      <th>x0_Seabourn</th>\n",
              "      <th>x0_Silversea</th>\n",
              "      <th>x0_Star</th>\n",
              "      <th>x0_Windstar</th>\n",
              "    </tr>\n",
              "  </thead>\n",
              "  <tbody>\n",
              "    <tr>\n",
              "      <th>0</th>\n",
              "      <td>1.0</td>\n",
              "      <td>0.0</td>\n",
              "      <td>0.0</td>\n",
              "      <td>0.0</td>\n",
              "      <td>0.0</td>\n",
              "      <td>0.0</td>\n",
              "      <td>0.0</td>\n",
              "      <td>0.0</td>\n",
              "      <td>0.0</td>\n",
              "      <td>0.0</td>\n",
              "      <td>0.0</td>\n",
              "      <td>0.0</td>\n",
              "      <td>0.0</td>\n",
              "      <td>0.0</td>\n",
              "      <td>0.0</td>\n",
              "      <td>0.0</td>\n",
              "      <td>0.0</td>\n",
              "      <td>0.0</td>\n",
              "      <td>0.0</td>\n",
              "      <td>0.0</td>\n",
              "    </tr>\n",
              "    <tr>\n",
              "      <th>1</th>\n",
              "      <td>1.0</td>\n",
              "      <td>0.0</td>\n",
              "      <td>0.0</td>\n",
              "      <td>0.0</td>\n",
              "      <td>0.0</td>\n",
              "      <td>0.0</td>\n",
              "      <td>0.0</td>\n",
              "      <td>0.0</td>\n",
              "      <td>0.0</td>\n",
              "      <td>0.0</td>\n",
              "      <td>0.0</td>\n",
              "      <td>0.0</td>\n",
              "      <td>0.0</td>\n",
              "      <td>0.0</td>\n",
              "      <td>0.0</td>\n",
              "      <td>0.0</td>\n",
              "      <td>0.0</td>\n",
              "      <td>0.0</td>\n",
              "      <td>0.0</td>\n",
              "      <td>0.0</td>\n",
              "    </tr>\n",
              "    <tr>\n",
              "      <th>2</th>\n",
              "      <td>0.0</td>\n",
              "      <td>1.0</td>\n",
              "      <td>0.0</td>\n",
              "      <td>0.0</td>\n",
              "      <td>0.0</td>\n",
              "      <td>0.0</td>\n",
              "      <td>0.0</td>\n",
              "      <td>0.0</td>\n",
              "      <td>0.0</td>\n",
              "      <td>0.0</td>\n",
              "      <td>0.0</td>\n",
              "      <td>0.0</td>\n",
              "      <td>0.0</td>\n",
              "      <td>0.0</td>\n",
              "      <td>0.0</td>\n",
              "      <td>0.0</td>\n",
              "      <td>0.0</td>\n",
              "      <td>0.0</td>\n",
              "      <td>0.0</td>\n",
              "      <td>0.0</td>\n",
              "    </tr>\n",
              "    <tr>\n",
              "      <th>3</th>\n",
              "      <td>0.0</td>\n",
              "      <td>1.0</td>\n",
              "      <td>0.0</td>\n",
              "      <td>0.0</td>\n",
              "      <td>0.0</td>\n",
              "      <td>0.0</td>\n",
              "      <td>0.0</td>\n",
              "      <td>0.0</td>\n",
              "      <td>0.0</td>\n",
              "      <td>0.0</td>\n",
              "      <td>0.0</td>\n",
              "      <td>0.0</td>\n",
              "      <td>0.0</td>\n",
              "      <td>0.0</td>\n",
              "      <td>0.0</td>\n",
              "      <td>0.0</td>\n",
              "      <td>0.0</td>\n",
              "      <td>0.0</td>\n",
              "      <td>0.0</td>\n",
              "      <td>0.0</td>\n",
              "    </tr>\n",
              "    <tr>\n",
              "      <th>4</th>\n",
              "      <td>0.0</td>\n",
              "      <td>1.0</td>\n",
              "      <td>0.0</td>\n",
              "      <td>0.0</td>\n",
              "      <td>0.0</td>\n",
              "      <td>0.0</td>\n",
              "      <td>0.0</td>\n",
              "      <td>0.0</td>\n",
              "      <td>0.0</td>\n",
              "      <td>0.0</td>\n",
              "      <td>0.0</td>\n",
              "      <td>0.0</td>\n",
              "      <td>0.0</td>\n",
              "      <td>0.0</td>\n",
              "      <td>0.0</td>\n",
              "      <td>0.0</td>\n",
              "      <td>0.0</td>\n",
              "      <td>0.0</td>\n",
              "      <td>0.0</td>\n",
              "      <td>0.0</td>\n",
              "    </tr>\n",
              "    <tr>\n",
              "      <th>5</th>\n",
              "      <td>0.0</td>\n",
              "      <td>1.0</td>\n",
              "      <td>0.0</td>\n",
              "      <td>0.0</td>\n",
              "      <td>0.0</td>\n",
              "      <td>0.0</td>\n",
              "      <td>0.0</td>\n",
              "      <td>0.0</td>\n",
              "      <td>0.0</td>\n",
              "      <td>0.0</td>\n",
              "      <td>0.0</td>\n",
              "      <td>0.0</td>\n",
              "      <td>0.0</td>\n",
              "      <td>0.0</td>\n",
              "      <td>0.0</td>\n",
              "      <td>0.0</td>\n",
              "      <td>0.0</td>\n",
              "      <td>0.0</td>\n",
              "      <td>0.0</td>\n",
              "      <td>0.0</td>\n",
              "    </tr>\n",
              "    <tr>\n",
              "      <th>6</th>\n",
              "      <td>0.0</td>\n",
              "      <td>1.0</td>\n",
              "      <td>0.0</td>\n",
              "      <td>0.0</td>\n",
              "      <td>0.0</td>\n",
              "      <td>0.0</td>\n",
              "      <td>0.0</td>\n",
              "      <td>0.0</td>\n",
              "      <td>0.0</td>\n",
              "      <td>0.0</td>\n",
              "      <td>0.0</td>\n",
              "      <td>0.0</td>\n",
              "      <td>0.0</td>\n",
              "      <td>0.0</td>\n",
              "      <td>0.0</td>\n",
              "      <td>0.0</td>\n",
              "      <td>0.0</td>\n",
              "      <td>0.0</td>\n",
              "      <td>0.0</td>\n",
              "      <td>0.0</td>\n",
              "    </tr>\n",
              "    <tr>\n",
              "      <th>7</th>\n",
              "      <td>0.0</td>\n",
              "      <td>1.0</td>\n",
              "      <td>0.0</td>\n",
              "      <td>0.0</td>\n",
              "      <td>0.0</td>\n",
              "      <td>0.0</td>\n",
              "      <td>0.0</td>\n",
              "      <td>0.0</td>\n",
              "      <td>0.0</td>\n",
              "      <td>0.0</td>\n",
              "      <td>0.0</td>\n",
              "      <td>0.0</td>\n",
              "      <td>0.0</td>\n",
              "      <td>0.0</td>\n",
              "      <td>0.0</td>\n",
              "      <td>0.0</td>\n",
              "      <td>0.0</td>\n",
              "      <td>0.0</td>\n",
              "      <td>0.0</td>\n",
              "      <td>0.0</td>\n",
              "    </tr>\n",
              "    <tr>\n",
              "      <th>8</th>\n",
              "      <td>0.0</td>\n",
              "      <td>1.0</td>\n",
              "      <td>0.0</td>\n",
              "      <td>0.0</td>\n",
              "      <td>0.0</td>\n",
              "      <td>0.0</td>\n",
              "      <td>0.0</td>\n",
              "      <td>0.0</td>\n",
              "      <td>0.0</td>\n",
              "      <td>0.0</td>\n",
              "      <td>0.0</td>\n",
              "      <td>0.0</td>\n",
              "      <td>0.0</td>\n",
              "      <td>0.0</td>\n",
              "      <td>0.0</td>\n",
              "      <td>0.0</td>\n",
              "      <td>0.0</td>\n",
              "      <td>0.0</td>\n",
              "      <td>0.0</td>\n",
              "      <td>0.0</td>\n",
              "    </tr>\n",
              "    <tr>\n",
              "      <th>9</th>\n",
              "      <td>0.0</td>\n",
              "      <td>1.0</td>\n",
              "      <td>0.0</td>\n",
              "      <td>0.0</td>\n",
              "      <td>0.0</td>\n",
              "      <td>0.0</td>\n",
              "      <td>0.0</td>\n",
              "      <td>0.0</td>\n",
              "      <td>0.0</td>\n",
              "      <td>0.0</td>\n",
              "      <td>0.0</td>\n",
              "      <td>0.0</td>\n",
              "      <td>0.0</td>\n",
              "      <td>0.0</td>\n",
              "      <td>0.0</td>\n",
              "      <td>0.0</td>\n",
              "      <td>0.0</td>\n",
              "      <td>0.0</td>\n",
              "      <td>0.0</td>\n",
              "      <td>0.0</td>\n",
              "    </tr>\n",
              "  </tbody>\n",
              "</table>\n",
              "</div>\n",
              "      <button class=\"colab-df-convert\" onclick=\"convertToInteractive('df-1ad7e079-09ca-4a91-9592-a5eb3e77f3fa')\"\n",
              "              title=\"Convert this dataframe to an interactive table.\"\n",
              "              style=\"display:none;\">\n",
              "        \n",
              "  <svg xmlns=\"http://www.w3.org/2000/svg\" height=\"24px\"viewBox=\"0 0 24 24\"\n",
              "       width=\"24px\">\n",
              "    <path d=\"M0 0h24v24H0V0z\" fill=\"none\"/>\n",
              "    <path d=\"M18.56 5.44l.94 2.06.94-2.06 2.06-.94-2.06-.94-.94-2.06-.94 2.06-2.06.94zm-11 1L8.5 8.5l.94-2.06 2.06-.94-2.06-.94L8.5 2.5l-.94 2.06-2.06.94zm10 10l.94 2.06.94-2.06 2.06-.94-2.06-.94-.94-2.06-.94 2.06-2.06.94z\"/><path d=\"M17.41 7.96l-1.37-1.37c-.4-.4-.92-.59-1.43-.59-.52 0-1.04.2-1.43.59L10.3 9.45l-7.72 7.72c-.78.78-.78 2.05 0 2.83L4 21.41c.39.39.9.59 1.41.59.51 0 1.02-.2 1.41-.59l7.78-7.78 2.81-2.81c.8-.78.8-2.07 0-2.86zM5.41 20L4 18.59l7.72-7.72 1.47 1.35L5.41 20z\"/>\n",
              "  </svg>\n",
              "      </button>\n",
              "      \n",
              "  <style>\n",
              "    .colab-df-container {\n",
              "      display:flex;\n",
              "      flex-wrap:wrap;\n",
              "      gap: 12px;\n",
              "    }\n",
              "\n",
              "    .colab-df-convert {\n",
              "      background-color: #E8F0FE;\n",
              "      border: none;\n",
              "      border-radius: 50%;\n",
              "      cursor: pointer;\n",
              "      display: none;\n",
              "      fill: #1967D2;\n",
              "      height: 32px;\n",
              "      padding: 0 0 0 0;\n",
              "      width: 32px;\n",
              "    }\n",
              "\n",
              "    .colab-df-convert:hover {\n",
              "      background-color: #E2EBFA;\n",
              "      box-shadow: 0px 1px 2px rgba(60, 64, 67, 0.3), 0px 1px 3px 1px rgba(60, 64, 67, 0.15);\n",
              "      fill: #174EA6;\n",
              "    }\n",
              "\n",
              "    [theme=dark] .colab-df-convert {\n",
              "      background-color: #3B4455;\n",
              "      fill: #D2E3FC;\n",
              "    }\n",
              "\n",
              "    [theme=dark] .colab-df-convert:hover {\n",
              "      background-color: #434B5C;\n",
              "      box-shadow: 0px 1px 3px 1px rgba(0, 0, 0, 0.15);\n",
              "      filter: drop-shadow(0px 1px 2px rgba(0, 0, 0, 0.3));\n",
              "      fill: #FFFFFF;\n",
              "    }\n",
              "  </style>\n",
              "\n",
              "      <script>\n",
              "        const buttonEl =\n",
              "          document.querySelector('#df-1ad7e079-09ca-4a91-9592-a5eb3e77f3fa button.colab-df-convert');\n",
              "        buttonEl.style.display =\n",
              "          google.colab.kernel.accessAllowed ? 'block' : 'none';\n",
              "\n",
              "        async function convertToInteractive(key) {\n",
              "          const element = document.querySelector('#df-1ad7e079-09ca-4a91-9592-a5eb3e77f3fa');\n",
              "          const dataTable =\n",
              "            await google.colab.kernel.invokeFunction('convertToInteractive',\n",
              "                                                     [key], {});\n",
              "          if (!dataTable) return;\n",
              "\n",
              "          const docLinkHtml = 'Like what you see? Visit the ' +\n",
              "            '<a target=\"_blank\" href=https://colab.research.google.com/notebooks/data_table.ipynb>data table notebook</a>'\n",
              "            + ' to learn more about interactive tables.';\n",
              "          element.innerHTML = '';\n",
              "          dataTable['output_type'] = 'display_data';\n",
              "          await google.colab.output.renderOutput(dataTable, element);\n",
              "          const docLink = document.createElement('div');\n",
              "          docLink.innerHTML = docLinkHtml;\n",
              "          element.appendChild(docLink);\n",
              "        }\n",
              "      </script>\n",
              "    </div>\n",
              "  </div>\n",
              "  "
            ]
          },
          "metadata": {},
          "execution_count": 131
        }
      ]
    },
    {
      "cell_type": "code",
      "source": [
        "deptDF = spark.createDataFrame(df)"
      ],
      "metadata": {
        "id": "DlNumNaEcFRP"
      },
      "execution_count": 132,
      "outputs": []
    },
    {
      "cell_type": "code",
      "source": [
        "deptDF.show(10)"
      ],
      "metadata": {
        "colab": {
          "base_uri": "https://localhost:8080/"
        },
        "id": "CW4grjKzcN34",
        "outputId": "4246da0d-7087-47cd-9963-09c655f9fb97"
      },
      "execution_count": 133,
      "outputs": [
        {
          "output_type": "stream",
          "name": "stdout",
          "text": [
            "+----------+-----------+------------+--------+----------+---------+---------+-------------------+------+------------+----------+---------+------+-----------+--------------------+------------------+-----------+------------+-------+-----------+\n",
            "|x0_Azamara|x0_Carnival|x0_Celebrity|x0_Costa|x0_Crystal|x0_Cunard|x0_Disney|x0_Holland_American|x0_MSC|x0_Norwegian|x0_Oceania|x0_Orient|x0_P&O|x0_Princess|x0_Regent_Seven_Seas|x0_Royal_Caribbean|x0_Seabourn|x0_Silversea|x0_Star|x0_Windstar|\n",
            "+----------+-----------+------------+--------+----------+---------+---------+-------------------+------+------------+----------+---------+------+-----------+--------------------+------------------+-----------+------------+-------+-----------+\n",
            "|       1.0|        0.0|         0.0|     0.0|       0.0|      0.0|      0.0|                0.0|   0.0|         0.0|       0.0|      0.0|   0.0|        0.0|                 0.0|               0.0|        0.0|         0.0|    0.0|        0.0|\n",
            "|       1.0|        0.0|         0.0|     0.0|       0.0|      0.0|      0.0|                0.0|   0.0|         0.0|       0.0|      0.0|   0.0|        0.0|                 0.0|               0.0|        0.0|         0.0|    0.0|        0.0|\n",
            "|       0.0|        1.0|         0.0|     0.0|       0.0|      0.0|      0.0|                0.0|   0.0|         0.0|       0.0|      0.0|   0.0|        0.0|                 0.0|               0.0|        0.0|         0.0|    0.0|        0.0|\n",
            "|       0.0|        1.0|         0.0|     0.0|       0.0|      0.0|      0.0|                0.0|   0.0|         0.0|       0.0|      0.0|   0.0|        0.0|                 0.0|               0.0|        0.0|         0.0|    0.0|        0.0|\n",
            "|       0.0|        1.0|         0.0|     0.0|       0.0|      0.0|      0.0|                0.0|   0.0|         0.0|       0.0|      0.0|   0.0|        0.0|                 0.0|               0.0|        0.0|         0.0|    0.0|        0.0|\n",
            "|       0.0|        1.0|         0.0|     0.0|       0.0|      0.0|      0.0|                0.0|   0.0|         0.0|       0.0|      0.0|   0.0|        0.0|                 0.0|               0.0|        0.0|         0.0|    0.0|        0.0|\n",
            "|       0.0|        1.0|         0.0|     0.0|       0.0|      0.0|      0.0|                0.0|   0.0|         0.0|       0.0|      0.0|   0.0|        0.0|                 0.0|               0.0|        0.0|         0.0|    0.0|        0.0|\n",
            "|       0.0|        1.0|         0.0|     0.0|       0.0|      0.0|      0.0|                0.0|   0.0|         0.0|       0.0|      0.0|   0.0|        0.0|                 0.0|               0.0|        0.0|         0.0|    0.0|        0.0|\n",
            "|       0.0|        1.0|         0.0|     0.0|       0.0|      0.0|      0.0|                0.0|   0.0|         0.0|       0.0|      0.0|   0.0|        0.0|                 0.0|               0.0|        0.0|         0.0|    0.0|        0.0|\n",
            "|       0.0|        1.0|         0.0|     0.0|       0.0|      0.0|      0.0|                0.0|   0.0|         0.0|       0.0|      0.0|   0.0|        0.0|                 0.0|               0.0|        0.0|         0.0|    0.0|        0.0|\n",
            "+----------+-----------+------------+--------+----------+---------+---------+-------------------+------+------------+----------+---------+------+-----------+--------------------+------------------+-----------+------------+-------+-----------+\n",
            "only showing top 10 rows\n",
            "\n"
          ]
        }
      ]
    },
    {
      "cell_type": "code",
      "source": [
        "\n",
        "df4.printSchema()\n"
      ],
      "metadata": {
        "colab": {
          "base_uri": "https://localhost:8080/"
        },
        "id": "9EMTCh7DeVMM",
        "outputId": "97f6e5ac-364d-4ffe-ab48-991d1fe72fb7"
      },
      "execution_count": 81,
      "outputs": [
        {
          "output_type": "stream",
          "name": "stdout",
          "text": [
            "root\n",
            " |-- Ship_name: string (nullable = true)\n",
            " |-- Cruise_line: string (nullable = true)\n",
            " |-- Age: string (nullable = true)\n",
            " |-- Tonnage: string (nullable = true)\n",
            " |-- passengers: string (nullable = true)\n",
            " |-- length: string (nullable = true)\n",
            " |-- cabins: string (nullable = true)\n",
            " |-- passenger_density: string (nullable = true)\n",
            " |-- crew: string (nullable = true)\n",
            "\n"
          ]
        }
      ]
    },
    {
      "cell_type": "code",
      "source": [
        "df4=df4.drop(\"Ship_name\")\n",
        "df4=df4.drop(\"Cruise_line\") \n",
        "     "
      ],
      "metadata": {
        "id": "YrBS3PAPMjuO"
      },
      "execution_count": 152,
      "outputs": []
    },
    {
      "cell_type": "code",
      "source": [
        "from pyspark.sql.functions import lit"
      ],
      "metadata": {
        "id": "BKs3cN853rNT"
      },
      "execution_count": 82,
      "outputs": []
    },
    {
      "cell_type": "code",
      "source": [
        "for column in [column for column in deptDF.columns\n",
        "               if column not in df4.columns]:\n",
        "    df4 = df4.withColumn(column, lit(None))"
      ],
      "metadata": {
        "id": "PZoPTD313SUa"
      },
      "execution_count": 83,
      "outputs": []
    },
    {
      "cell_type": "code",
      "source": [
        "from pyspark.sql.functions import monotonically_increasing_id \n",
        "df4 = df4.select(\"*\").withColumn(\"id\", monotonically_increasing_id())"
      ],
      "metadata": {
        "id": "4-_4JOWLKZ90"
      },
      "execution_count": 149,
      "outputs": []
    },
    {
      "cell_type": "code",
      "source": [
        "deptDF=deptDF.select(\"*\").withColumn(\"id\", monotonically_increasing_id())"
      ],
      "metadata": {
        "id": "pUtx8lcpKmbF"
      },
      "execution_count": 150,
      "outputs": []
    },
    {
      "cell_type": "code",
      "source": [
        "df4=df4.drop(\"id\")\n",
        " \n",
        "     "
      ],
      "metadata": {
        "id": "84w0CqiPiODG"
      },
      "execution_count": 84,
      "outputs": []
    },
    {
      "cell_type": "code",
      "source": [
        "#merge two data frames"
      ],
      "metadata": {
        "id": "lXTqdywgNBp6"
      },
      "execution_count": 155,
      "outputs": []
    },
    {
      "cell_type": "code",
      "source": [
        "df4=df4.join(deptDF, df4.id ==deptDF.id).select(df4[\"*\"],deptDF[\"*\"])"
      ],
      "metadata": {
        "id": "Kho1TRh6Jr61"
      },
      "execution_count": 153,
      "outputs": []
    },
    {
      "cell_type": "code",
      "source": [
        "df4=df4.drop(\"id\")"
      ],
      "metadata": {
        "id": "CvzR4pthNIrb"
      },
      "execution_count": 156,
      "outputs": []
    },
    {
      "cell_type": "code",
      "source": [
        "df4.show(10)"
      ],
      "metadata": {
        "colab": {
          "base_uri": "https://localhost:8080/"
        },
        "id": "s6ud6jOJMEH2",
        "outputId": "7731d49d-56ca-4b01-cca1-fe2c51cedfa8"
      },
      "execution_count": 157,
      "outputs": [
        {
          "output_type": "stream",
          "name": "stdout",
          "text": [
            "+---+------------------+----------+------+------+-----------------+----+----------+-----------+------------+--------+----------+---------+---------+-------------------+------+------------+----------+---------+------+-----------+--------------------+------------------+-----------+------------+-------+-----------+\n",
            "|Age|           Tonnage|passengers|length|cabins|passenger_density|crew|x0_Azamara|x0_Carnival|x0_Celebrity|x0_Costa|x0_Crystal|x0_Cunard|x0_Disney|x0_Holland_American|x0_MSC|x0_Norwegian|x0_Oceania|x0_Orient|x0_P&O|x0_Princess|x0_Regent_Seven_Seas|x0_Royal_Caribbean|x0_Seabourn|x0_Silversea|x0_Star|x0_Windstar|\n",
            "+---+------------------+----------+------+------+-----------------+----+----------+-----------+------------+--------+----------+---------+---------+-------------------+------+------------+----------+---------+------+-----------+--------------------+------------------+-----------+------------+-------+-----------+\n",
            "|  6|30.276999999999997|      6.94|  5.94|  3.55|            42.64|3.55|       1.0|        0.0|         0.0|     0.0|       0.0|      0.0|      0.0|                0.0|   0.0|         0.0|       0.0|      0.0|   0.0|        0.0|                 0.0|               0.0|        0.0|         0.0|    0.0|        0.0|\n",
            "|  6|30.276999999999997|      6.94|  5.94|  3.55|            42.64|3.55|       1.0|        0.0|         0.0|     0.0|       0.0|      0.0|      0.0|                0.0|   0.0|         0.0|       0.0|      0.0|   0.0|        0.0|                 0.0|               0.0|        0.0|         0.0|    0.0|        0.0|\n",
            "| 26|            47.262|     14.86|  7.22|  7.43|             31.8| 6.7|       0.0|        1.0|         0.0|     0.0|       0.0|      0.0|      0.0|                0.0|   0.0|         0.0|       0.0|      0.0|   0.0|        0.0|                 0.0|               0.0|        0.0|         0.0|    0.0|        0.0|\n",
            "| 11|             110.0|     29.74|  9.53| 14.88|            36.99|19.1|       0.0|        1.0|         0.0|     0.0|       0.0|      0.0|      0.0|                0.0|   0.0|         0.0|       0.0|      0.0|   0.0|        0.0|                 0.0|               0.0|        0.0|         0.0|    0.0|        0.0|\n",
            "| 17|           101.353|     26.42|  8.92| 13.21|            38.36|10.0|       0.0|        1.0|         0.0|     0.0|       0.0|      0.0|      0.0|                0.0|   0.0|         0.0|       0.0|      0.0|   0.0|        0.0|                 0.0|               0.0|        0.0|         0.0|    0.0|        0.0|\n",
            "| 22|            70.367|     20.52|  8.55|  10.2|            34.29| 9.2|       0.0|        1.0|         0.0|     0.0|       0.0|      0.0|      0.0|                0.0|   0.0|         0.0|       0.0|      0.0|   0.0|        0.0|                 0.0|               0.0|        0.0|         0.0|    0.0|        0.0|\n",
            "| 15|            70.367|     20.52|  8.55|  10.2|            34.29| 9.2|       0.0|        1.0|         0.0|     0.0|       0.0|      0.0|      0.0|                0.0|   0.0|         0.0|       0.0|      0.0|   0.0|        0.0|                 0.0|               0.0|        0.0|         0.0|    0.0|        0.0|\n",
            "| 23|            70.367|     20.56|  8.55| 10.22|            34.23| 9.2|       0.0|        1.0|         0.0|     0.0|       0.0|      0.0|      0.0|                0.0|   0.0|         0.0|       0.0|      0.0|   0.0|        0.0|                 0.0|               0.0|        0.0|         0.0|    0.0|        0.0|\n",
            "| 19|            70.367|     20.52|  8.55|  10.2|            34.29| 9.2|       0.0|        1.0|         0.0|     0.0|       0.0|      0.0|      0.0|                0.0|   0.0|         0.0|       0.0|      0.0|   0.0|        0.0|                 0.0|               0.0|        0.0|         0.0|    0.0|        0.0|\n",
            "|  6|110.23899999999999|      37.0|  9.51| 14.87|            29.79|11.5|       0.0|        1.0|         0.0|     0.0|       0.0|      0.0|      0.0|                0.0|   0.0|         0.0|       0.0|      0.0|   0.0|        0.0|                 0.0|               0.0|        0.0|         0.0|    0.0|        0.0|\n",
            "+---+------------------+----------+------+------+-----------------+----+----------+-----------+------------+--------+----------+---------+---------+-------------------+------+------------+----------+---------+------+-----------+--------------------+------------------+-----------+------------+-------+-----------+\n",
            "only showing top 10 rows\n",
            "\n"
          ]
        }
      ]
    },
    {
      "cell_type": "code",
      "source": [
        "from pyspark.ml.feature import VectorAssembler"
      ],
      "metadata": {
        "id": "7tHWTckTh2J8"
      },
      "execution_count": 158,
      "outputs": []
    },
    {
      "cell_type": "code",
      "source": [
        "df4 = df4.withColumn(\"Age\",   df4[\"Age\"]\n",
        "                                  .cast('int'))"
      ],
      "metadata": {
        "id": "tWjC1GXK0Ls2"
      },
      "execution_count": 159,
      "outputs": []
    },
    {
      "cell_type": "code",
      "source": [
        "df4 = df4.withColumn(\"Tonnage\",   df4[\"Tonnage\"]\n",
        "                                  .cast('float'))"
      ],
      "metadata": {
        "id": "CE0IXkh_6AH5"
      },
      "execution_count": 160,
      "outputs": []
    },
    {
      "cell_type": "code",
      "source": [
        "df4 = df4.withColumn(\"passengers\",   df4[\"passengers\"]\n",
        "                                  .cast('float'))"
      ],
      "metadata": {
        "id": "_L6Vsus56X_Z"
      },
      "execution_count": 161,
      "outputs": []
    },
    {
      "cell_type": "code",
      "source": [
        "df4 = df4.withColumn(\"length\",   df4[\"length\"]\n",
        "                                  .cast('float'))"
      ],
      "metadata": {
        "id": "E5QXup-h6kKS"
      },
      "execution_count": 162,
      "outputs": []
    },
    {
      "cell_type": "code",
      "source": [
        "df4 = df4.withColumn(\"cabins\",   df4[\"cabins\"]\n",
        "                                  .cast('float'))"
      ],
      "metadata": {
        "id": "J3898Eqe6q4r"
      },
      "execution_count": 163,
      "outputs": []
    },
    {
      "cell_type": "code",
      "source": [
        "df4 = df4.withColumn(\"passenger_density\",   df4[\"passenger_density\"]\n",
        "                                  .cast('float'))"
      ],
      "metadata": {
        "id": "4rjPCbjS6wv1"
      },
      "execution_count": 164,
      "outputs": []
    },
    {
      "cell_type": "code",
      "source": [
        "df4 = df4.withColumn(\"crew\",   df4[\"crew\"]\n",
        "                                  .cast('float'))"
      ],
      "metadata": {
        "id": "wKSwGrYU65eT"
      },
      "execution_count": 165,
      "outputs": []
    },
    {
      "cell_type": "code",
      "source": [
        "df4.printSchema()"
      ],
      "metadata": {
        "colab": {
          "base_uri": "https://localhost:8080/"
        },
        "id": "dOeT2P-e5j5v",
        "outputId": "9da38c10-9177-4595-ea3b-95f02f5960f0"
      },
      "execution_count": 166,
      "outputs": [
        {
          "output_type": "stream",
          "name": "stdout",
          "text": [
            "root\n",
            " |-- Age: integer (nullable = true)\n",
            " |-- Tonnage: float (nullable = true)\n",
            " |-- passengers: float (nullable = true)\n",
            " |-- length: float (nullable = true)\n",
            " |-- cabins: float (nullable = true)\n",
            " |-- passenger_density: float (nullable = true)\n",
            " |-- crew: float (nullable = true)\n",
            " |-- x0_Azamara: double (nullable = true)\n",
            " |-- x0_Carnival: double (nullable = true)\n",
            " |-- x0_Celebrity: double (nullable = true)\n",
            " |-- x0_Costa: double (nullable = true)\n",
            " |-- x0_Crystal: double (nullable = true)\n",
            " |-- x0_Cunard: double (nullable = true)\n",
            " |-- x0_Disney: double (nullable = true)\n",
            " |-- x0_Holland_American: double (nullable = true)\n",
            " |-- x0_MSC: double (nullable = true)\n",
            " |-- x0_Norwegian: double (nullable = true)\n",
            " |-- x0_Oceania: double (nullable = true)\n",
            " |-- x0_Orient: double (nullable = true)\n",
            " |-- x0_P&O: double (nullable = true)\n",
            " |-- x0_Princess: double (nullable = true)\n",
            " |-- x0_Regent_Seven_Seas: double (nullable = true)\n",
            " |-- x0_Royal_Caribbean: double (nullable = true)\n",
            " |-- x0_Seabourn: double (nullable = true)\n",
            " |-- x0_Silversea: double (nullable = true)\n",
            " |-- x0_Star: double (nullable = true)\n",
            " |-- x0_Windstar: double (nullable = true)\n",
            "\n"
          ]
        }
      ]
    },
    {
      "cell_type": "code",
      "source": [
        "s=df4.schema"
      ],
      "metadata": {
        "id": "qJmix_4QDQKe"
      },
      "execution_count": 96,
      "outputs": []
    },
    {
      "cell_type": "code",
      "source": [
        "input_f=[\"Age\",\"Tonnage\",\"length\",\"cabins\",\"passenger_density\",\"crew\"]+cols"
      ],
      "metadata": {
        "id": "KXLPTgJnkNzg"
      },
      "execution_count": 167,
      "outputs": []
    },
    {
      "cell_type": "code",
      "source": [
        "vecAssembler = VectorAssembler(inputCols=input_f,outputCol='features')"
      ],
      "metadata": {
        "id": "ROk3nvksj1rt"
      },
      "execution_count": 168,
      "outputs": []
    },
    {
      "cell_type": "code",
      "source": [
        "from sklearn.model_selection import train_test_split\n"
      ],
      "metadata": {
        "id": "dwtN8xt1853K"
      },
      "execution_count": 169,
      "outputs": []
    },
    {
      "cell_type": "code",
      "source": [
        "#x=df4.select(input_f)"
      ],
      "metadata": {
        "id": "Z7Babbx1-8mE"
      },
      "execution_count": 170,
      "outputs": []
    },
    {
      "cell_type": "code",
      "source": [
        "#x.show(20)"
      ],
      "metadata": {
        "id": "1vUIsaqbHZc8"
      },
      "execution_count": 186,
      "outputs": []
    },
    {
      "cell_type": "code",
      "source": [
        "y=df4.select(\"passengers\")"
      ],
      "metadata": {
        "id": "RZ96BwDW_gS9"
      },
      "execution_count": 172,
      "outputs": []
    },
    {
      "cell_type": "code",
      "source": [
        "train_df,test_df=train_test_split(df4.toPandas(), test_size=0.20, random_state=42)"
      ],
      "metadata": {
        "id": "jyDzghmK-Jtg"
      },
      "execution_count": 187,
      "outputs": []
    },
    {
      "cell_type": "code",
      "source": [
        "from pyspark.sql.types import StructType, StructField, StringType,IntegerType,FloatType"
      ],
      "metadata": {
        "id": "8CbDbkTMEe2t"
      },
      "execution_count": 111,
      "outputs": []
    },
    {
      "cell_type": "code",
      "source": [
        "from pyspark.sql.types import *"
      ],
      "metadata": {
        "id": "zozonsTmExzQ"
      },
      "execution_count": 113,
      "outputs": []
    },
    {
      "cell_type": "code",
      "source": [
        "s_x=StructType([StructField('Age', IntegerType(), True), StructField('Tonnage', FloatType(), True), StructField('length', FloatType(), True), StructField('cabins', FloatType(), True), StructField('passenger_density', FloatType(), True), StructField('crew', FloatType(), True), StructField('x0_Azamara', IntegerType(), True), StructField('x0_Carnival', IntegerType(), True), StructField('x0_Celebrity',IntegerType(), True), StructField('x0_Costa',IntegerType(), True), StructField('x0_Crystal', IntegerType(), True), StructField('x0_Cunard', IntegerType(), True), StructField('x0_Disney', IntegerType(), True), StructField('x0_Holland_American', IntegerType(), True), StructField('x0_MSC', IntegerType(), True), StructField('x0_Norwegian', IntegerType(), True), StructField('x0_Oceania', IntegerType(), True), StructField('x0_Orient',IntegerType(), True), StructField('x0_P&O', IntegerType(), True), StructField('x0_Princess', IntegerType(), True), StructField('x0_Regent_Seven_Seas', IntegerType(), True), StructField('x0_Royal_Caribbean', IntegerType(), True), StructField('x0_Seabourn', IntegerType(), True), StructField('x0_Silversea',IntegerType(), True), StructField('x0_Star',IntegerType(), True), StructField('x0_Windstar',IntegerType(), True)])"
      ],
      "metadata": {
        "id": "CjaltkEJDn2A"
      },
      "execution_count": 120,
      "outputs": []
    },
    {
      "cell_type": "code",
      "source": [
        "s_y=StructType([StructField('passengers', FloatType(), True)])"
      ],
      "metadata": {
        "id": "7_jBcnZ7EWaE"
      },
      "execution_count": 115,
      "outputs": []
    },
    {
      "cell_type": "code",
      "source": [
        "train_x=spark.createDataFrame(train_df)#schema=s_x\n",
        "test_x=spark.createDataFrame(test_df)\n",
        "'''\n",
        "train_y=spark.createDataFrame(train_target)\n",
        "test_y=spark.createDataFrame(test_target)\n",
        "'''"
      ],
      "metadata": {
        "colab": {
          "base_uri": "https://localhost:8080/",
          "height": 35
        },
        "id": "zWfRWMi1A7Db",
        "outputId": "f183e8f8-777a-402e-80cb-3399278319bb"
      },
      "execution_count": 188,
      "outputs": [
        {
          "output_type": "execute_result",
          "data": {
            "text/plain": [
              "'\\ntrain_y=spark.createDataFrame(train_target)\\ntest_y=spark.createDataFrame(test_target)\\n'"
            ],
            "application/vnd.google.colaboratory.intrinsic+json": {
              "type": "string"
            }
          },
          "metadata": {},
          "execution_count": 188
        }
      ]
    },
    {
      "cell_type": "code",
      "source": [
        "train_x = vecAssembler.transform(train_x)"
      ],
      "metadata": {
        "id": "P0jpcmxb74H9"
      },
      "execution_count": 189,
      "outputs": []
    },
    {
      "cell_type": "code",
      "source": [
        "test_x = vecAssembler.transform(test_x)"
      ],
      "metadata": {
        "id": "W5RqeXerOWsN"
      },
      "execution_count": 190,
      "outputs": []
    },
    {
      "cell_type": "code",
      "source": [
        "test_x.show(10)"
      ],
      "metadata": {
        "colab": {
          "base_uri": "https://localhost:8080/"
        },
        "id": "nG5n_ShyOb40",
        "outputId": "48ba4e9b-2385-4063-e632-93ee383649a8"
      },
      "execution_count": 191,
      "outputs": [
        {
          "output_type": "stream",
          "name": "stdout",
          "text": [
            "+---+------------------+------------------+------------------+------------------+------------------+------------------+----------+-----------+------------+--------+----------+---------+---------+-------------------+------+------------+----------+---------+------+-----------+--------------------+------------------+-----------+------------+-------+-----------+--------------------+\n",
            "|Age|           Tonnage|        passengers|            length|            cabins| passenger_density|              crew|x0_Azamara|x0_Carnival|x0_Celebrity|x0_Costa|x0_Crystal|x0_Cunard|x0_Disney|x0_Holland_American|x0_MSC|x0_Norwegian|x0_Oceania|x0_Orient|x0_P&O|x0_Princess|x0_Regent_Seven_Seas|x0_Royal_Caribbean|x0_Seabourn|x0_Silversea|x0_Star|x0_Windstar|            features|\n",
            "+---+------------------+------------------+------------------+------------------+------------------+------------------+----------+-----------+------------+--------+----------+---------+---------+-------------------+------+------------+----------+---------+------+-----------+--------------------+------------------+-----------+------------+-------+-----------+--------------------+\n",
            "|  5|             122.0|              28.5|10.329999923706055| 6.869999885559082| 34.56999969482422| 6.699999809265137|       0.0|        0.0|         1.0|     0.0|       0.0|      0.0|      0.0|                0.0|   0.0|         0.0|       0.0|      0.0|   0.0|        0.0|                 0.0|               0.0|        0.0|         0.0|    0.0|        0.0|(26,[0,1,2,3,4,5,...|\n",
            "|  6|30.277000427246094| 6.940000057220459| 5.940000057220459| 3.549999952316284| 42.63999938964844| 3.549999952316284|       1.0|        0.0|         0.0|     0.0|       0.0|      0.0|      0.0|                0.0|   0.0|         0.0|       0.0|      0.0|   0.0|        0.0|                 0.0|               0.0|        0.0|         0.0|    0.0|        0.0|(26,[0,1,2,3,4,5,...|\n",
            "|  9|             110.0|29.739999771118164| 9.520000457763672|14.869999885559082|  36.9900016784668|11.600000381469727|       0.0|        1.0|         0.0|     0.0|       0.0|      0.0|      0.0|                0.0|   0.0|         0.0|       0.0|      0.0|   0.0|        0.0|                 0.0|               0.0|        0.0|         0.0|    0.0|        0.0|(26,[0,1,2,3,4,5,...|\n",
            "| 12|              91.0| 20.31999969482422| 9.649999618530273|              9.75|44.779998779296875| 9.989999771118164|       0.0|        0.0|         1.0|     0.0|       0.0|      0.0|      0.0|                0.0|   0.0|         0.0|       0.0|      0.0|   0.0|        0.0|                 0.0|               0.0|        0.0|         0.0|    0.0|        0.0|(26,[0,1,2,3,4,5,...|\n",
            "| 12|              88.5|21.239999771118164| 9.630000114440918|11.619999885559082| 41.66999816894531| 9.300000190734863|       0.0|        1.0|         0.0|     0.0|       0.0|      0.0|      0.0|                0.0|   0.0|         0.0|       0.0|      0.0|   0.0|        0.0|                 0.0|               0.0|        0.0|         0.0|    0.0|        0.0|(26,[0,1,2,3,4,5,...|\n",
            "| 16| 77.71299743652344| 18.81999969482422|  8.65999984741211| 9.350000381469727|41.290000915527344|  9.09000015258789|       0.0|        0.0|         1.0|     0.0|       0.0|      0.0|      0.0|                0.0|   0.0|         0.0|       0.0|      0.0|   0.0|        0.0|                 0.0|               0.0|        0.0|         0.0|    0.0|        0.0|(26,[0,1,2,3,4,5,...|\n",
            "| 10|             110.0|29.739999771118164| 9.510000228881836|14.869999885559082|  36.9900016784668|11.600000381469727|       0.0|        1.0|         0.0|     0.0|       0.0|      0.0|      0.0|                0.0|   0.0|         0.0|       0.0|      0.0|   0.0|        0.0|                 0.0|               0.0|        0.0|         0.0|    0.0|        0.0|(26,[0,1,2,3,4,5,...|\n",
            "|  7|  89.5999984741211|              25.5| 9.609999656677246|             12.75| 35.13999938964844| 9.869999885559082|       0.0|        0.0|         0.0|     0.0|       0.0|      0.0|      0.0|                0.0|   1.0|         0.0|       0.0|      0.0|   0.0|        0.0|                 0.0|               0.0|        0.0|         0.0|    0.0|        0.0|(26,[0,1,2,3,4,5,...|\n",
            "| 17|101.35299682617188|26.420000076293945| 8.920000076293945|13.210000038146973| 38.36000061035156|              10.0|       0.0|        1.0|         0.0|     0.0|       0.0|      0.0|      0.0|                0.0|   0.0|         0.0|       0.0|      0.0|   0.0|        0.0|                 0.0|               0.0|        0.0|         0.0|    0.0|        0.0|(26,[0,1,2,3,4,5,...|\n",
            "| 18| 70.36699676513672|20.520000457763672| 8.550000190734863|10.199999809265137|34.290000915527344| 9.199999809265137|       0.0|        1.0|         0.0|     0.0|       0.0|      0.0|      0.0|                0.0|   0.0|         0.0|       0.0|      0.0|   0.0|        0.0|                 0.0|               0.0|        0.0|         0.0|    0.0|        0.0|(26,[0,1,2,3,4,5,...|\n",
            "+---+------------------+------------------+------------------+------------------+------------------+------------------+----------+-----------+------------+--------+----------+---------+---------+-------------------+------+------------+----------+---------+------+-----------+--------------------+------------------+-----------+------------+-------+-----------+--------------------+\n",
            "only showing top 10 rows\n",
            "\n"
          ]
        }
      ]
    },
    {
      "cell_type": "code",
      "source": [
        "#Create a Linear Regression Model"
      ],
      "metadata": {
        "id": "EgJlZpbmO-_z"
      },
      "execution_count": 181,
      "outputs": []
    },
    {
      "cell_type": "code",
      "source": [
        "from pyspark.ml.regression import LinearRegression"
      ],
      "metadata": {
        "id": "Gha4caAdPFMA"
      },
      "execution_count": 192,
      "outputs": []
    },
    {
      "cell_type": "code",
      "source": [
        "mdel_trans = LinearRegression(featuresCol='features',labelCol='passengers',predictionCol='prediction')"
      ],
      "metadata": {
        "id": "FCtuAsWtPJ6r"
      },
      "execution_count": 193,
      "outputs": []
    },
    {
      "cell_type": "code",
      "source": [
        "Model = mdel_trans.fit(train_x)"
      ],
      "metadata": {
        "id": "q5_xeYDbP-Pq"
      },
      "execution_count": 194,
      "outputs": []
    },
    {
      "cell_type": "code",
      "source": [
        "predict_test=Model.transform(test_x)"
      ],
      "metadata": {
        "id": "2GURv6bHRBJQ"
      },
      "execution_count": 196,
      "outputs": []
    },
    {
      "cell_type": "code",
      "source": [
        "predict_test.select([\"features\",'passengers','prediction']).show()"
      ],
      "metadata": {
        "colab": {
          "base_uri": "https://localhost:8080/"
        },
        "id": "vyN7QdAGRmPF",
        "outputId": "b6a35cd9-9217-4a23-fc8e-cd5493244335"
      },
      "execution_count": 198,
      "outputs": [
        {
          "output_type": "stream",
          "name": "stdout",
          "text": [
            "+--------------------+------------------+------------------+\n",
            "|            features|        passengers|        prediction|\n",
            "+--------------------+------------------+------------------+\n",
            "|(26,[0,1,2,3,4,5,...|              28.5|24.477506348549944|\n",
            "|(26,[0,1,2,3,4,5,...| 6.940000057220459| 6.939998185124719|\n",
            "|(26,[0,1,2,3,4,5,...|29.739999771118164|31.195338156000552|\n",
            "|(26,[0,1,2,3,4,5,...| 20.31999969482422|20.079241020168073|\n",
            "|(26,[0,1,2,3,4,5,...|21.239999771118164| 22.95284955712573|\n",
            "|(26,[0,1,2,3,4,5,...| 18.81999969482422|18.740194601702854|\n",
            "|(26,[0,1,2,3,4,5,...|29.739999771118164| 31.21336989565038|\n",
            "|(26,[0,1,2,3,4,5,...|              25.5|  26.4430255449564|\n",
            "|(26,[0,1,2,3,4,5,...|26.420000076293945| 27.85482460176948|\n",
            "|(26,[0,1,2,3,4,5,...|20.520000457763672|20.507297191064808|\n",
            "|(26,[0,1,2,3,4,5,...|              20.0|19.624789067364624|\n",
            "|(26,[0,1,2,3,4,5,...| 13.65999984741211|13.308381855849717|\n",
            "|(26,[0,1,2,3,4,5,...| 39.59000015258789|  37.5191663103093|\n",
            "|(26,[0,1,2,3,4,5,...|21.139999389648438|21.899415609929108|\n",
            "|(26,[0,1,2,3,4,5,...|15.600000381469727|15.177965759399292|\n",
            "|(26,[0,1,2,3,4,5,...|10.800000190734863|10.271864271342466|\n",
            "+--------------------+------------------+------------------+\n",
            "\n"
          ]
        }
      ]
    },
    {
      "cell_type": "code",
      "source": [
        "from pyspark.ml.evaluation import RegressionEvaluator"
      ],
      "metadata": {
        "id": "326UXUMxSA_X"
      },
      "execution_count": 199,
      "outputs": []
    },
    {
      "cell_type": "code",
      "source": [
        "r2 = RegressionEvaluator(predictionCol='prediction',\n",
        "                                         labelCol='passengers',\n",
        "                                         metricName='r2').evaluate(predict_test)\n",
        "print(f\"R2 is {r2}\")"
      ],
      "metadata": {
        "colab": {
          "base_uri": "https://localhost:8080/"
        },
        "id": "dcOviqm0SiLM",
        "outputId": "2a2cb665-2cf0-4730-c3b4-968ed03afb82"
      },
      "execution_count": 203,
      "outputs": [
        {
          "output_type": "stream",
          "name": "stdout",
          "text": [
            "R2 is 0.9675338400800088\n"
          ]
        }
      ]
    },
    {
      "cell_type": "code",
      "source": [
        "regressionEvaluator = RegressionEvaluator(predictionCol='prediction',\n",
        "                                         labelCol='passengers',\n",
        "                                         metricName='rmse')"
      ],
      "metadata": {
        "id": "Y8_-DaiNSCZN"
      },
      "execution_count": 200,
      "outputs": []
    },
    {
      "cell_type": "code",
      "source": [
        "rmse = regressionEvaluator.evaluate(predict_test)"
      ],
      "metadata": {
        "id": "upbFJg8gSP3j"
      },
      "execution_count": 201,
      "outputs": []
    },
    {
      "cell_type": "code",
      "source": [
        "print(f\"RMSE is {rmse:.1f}\")"
      ],
      "metadata": {
        "colab": {
          "base_uri": "https://localhost:8080/"
        },
        "id": "Iv0228XtSbFQ",
        "outputId": "c9f20cb3-4f68-4fc1-cb7a-f0de44205802"
      },
      "execution_count": 202,
      "outputs": [
        {
          "output_type": "stream",
          "name": "stdout",
          "text": [
            "RMSE is 1.4\n"
          ]
        }
      ]
    },
    {
      "cell_type": "code",
      "source": [
        "#Creating a Pipeline"
      ],
      "metadata": {
        "id": "mcQw5sD_U_aM"
      },
      "execution_count": 204,
      "outputs": []
    },
    {
      "cell_type": "code",
      "source": [
        "from pyspark.ml import Pipeline"
      ],
      "metadata": {
        "id": "7_2K9QnZVBgb"
      },
      "execution_count": 205,
      "outputs": []
    },
    {
      "cell_type": "code",
      "source": [
        "pipeline = Pipeline(stages=[vecAssembler,mdel_trans])"
      ],
      "metadata": {
        "id": "1VTYUYmGVHYT"
      },
      "execution_count": 213,
      "outputs": []
    },
    {
      "cell_type": "code",
      "source": [
        "pipelineModel = pipeline.fit(df4)"
      ],
      "metadata": {
        "id": "wsJUU35sWVku"
      },
      "execution_count": 214,
      "outputs": []
    },
    {
      "cell_type": "code",
      "source": [
        "dd=df4.limit(20)"
      ],
      "metadata": {
        "id": "U8xnsTV2YtPV"
      },
      "execution_count": 222,
      "outputs": []
    },
    {
      "cell_type": "code",
      "source": [
        "predDF = pipelineModel.transform(dd)"
      ],
      "metadata": {
        "id": "SS0n9kaNV-CR"
      },
      "execution_count": 223,
      "outputs": []
    },
    {
      "cell_type": "code",
      "source": [
        "predDF.select([\"features\",'passengers','prediction']).show()"
      ],
      "metadata": {
        "colab": {
          "base_uri": "https://localhost:8080/"
        },
        "id": "bpq36vc0ZY_S",
        "outputId": "8ff199ad-53c7-4479-8f3b-f87b1d41dc46"
      },
      "execution_count": 225,
      "outputs": [
        {
          "output_type": "stream",
          "name": "stdout",
          "text": [
            "+--------------------+----------+------------------+\n",
            "|            features|passengers|        prediction|\n",
            "+--------------------+----------+------------------+\n",
            "|(26,[0,1,2,3,4,5,...|      6.94|6.9400001374724365|\n",
            "|(26,[0,1,2,3,4,5,...|      6.94|6.9400001374724365|\n",
            "|(26,[0,1,2,3,4,5,...|     14.86| 14.54391631533356|\n",
            "|(26,[0,1,2,3,4,5,...|     29.74|29.928552473432983|\n",
            "|(26,[0,1,2,3,4,5,...|     26.42|27.296338124639693|\n",
            "|(26,[0,1,2,3,4,5,...|     20.52|20.322868255443467|\n",
            "|(26,[0,1,2,3,4,5,...|     20.52| 20.22445371552513|\n",
            "|(26,[0,1,2,3,4,5,...|     20.56|20.375156319249243|\n",
            "|(26,[0,1,2,3,4,5,...|     20.52|20.280690595478468|\n",
            "|(26,[0,1,2,3,4,5,...|      37.0|33.205564896564525|\n",
            "|(26,[0,1,2,3,4,5,...|     29.74|30.669381127380888|\n",
            "|(26,[0,1,2,3,4,5,...|     14.52|14.239695239606109|\n",
            "|(26,[0,1,2,3,4,5,...|     20.52|20.266631375490128|\n",
            "|(26,[0,1,2,3,4,5,...|     20.52|20.252572155501795|\n",
            "|(26,[0,1,2,3,4,5,...|     21.24|21.468854181019815|\n",
            "|(26,[0,1,2,3,4,5,...|     29.74|30.641262687404215|\n",
            "|(26,[0,1,2,3,4,5,...|     21.24|21.402094617675765|\n",
            "|(26,[0,1,2,3,4,5,...|     20.52| 20.22445371552513|\n",
            "|(26,[0,1,2,3,4,5,...|     21.24| 22.40097443110359|\n",
            "|(26,[0,1,2,3,4,5,...|     20.52|  20.2947498154668|\n",
            "+--------------------+----------+------------------+\n",
            "\n"
          ]
        }
      ]
    }
  ]
}