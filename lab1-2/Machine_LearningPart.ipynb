{
  "nbformat": 4,
  "nbformat_minor": 0,
  "metadata": {
    "colab": {
      "name": "Machine LearningPart.ipynb",
      "provenance": []
    },
    "kernelspec": {
      "name": "python3",
      "display_name": "Python 3"
    },
    "language_info": {
      "name": "python"
    }
  },
  "cells": [
    {
      "cell_type": "code",
      "execution_count": 1,
      "metadata": {
        "id": "ibCiOfKXRH7k"
      },
      "outputs": [],
      "source": [
        "%%capture\n",
        "!pip install pyspark"
      ]
    },
    {
      "cell_type": "code",
      "source": [
        "from sklearn.preprocessing import OneHotEncoder"
      ],
      "metadata": {
        "id": "hEbEHQIphsF4"
      },
      "execution_count": 4,
      "outputs": []
    },
    {
      "cell_type": "code",
      "source": [
        "import pyspark\n",
        "from pyspark.sql import SparkSession\n",
        "spark = SparkSession.builder.appName('lab1-2').getOrCreate()"
      ],
      "metadata": {
        "id": "KlUn_AwXSXMc"
      },
      "execution_count": 3,
      "outputs": []
    },
    {
      "cell_type": "code",
      "source": [
        "import numpy as np"
      ],
      "metadata": {
        "id": "lq1L-q-LXfBB"
      },
      "execution_count": 5,
      "outputs": []
    },
    {
      "cell_type": "code",
      "source": [
        "df4 = spark.read.csv('/content/PatientInfo.csv', header=True)\n",
        "df4.show(10)"
      ],
      "metadata": {
        "colab": {
          "base_uri": "https://localhost:8080/"
        },
        "id": "fqgwoal-R7y4",
        "outputId": "7b7e0d94-5078-4d1e-856d-88f624fa69c1"
      },
      "execution_count": 42,
      "outputs": [
        {
          "output_type": "stream",
          "name": "stdout",
          "text": [
            "+----------+------+---+-------+--------+-----------+--------------------+-----------+--------------+------------------+--------------+-------------+-------------+--------+\n",
            "|patient_id|   sex|age|country|province|       city|      infection_case|infected_by|contact_number|symptom_onset_date|confirmed_date|released_date|deceased_date|   state|\n",
            "+----------+------+---+-------+--------+-----------+--------------------+-----------+--------------+------------------+--------------+-------------+-------------+--------+\n",
            "|1000000001|  male|50s|  Korea|   Seoul| Gangseo-gu|     overseas inflow|       null|            75|        2020-01-22|    2020-01-23|   2020-02-05|         null|released|\n",
            "|1000000002|  male|30s|  Korea|   Seoul|Jungnang-gu|     overseas inflow|       null|            31|              null|    2020-01-30|   2020-03-02|         null|released|\n",
            "|1000000003|  male|50s|  Korea|   Seoul|  Jongno-gu|contact with patient| 2002000001|            17|              null|    2020-01-30|   2020-02-19|         null|released|\n",
            "|1000000004|  male|20s|  Korea|   Seoul|    Mapo-gu|     overseas inflow|       null|             9|        2020-01-26|    2020-01-30|   2020-02-15|         null|released|\n",
            "|1000000005|female|20s|  Korea|   Seoul|Seongbuk-gu|contact with patient| 1000000002|             2|              null|    2020-01-31|   2020-02-24|         null|released|\n",
            "|1000000006|female|50s|  Korea|   Seoul|  Jongno-gu|contact with patient| 1000000003|            43|              null|    2020-01-31|   2020-02-19|         null|released|\n",
            "|1000000007|  male|20s|  Korea|   Seoul|  Jongno-gu|contact with patient| 1000000003|             0|              null|    2020-01-31|   2020-02-10|         null|released|\n",
            "|1000000008|  male|20s|  Korea|   Seoul|        etc|     overseas inflow|       null|             0|              null|    2020-02-02|   2020-02-24|         null|released|\n",
            "|1000000009|  male|30s|  Korea|   Seoul|  Songpa-gu|     overseas inflow|       null|            68|              null|    2020-02-05|   2020-02-21|         null|released|\n",
            "|1000000010|female|60s|  Korea|   Seoul|Seongbuk-gu|contact with patient| 1000000003|             6|              null|    2020-02-05|   2020-02-29|         null|released|\n",
            "+----------+------+---+-------+--------+-----------+--------------------+-----------+--------------+------------------+--------------+-------------+-------------+--------+\n",
            "only showing top 10 rows\n",
            "\n"
          ]
        }
      ]
    },
    {
      "cell_type": "code",
      "source": [
        "#d=df4.select(\"Cruise_line\").rdd.map(lambda x : x[0]).collect()"
      ],
      "metadata": {
        "id": "WebMX1dxfdaD"
      },
      "execution_count": null,
      "outputs": []
    },
    {
      "cell_type": "code",
      "source": [
        "from pyspark.sql.functions import coalesce\n",
        "df4=df4.withColumn(\"deceased_date\",coalesce(df4.deceased_date,df4.released_date)) "
      ],
      "metadata": {
        "id": "7eX5Dd1Ym0rn"
      },
      "execution_count": 43,
      "outputs": []
    },
    {
      "cell_type": "code",
      "source": [
        "from pyspark.sql.functions import col\n",
        "from pyspark.sql.types import DateType\n",
        "\n",
        "df4=df4.withColumn(\"deceased_date\",col(\"deceased_date\").cast(DateType())) \\\n",
        ".withColumn(\"confirmed_date\",col(\"confirmed_date\").cast(DateType()))"
      ],
      "metadata": {
        "id": "Wn-Idz_Qm9uF"
      },
      "execution_count": 44,
      "outputs": []
    },
    {
      "cell_type": "code",
      "source": [
        "from pyspark.sql.functions import *\n",
        "df4=df4.withColumn(\"no_days\",datediff(col(\"deceased_date\"),col(\"confirmed_date\")))\n"
      ],
      "metadata": {
        "id": "duONAIbWnCbF"
      },
      "execution_count": 45,
      "outputs": []
    },
    {
      "cell_type": "code",
      "source": [
        "df4=df4.withColumn(\"is_male\",when( (col(\"sex\") == \"male\"), 1).otherwise(0)) "
      ],
      "metadata": {
        "id": "V0mR5dnNnLkz"
      },
      "execution_count": 46,
      "outputs": []
    },
    {
      "cell_type": "code",
      "source": [
        "df4.printSchema()"
      ],
      "metadata": {
        "colab": {
          "base_uri": "https://localhost:8080/"
        },
        "id": "S7zpWL_Tnd8c",
        "outputId": "89f8cbdd-b359-47ab-c7c0-1f091756984e"
      },
      "execution_count": 47,
      "outputs": [
        {
          "output_type": "stream",
          "name": "stdout",
          "text": [
            "root\n",
            " |-- patient_id: string (nullable = true)\n",
            " |-- sex: string (nullable = true)\n",
            " |-- age: string (nullable = true)\n",
            " |-- country: string (nullable = true)\n",
            " |-- province: string (nullable = true)\n",
            " |-- city: string (nullable = true)\n",
            " |-- infection_case: string (nullable = true)\n",
            " |-- infected_by: string (nullable = true)\n",
            " |-- contact_number: string (nullable = true)\n",
            " |-- symptom_onset_date: string (nullable = true)\n",
            " |-- confirmed_date: date (nullable = true)\n",
            " |-- released_date: string (nullable = true)\n",
            " |-- deceased_date: date (nullable = true)\n",
            " |-- state: string (nullable = true)\n",
            " |-- no_days: integer (nullable = true)\n",
            " |-- is_male: integer (nullable = false)\n",
            "\n"
          ]
        }
      ]
    },
    {
      "cell_type": "code",
      "source": [
        "df4=df4.withColumn(\"is_dead\",when( (col(\"state\") == \"released\"), 0).otherwise(1)) "
      ],
      "metadata": {
        "id": "hTSgYmBun49h"
      },
      "execution_count": 48,
      "outputs": []
    },
    {
      "cell_type": "code",
      "source": [
        "from pyspark.sql.functions import translate\n",
        "\n",
        "\n",
        "df4=df4.withColumn('age', translate('age', 's', ''))"
      ],
      "metadata": {
        "id": "cWMpX_YCokrK"
      },
      "execution_count": 49,
      "outputs": []
    },
    {
      "cell_type": "code",
      "source": [
        "import pyspark.sql.types as t\n",
        "df4=df4.withColumn(\"age\",col(\"age\").cast(t.DoubleType())) "
      ],
      "metadata": {
        "id": "JMHLLzQDootb"
      },
      "execution_count": 50,
      "outputs": []
    },
    {
      "cell_type": "code",
      "source": [
        "df4=df4.withColumn(\"no_days\",col(\"no_days\").cast(t.DoubleType()))"
      ],
      "metadata": {
        "id": "wjNOvvwJo7ad"
      },
      "execution_count": 51,
      "outputs": []
    },
    {
      "cell_type": "code",
      "source": [
        "df4.printSchema()"
      ],
      "metadata": {
        "colab": {
          "base_uri": "https://localhost:8080/"
        },
        "id": "Dui45pxEo_AM",
        "outputId": "21015ab3-6bf4-46b4-df7b-4e5994b5e767"
      },
      "execution_count": 52,
      "outputs": [
        {
          "output_type": "stream",
          "name": "stdout",
          "text": [
            "root\n",
            " |-- patient_id: string (nullable = true)\n",
            " |-- sex: string (nullable = true)\n",
            " |-- age: double (nullable = true)\n",
            " |-- country: string (nullable = true)\n",
            " |-- province: string (nullable = true)\n",
            " |-- city: string (nullable = true)\n",
            " |-- infection_case: string (nullable = true)\n",
            " |-- infected_by: string (nullable = true)\n",
            " |-- contact_number: string (nullable = true)\n",
            " |-- symptom_onset_date: string (nullable = true)\n",
            " |-- confirmed_date: date (nullable = true)\n",
            " |-- released_date: string (nullable = true)\n",
            " |-- deceased_date: date (nullable = true)\n",
            " |-- state: string (nullable = true)\n",
            " |-- no_days: double (nullable = true)\n",
            " |-- is_male: integer (nullable = false)\n",
            " |-- is_dead: integer (nullable = false)\n",
            "\n"
          ]
        }
      ]
    },
    {
      "cell_type": "code",
      "source": [
        "df4=df4.drop(\"sex\",\"confirmed_date\",\"released_date\",\"deceased_date\",\"state\")"
      ],
      "metadata": {
        "id": "ejpZ66yIpHXZ"
      },
      "execution_count": 53,
      "outputs": []
    },
    {
      "cell_type": "code",
      "source": [
        "df4.show(2)"
      ],
      "metadata": {
        "colab": {
          "base_uri": "https://localhost:8080/"
        },
        "id": "sDNWD2i3quWf",
        "outputId": "7c5e1689-b9b7-4eb5-c0bf-a8044b71809c"
      },
      "execution_count": 54,
      "outputs": [
        {
          "output_type": "stream",
          "name": "stdout",
          "text": [
            "+----------+----+-------+--------+-----------+---------------+-----------+--------------+------------------+-------+-------+-------+\n",
            "|patient_id| age|country|province|       city| infection_case|infected_by|contact_number|symptom_onset_date|no_days|is_male|is_dead|\n",
            "+----------+----+-------+--------+-----------+---------------+-----------+--------------+------------------+-------+-------+-------+\n",
            "|1000000001|50.0|  Korea|   Seoul| Gangseo-gu|overseas inflow|       null|            75|        2020-01-22|   13.0|      1|      0|\n",
            "|1000000002|30.0|  Korea|   Seoul|Jungnang-gu|overseas inflow|       null|            31|              null|   32.0|      1|      0|\n",
            "+----------+----+-------+--------+-----------+---------------+-----------+--------------+------------------+-------+-------+-------+\n",
            "only showing top 2 rows\n",
            "\n"
          ]
        }
      ]
    },
    {
      "cell_type": "code",
      "source": [
        "df4=df4.drop(\"symptom_onset_date\",\"contact_number\",\"infected_by\")"
      ],
      "metadata": {
        "id": "33zIBooCqYT2"
      },
      "execution_count": 56,
      "outputs": []
    },
    {
      "cell_type": "code",
      "source": [
        "df4.printSchema()"
      ],
      "metadata": {
        "colab": {
          "base_uri": "https://localhost:8080/"
        },
        "id": "W9PTgJXLqGW_",
        "outputId": "8633f9b0-9a61-4610-91e0-6baed3cbcfb6"
      },
      "execution_count": 57,
      "outputs": [
        {
          "output_type": "stream",
          "name": "stdout",
          "text": [
            "root\n",
            " |-- patient_id: string (nullable = true)\n",
            " |-- age: double (nullable = true)\n",
            " |-- country: string (nullable = true)\n",
            " |-- province: string (nullable = true)\n",
            " |-- city: string (nullable = true)\n",
            " |-- infection_case: string (nullable = true)\n",
            " |-- no_days: double (nullable = true)\n",
            " |-- is_male: integer (nullable = false)\n",
            " |-- is_dead: integer (nullable = false)\n",
            "\n"
          ]
        }
      ]
    },
    {
      "cell_type": "code",
      "source": [
        "enc = OneHotEncoder(handle_unknown='ignore')"
      ],
      "metadata": {
        "id": "KE8_LuaOgOPo"
      },
      "execution_count": 58,
      "outputs": []
    },
    {
      "cell_type": "code",
      "source": [
        "d=df4.select(\"infection_case\").rdd.map(lambda x : x[0]).collect()"
      ],
      "metadata": {
        "id": "1v-IUCr5r5d7"
      },
      "execution_count": 59,
      "outputs": []
    },
    {
      "cell_type": "code",
      "source": [
        "A = np.array(list(d)).reshape(-1,1)"
      ],
      "metadata": {
        "id": "IQfxWda8ffDG"
      },
      "execution_count": 60,
      "outputs": []
    },
    {
      "cell_type": "code",
      "source": [
        "data_encoded=enc.fit_transform( A).toarray()\n",
        "#data_encoded=data_encoded.tolist()"
      ],
      "metadata": {
        "id": "0eCSVtSffn7l"
      },
      "execution_count": 61,
      "outputs": []
    },
    {
      "cell_type": "code",
      "source": [
        "cols=enc.get_feature_names_out()\n",
        "cols=cols.tolist()"
      ],
      "metadata": {
        "id": "h_66X-f3f0eh"
      },
      "execution_count": 62,
      "outputs": []
    },
    {
      "cell_type": "code",
      "source": [
        "import pandas as pd\n",
        "df = pd.DataFrame(data_encoded,columns =cols)\n",
        "df.head(10)"
      ],
      "metadata": {
        "colab": {
          "base_uri": "https://localhost:8080/",
          "height": 508
        },
        "id": "RMBnIJiVf2BY",
        "outputId": "f659b6b5-ba5a-4ee3-aadd-538c00d36907"
      },
      "execution_count": 63,
      "outputs": [
        {
          "output_type": "execute_result",
          "data": {
            "text/plain": [
              "   x0_Anyang Gunpo Pastors Group  x0_Biblical Language study meeting  \\\n",
              "0                            0.0                                 0.0   \n",
              "1                            0.0                                 0.0   \n",
              "2                            0.0                                 0.0   \n",
              "3                            0.0                                 0.0   \n",
              "4                            0.0                                 0.0   \n",
              "5                            0.0                                 0.0   \n",
              "6                            0.0                                 0.0   \n",
              "7                            0.0                                 0.0   \n",
              "8                            0.0                                 0.0   \n",
              "9                            0.0                                 0.0   \n",
              "\n",
              "   x0_Bonghwa Pureun Nursing Home  x0_Changnyeong Coin Karaoke  \\\n",
              "0                             0.0                          0.0   \n",
              "1                             0.0                          0.0   \n",
              "2                             0.0                          0.0   \n",
              "3                             0.0                          0.0   \n",
              "4                             0.0                          0.0   \n",
              "5                             0.0                          0.0   \n",
              "6                             0.0                          0.0   \n",
              "7                             0.0                          0.0   \n",
              "8                             0.0                          0.0   \n",
              "9                             0.0                          0.0   \n",
              "\n",
              "   x0_Cheongdo Daenam Hospital  x0_Coupang Logistics Center  \\\n",
              "0                          0.0                          0.0   \n",
              "1                          0.0                          0.0   \n",
              "2                          0.0                          0.0   \n",
              "3                          0.0                          0.0   \n",
              "4                          0.0                          0.0   \n",
              "5                          0.0                          0.0   \n",
              "6                          0.0                          0.0   \n",
              "7                          0.0                          0.0   \n",
              "8                          0.0                          0.0   \n",
              "9                          0.0                          0.0   \n",
              "\n",
              "   x0_Daejeon door-to-door sales  x0_Daezayeon Korea  x0_Day Care Center  \\\n",
              "0                            0.0                 0.0                 0.0   \n",
              "1                            0.0                 0.0                 0.0   \n",
              "2                            0.0                 0.0                 0.0   \n",
              "3                            0.0                 0.0                 0.0   \n",
              "4                            0.0                 0.0                 0.0   \n",
              "5                            0.0                 0.0                 0.0   \n",
              "6                            0.0                 0.0                 0.0   \n",
              "7                            0.0                 0.0                 0.0   \n",
              "8                            0.0                 0.0                 0.0   \n",
              "9                            0.0                 0.0                 0.0   \n",
              "\n",
              "   x0_Dongan Church  ...  x0_Yangcheon Table Tennis Club  \\\n",
              "0               0.0  ...                             0.0   \n",
              "1               0.0  ...                             0.0   \n",
              "2               0.0  ...                             0.0   \n",
              "3               0.0  ...                             0.0   \n",
              "4               0.0  ...                             0.0   \n",
              "5               0.0  ...                             0.0   \n",
              "6               0.0  ...                             0.0   \n",
              "7               0.0  ...                             0.0   \n",
              "8               0.0  ...                             0.0   \n",
              "9               0.0  ...                             0.0   \n",
              "\n",
              "   x0_Yeonana News Class  x0_Yeongdeungpo Learning Institute  \\\n",
              "0                    0.0                                 0.0   \n",
              "1                    0.0                                 0.0   \n",
              "2                    0.0                                 0.0   \n",
              "3                    0.0                                 0.0   \n",
              "4                    0.0                                 0.0   \n",
              "5                    0.0                                 0.0   \n",
              "6                    0.0                                 0.0   \n",
              "7                    0.0                                 0.0   \n",
              "8                    0.0                                 0.0   \n",
              "9                    0.0                                 0.0   \n",
              "\n",
              "   x0_Yongin Brothers  x0_contact with patient  x0_etc  \\\n",
              "0                 0.0                      0.0     0.0   \n",
              "1                 0.0                      0.0     0.0   \n",
              "2                 0.0                      1.0     0.0   \n",
              "3                 0.0                      0.0     0.0   \n",
              "4                 0.0                      1.0     0.0   \n",
              "5                 0.0                      1.0     0.0   \n",
              "6                 0.0                      1.0     0.0   \n",
              "7                 0.0                      0.0     0.0   \n",
              "8                 0.0                      0.0     0.0   \n",
              "9                 0.0                      1.0     0.0   \n",
              "\n",
              "   x0_gym facility in Cheonan  x0_gym facility in Sejong  x0_overseas inflow  \\\n",
              "0                         0.0                        0.0                 1.0   \n",
              "1                         0.0                        0.0                 1.0   \n",
              "2                         0.0                        0.0                 0.0   \n",
              "3                         0.0                        0.0                 1.0   \n",
              "4                         0.0                        0.0                 0.0   \n",
              "5                         0.0                        0.0                 0.0   \n",
              "6                         0.0                        0.0                 0.0   \n",
              "7                         0.0                        0.0                 1.0   \n",
              "8                         0.0                        0.0                 1.0   \n",
              "9                         0.0                        0.0                 0.0   \n",
              "\n",
              "   x0_None  \n",
              "0      0.0  \n",
              "1      0.0  \n",
              "2      0.0  \n",
              "3      0.0  \n",
              "4      0.0  \n",
              "5      0.0  \n",
              "6      0.0  \n",
              "7      0.0  \n",
              "8      0.0  \n",
              "9      0.0  \n",
              "\n",
              "[10 rows x 52 columns]"
            ],
            "text/html": [
              "\n",
              "  <div id=\"df-b8ac79d6-cc0a-4b10-855c-7cb1e614650f\">\n",
              "    <div class=\"colab-df-container\">\n",
              "      <div>\n",
              "<style scoped>\n",
              "    .dataframe tbody tr th:only-of-type {\n",
              "        vertical-align: middle;\n",
              "    }\n",
              "\n",
              "    .dataframe tbody tr th {\n",
              "        vertical-align: top;\n",
              "    }\n",
              "\n",
              "    .dataframe thead th {\n",
              "        text-align: right;\n",
              "    }\n",
              "</style>\n",
              "<table border=\"1\" class=\"dataframe\">\n",
              "  <thead>\n",
              "    <tr style=\"text-align: right;\">\n",
              "      <th></th>\n",
              "      <th>x0_Anyang Gunpo Pastors Group</th>\n",
              "      <th>x0_Biblical Language study meeting</th>\n",
              "      <th>x0_Bonghwa Pureun Nursing Home</th>\n",
              "      <th>x0_Changnyeong Coin Karaoke</th>\n",
              "      <th>x0_Cheongdo Daenam Hospital</th>\n",
              "      <th>x0_Coupang Logistics Center</th>\n",
              "      <th>x0_Daejeon door-to-door sales</th>\n",
              "      <th>x0_Daezayeon Korea</th>\n",
              "      <th>x0_Day Care Center</th>\n",
              "      <th>x0_Dongan Church</th>\n",
              "      <th>...</th>\n",
              "      <th>x0_Yangcheon Table Tennis Club</th>\n",
              "      <th>x0_Yeonana News Class</th>\n",
              "      <th>x0_Yeongdeungpo Learning Institute</th>\n",
              "      <th>x0_Yongin Brothers</th>\n",
              "      <th>x0_contact with patient</th>\n",
              "      <th>x0_etc</th>\n",
              "      <th>x0_gym facility in Cheonan</th>\n",
              "      <th>x0_gym facility in Sejong</th>\n",
              "      <th>x0_overseas inflow</th>\n",
              "      <th>x0_None</th>\n",
              "    </tr>\n",
              "  </thead>\n",
              "  <tbody>\n",
              "    <tr>\n",
              "      <th>0</th>\n",
              "      <td>0.0</td>\n",
              "      <td>0.0</td>\n",
              "      <td>0.0</td>\n",
              "      <td>0.0</td>\n",
              "      <td>0.0</td>\n",
              "      <td>0.0</td>\n",
              "      <td>0.0</td>\n",
              "      <td>0.0</td>\n",
              "      <td>0.0</td>\n",
              "      <td>0.0</td>\n",
              "      <td>...</td>\n",
              "      <td>0.0</td>\n",
              "      <td>0.0</td>\n",
              "      <td>0.0</td>\n",
              "      <td>0.0</td>\n",
              "      <td>0.0</td>\n",
              "      <td>0.0</td>\n",
              "      <td>0.0</td>\n",
              "      <td>0.0</td>\n",
              "      <td>1.0</td>\n",
              "      <td>0.0</td>\n",
              "    </tr>\n",
              "    <tr>\n",
              "      <th>1</th>\n",
              "      <td>0.0</td>\n",
              "      <td>0.0</td>\n",
              "      <td>0.0</td>\n",
              "      <td>0.0</td>\n",
              "      <td>0.0</td>\n",
              "      <td>0.0</td>\n",
              "      <td>0.0</td>\n",
              "      <td>0.0</td>\n",
              "      <td>0.0</td>\n",
              "      <td>0.0</td>\n",
              "      <td>...</td>\n",
              "      <td>0.0</td>\n",
              "      <td>0.0</td>\n",
              "      <td>0.0</td>\n",
              "      <td>0.0</td>\n",
              "      <td>0.0</td>\n",
              "      <td>0.0</td>\n",
              "      <td>0.0</td>\n",
              "      <td>0.0</td>\n",
              "      <td>1.0</td>\n",
              "      <td>0.0</td>\n",
              "    </tr>\n",
              "    <tr>\n",
              "      <th>2</th>\n",
              "      <td>0.0</td>\n",
              "      <td>0.0</td>\n",
              "      <td>0.0</td>\n",
              "      <td>0.0</td>\n",
              "      <td>0.0</td>\n",
              "      <td>0.0</td>\n",
              "      <td>0.0</td>\n",
              "      <td>0.0</td>\n",
              "      <td>0.0</td>\n",
              "      <td>0.0</td>\n",
              "      <td>...</td>\n",
              "      <td>0.0</td>\n",
              "      <td>0.0</td>\n",
              "      <td>0.0</td>\n",
              "      <td>0.0</td>\n",
              "      <td>1.0</td>\n",
              "      <td>0.0</td>\n",
              "      <td>0.0</td>\n",
              "      <td>0.0</td>\n",
              "      <td>0.0</td>\n",
              "      <td>0.0</td>\n",
              "    </tr>\n",
              "    <tr>\n",
              "      <th>3</th>\n",
              "      <td>0.0</td>\n",
              "      <td>0.0</td>\n",
              "      <td>0.0</td>\n",
              "      <td>0.0</td>\n",
              "      <td>0.0</td>\n",
              "      <td>0.0</td>\n",
              "      <td>0.0</td>\n",
              "      <td>0.0</td>\n",
              "      <td>0.0</td>\n",
              "      <td>0.0</td>\n",
              "      <td>...</td>\n",
              "      <td>0.0</td>\n",
              "      <td>0.0</td>\n",
              "      <td>0.0</td>\n",
              "      <td>0.0</td>\n",
              "      <td>0.0</td>\n",
              "      <td>0.0</td>\n",
              "      <td>0.0</td>\n",
              "      <td>0.0</td>\n",
              "      <td>1.0</td>\n",
              "      <td>0.0</td>\n",
              "    </tr>\n",
              "    <tr>\n",
              "      <th>4</th>\n",
              "      <td>0.0</td>\n",
              "      <td>0.0</td>\n",
              "      <td>0.0</td>\n",
              "      <td>0.0</td>\n",
              "      <td>0.0</td>\n",
              "      <td>0.0</td>\n",
              "      <td>0.0</td>\n",
              "      <td>0.0</td>\n",
              "      <td>0.0</td>\n",
              "      <td>0.0</td>\n",
              "      <td>...</td>\n",
              "      <td>0.0</td>\n",
              "      <td>0.0</td>\n",
              "      <td>0.0</td>\n",
              "      <td>0.0</td>\n",
              "      <td>1.0</td>\n",
              "      <td>0.0</td>\n",
              "      <td>0.0</td>\n",
              "      <td>0.0</td>\n",
              "      <td>0.0</td>\n",
              "      <td>0.0</td>\n",
              "    </tr>\n",
              "    <tr>\n",
              "      <th>5</th>\n",
              "      <td>0.0</td>\n",
              "      <td>0.0</td>\n",
              "      <td>0.0</td>\n",
              "      <td>0.0</td>\n",
              "      <td>0.0</td>\n",
              "      <td>0.0</td>\n",
              "      <td>0.0</td>\n",
              "      <td>0.0</td>\n",
              "      <td>0.0</td>\n",
              "      <td>0.0</td>\n",
              "      <td>...</td>\n",
              "      <td>0.0</td>\n",
              "      <td>0.0</td>\n",
              "      <td>0.0</td>\n",
              "      <td>0.0</td>\n",
              "      <td>1.0</td>\n",
              "      <td>0.0</td>\n",
              "      <td>0.0</td>\n",
              "      <td>0.0</td>\n",
              "      <td>0.0</td>\n",
              "      <td>0.0</td>\n",
              "    </tr>\n",
              "    <tr>\n",
              "      <th>6</th>\n",
              "      <td>0.0</td>\n",
              "      <td>0.0</td>\n",
              "      <td>0.0</td>\n",
              "      <td>0.0</td>\n",
              "      <td>0.0</td>\n",
              "      <td>0.0</td>\n",
              "      <td>0.0</td>\n",
              "      <td>0.0</td>\n",
              "      <td>0.0</td>\n",
              "      <td>0.0</td>\n",
              "      <td>...</td>\n",
              "      <td>0.0</td>\n",
              "      <td>0.0</td>\n",
              "      <td>0.0</td>\n",
              "      <td>0.0</td>\n",
              "      <td>1.0</td>\n",
              "      <td>0.0</td>\n",
              "      <td>0.0</td>\n",
              "      <td>0.0</td>\n",
              "      <td>0.0</td>\n",
              "      <td>0.0</td>\n",
              "    </tr>\n",
              "    <tr>\n",
              "      <th>7</th>\n",
              "      <td>0.0</td>\n",
              "      <td>0.0</td>\n",
              "      <td>0.0</td>\n",
              "      <td>0.0</td>\n",
              "      <td>0.0</td>\n",
              "      <td>0.0</td>\n",
              "      <td>0.0</td>\n",
              "      <td>0.0</td>\n",
              "      <td>0.0</td>\n",
              "      <td>0.0</td>\n",
              "      <td>...</td>\n",
              "      <td>0.0</td>\n",
              "      <td>0.0</td>\n",
              "      <td>0.0</td>\n",
              "      <td>0.0</td>\n",
              "      <td>0.0</td>\n",
              "      <td>0.0</td>\n",
              "      <td>0.0</td>\n",
              "      <td>0.0</td>\n",
              "      <td>1.0</td>\n",
              "      <td>0.0</td>\n",
              "    </tr>\n",
              "    <tr>\n",
              "      <th>8</th>\n",
              "      <td>0.0</td>\n",
              "      <td>0.0</td>\n",
              "      <td>0.0</td>\n",
              "      <td>0.0</td>\n",
              "      <td>0.0</td>\n",
              "      <td>0.0</td>\n",
              "      <td>0.0</td>\n",
              "      <td>0.0</td>\n",
              "      <td>0.0</td>\n",
              "      <td>0.0</td>\n",
              "      <td>...</td>\n",
              "      <td>0.0</td>\n",
              "      <td>0.0</td>\n",
              "      <td>0.0</td>\n",
              "      <td>0.0</td>\n",
              "      <td>0.0</td>\n",
              "      <td>0.0</td>\n",
              "      <td>0.0</td>\n",
              "      <td>0.0</td>\n",
              "      <td>1.0</td>\n",
              "      <td>0.0</td>\n",
              "    </tr>\n",
              "    <tr>\n",
              "      <th>9</th>\n",
              "      <td>0.0</td>\n",
              "      <td>0.0</td>\n",
              "      <td>0.0</td>\n",
              "      <td>0.0</td>\n",
              "      <td>0.0</td>\n",
              "      <td>0.0</td>\n",
              "      <td>0.0</td>\n",
              "      <td>0.0</td>\n",
              "      <td>0.0</td>\n",
              "      <td>0.0</td>\n",
              "      <td>...</td>\n",
              "      <td>0.0</td>\n",
              "      <td>0.0</td>\n",
              "      <td>0.0</td>\n",
              "      <td>0.0</td>\n",
              "      <td>1.0</td>\n",
              "      <td>0.0</td>\n",
              "      <td>0.0</td>\n",
              "      <td>0.0</td>\n",
              "      <td>0.0</td>\n",
              "      <td>0.0</td>\n",
              "    </tr>\n",
              "  </tbody>\n",
              "</table>\n",
              "<p>10 rows × 52 columns</p>\n",
              "</div>\n",
              "      <button class=\"colab-df-convert\" onclick=\"convertToInteractive('df-b8ac79d6-cc0a-4b10-855c-7cb1e614650f')\"\n",
              "              title=\"Convert this dataframe to an interactive table.\"\n",
              "              style=\"display:none;\">\n",
              "        \n",
              "  <svg xmlns=\"http://www.w3.org/2000/svg\" height=\"24px\"viewBox=\"0 0 24 24\"\n",
              "       width=\"24px\">\n",
              "    <path d=\"M0 0h24v24H0V0z\" fill=\"none\"/>\n",
              "    <path d=\"M18.56 5.44l.94 2.06.94-2.06 2.06-.94-2.06-.94-.94-2.06-.94 2.06-2.06.94zm-11 1L8.5 8.5l.94-2.06 2.06-.94-2.06-.94L8.5 2.5l-.94 2.06-2.06.94zm10 10l.94 2.06.94-2.06 2.06-.94-2.06-.94-.94-2.06-.94 2.06-2.06.94z\"/><path d=\"M17.41 7.96l-1.37-1.37c-.4-.4-.92-.59-1.43-.59-.52 0-1.04.2-1.43.59L10.3 9.45l-7.72 7.72c-.78.78-.78 2.05 0 2.83L4 21.41c.39.39.9.59 1.41.59.51 0 1.02-.2 1.41-.59l7.78-7.78 2.81-2.81c.8-.78.8-2.07 0-2.86zM5.41 20L4 18.59l7.72-7.72 1.47 1.35L5.41 20z\"/>\n",
              "  </svg>\n",
              "      </button>\n",
              "      \n",
              "  <style>\n",
              "    .colab-df-container {\n",
              "      display:flex;\n",
              "      flex-wrap:wrap;\n",
              "      gap: 12px;\n",
              "    }\n",
              "\n",
              "    .colab-df-convert {\n",
              "      background-color: #E8F0FE;\n",
              "      border: none;\n",
              "      border-radius: 50%;\n",
              "      cursor: pointer;\n",
              "      display: none;\n",
              "      fill: #1967D2;\n",
              "      height: 32px;\n",
              "      padding: 0 0 0 0;\n",
              "      width: 32px;\n",
              "    }\n",
              "\n",
              "    .colab-df-convert:hover {\n",
              "      background-color: #E2EBFA;\n",
              "      box-shadow: 0px 1px 2px rgba(60, 64, 67, 0.3), 0px 1px 3px 1px rgba(60, 64, 67, 0.15);\n",
              "      fill: #174EA6;\n",
              "    }\n",
              "\n",
              "    [theme=dark] .colab-df-convert {\n",
              "      background-color: #3B4455;\n",
              "      fill: #D2E3FC;\n",
              "    }\n",
              "\n",
              "    [theme=dark] .colab-df-convert:hover {\n",
              "      background-color: #434B5C;\n",
              "      box-shadow: 0px 1px 3px 1px rgba(0, 0, 0, 0.15);\n",
              "      filter: drop-shadow(0px 1px 2px rgba(0, 0, 0, 0.3));\n",
              "      fill: #FFFFFF;\n",
              "    }\n",
              "  </style>\n",
              "\n",
              "      <script>\n",
              "        const buttonEl =\n",
              "          document.querySelector('#df-b8ac79d6-cc0a-4b10-855c-7cb1e614650f button.colab-df-convert');\n",
              "        buttonEl.style.display =\n",
              "          google.colab.kernel.accessAllowed ? 'block' : 'none';\n",
              "\n",
              "        async function convertToInteractive(key) {\n",
              "          const element = document.querySelector('#df-b8ac79d6-cc0a-4b10-855c-7cb1e614650f');\n",
              "          const dataTable =\n",
              "            await google.colab.kernel.invokeFunction('convertToInteractive',\n",
              "                                                     [key], {});\n",
              "          if (!dataTable) return;\n",
              "\n",
              "          const docLinkHtml = 'Like what you see? Visit the ' +\n",
              "            '<a target=\"_blank\" href=https://colab.research.google.com/notebooks/data_table.ipynb>data table notebook</a>'\n",
              "            + ' to learn more about interactive tables.';\n",
              "          element.innerHTML = '';\n",
              "          dataTable['output_type'] = 'display_data';\n",
              "          await google.colab.output.renderOutput(dataTable, element);\n",
              "          const docLink = document.createElement('div');\n",
              "          docLink.innerHTML = docLinkHtml;\n",
              "          element.appendChild(docLink);\n",
              "        }\n",
              "      </script>\n",
              "    </div>\n",
              "  </div>\n",
              "  "
            ]
          },
          "metadata": {},
          "execution_count": 63
        }
      ]
    },
    {
      "cell_type": "code",
      "source": [
        "deptDF = spark.createDataFrame(df)"
      ],
      "metadata": {
        "id": "DlNumNaEcFRP"
      },
      "execution_count": 64,
      "outputs": []
    },
    {
      "cell_type": "code",
      "source": [
        "deptDF.show(10)"
      ],
      "metadata": {
        "colab": {
          "base_uri": "https://localhost:8080/"
        },
        "id": "CW4grjKzcN34",
        "outputId": "2ff1ed37-a93d-4a4b-bc26-229586fafe60"
      },
      "execution_count": 65,
      "outputs": [
        {
          "output_type": "stream",
          "name": "stdout",
          "text": [
            "+-----------------------------+----------------------------------+------------------------------+---------------------------+---------------------------+---------------------------+-----------------------------+------------------+------------------+----------------+--------------------------+--------------------------------+------------------------+---------------------------------+------------------+------------------------------------------------+----------------------------+----------------------+----------------------------------------+-----------------------------+--------------------------------+----------------+--------------------+---------------------------------+----------------+-----------------------------------+----------------+--------------+--------------+-----------------------+----------+----------------------------------+-----------------------------------+----------------------------------+-------------------------+----------------+-------------------+----------------------------------------+---------------------+--------------------------+--------------------------+------------------+------------------------------+---------------------+----------------------------------+------------------+-----------------------+------+--------------------------+-------------------------+------------------+-------+\n",
            "|x0_Anyang Gunpo Pastors Group|x0_Biblical Language study meeting|x0_Bonghwa Pureun Nursing Home|x0_Changnyeong Coin Karaoke|x0_Cheongdo Daenam Hospital|x0_Coupang Logistics Center|x0_Daejeon door-to-door sales|x0_Daezayeon Korea|x0_Day Care Center|x0_Dongan Church|x0_Dunsan Electronics Town|x0_Eunpyeong St. Mary's Hospital|x0_Gangnam Dongin Church|x0_Gangnam Yeoksam-dong gathering|x0_Geochang Church|x0_Geumcheon-gu rice milling machine manufacture|x0_Guri Collective Infection|x0_Guro-gu Call Center|x0_Gyeongsan Cham Joeun Community Center|x0_Gyeongsan Jeil Silver Town|x0_Gyeongsan Seorin Nursing Home|x0_Itaewon Clubs|x0_KB Life Insurance|x0_Korea Campus Crusade of Christ|x0_Milal Shelter|x0_Ministry of Oceans and Fisheries|x0_Onchun Church|x0_Orange Life|x0_Orange Town|x0_Pilgrimage to Israel|x0_Richway|x0_River of Grace Community Church|x0_SMR Newly Planted Churches Group|x0_Samsung Fire & Marine Insurance|x0_Samsung Medical Center|x0_Seocho Family|x0_Seongdong-gu APT|x0_Seoul City Hall Station safety worker|x0_Shincheonji Church|x0_Suyeong-gu Kindergarten|x0_Uiwang Logistics Center|x0_Wangsung Church|x0_Yangcheon Table Tennis Club|x0_Yeonana News Class|x0_Yeongdeungpo Learning Institute|x0_Yongin Brothers|x0_contact with patient|x0_etc|x0_gym facility in Cheonan|x0_gym facility in Sejong|x0_overseas inflow|x0_None|\n",
            "+-----------------------------+----------------------------------+------------------------------+---------------------------+---------------------------+---------------------------+-----------------------------+------------------+------------------+----------------+--------------------------+--------------------------------+------------------------+---------------------------------+------------------+------------------------------------------------+----------------------------+----------------------+----------------------------------------+-----------------------------+--------------------------------+----------------+--------------------+---------------------------------+----------------+-----------------------------------+----------------+--------------+--------------+-----------------------+----------+----------------------------------+-----------------------------------+----------------------------------+-------------------------+----------------+-------------------+----------------------------------------+---------------------+--------------------------+--------------------------+------------------+------------------------------+---------------------+----------------------------------+------------------+-----------------------+------+--------------------------+-------------------------+------------------+-------+\n",
            "|                          0.0|                               0.0|                           0.0|                        0.0|                        0.0|                        0.0|                          0.0|               0.0|               0.0|             0.0|                       0.0|                             0.0|                     0.0|                              0.0|               0.0|                                             0.0|                         0.0|                   0.0|                                     0.0|                          0.0|                             0.0|             0.0|                 0.0|                              0.0|             0.0|                                0.0|             0.0|           0.0|           0.0|                    0.0|       0.0|                               0.0|                                0.0|                               0.0|                      0.0|             0.0|                0.0|                                     0.0|                  0.0|                       0.0|                       0.0|               0.0|                           0.0|                  0.0|                               0.0|               0.0|                    0.0|   0.0|                       0.0|                      0.0|               1.0|    0.0|\n",
            "|                          0.0|                               0.0|                           0.0|                        0.0|                        0.0|                        0.0|                          0.0|               0.0|               0.0|             0.0|                       0.0|                             0.0|                     0.0|                              0.0|               0.0|                                             0.0|                         0.0|                   0.0|                                     0.0|                          0.0|                             0.0|             0.0|                 0.0|                              0.0|             0.0|                                0.0|             0.0|           0.0|           0.0|                    0.0|       0.0|                               0.0|                                0.0|                               0.0|                      0.0|             0.0|                0.0|                                     0.0|                  0.0|                       0.0|                       0.0|               0.0|                           0.0|                  0.0|                               0.0|               0.0|                    0.0|   0.0|                       0.0|                      0.0|               1.0|    0.0|\n",
            "|                          0.0|                               0.0|                           0.0|                        0.0|                        0.0|                        0.0|                          0.0|               0.0|               0.0|             0.0|                       0.0|                             0.0|                     0.0|                              0.0|               0.0|                                             0.0|                         0.0|                   0.0|                                     0.0|                          0.0|                             0.0|             0.0|                 0.0|                              0.0|             0.0|                                0.0|             0.0|           0.0|           0.0|                    0.0|       0.0|                               0.0|                                0.0|                               0.0|                      0.0|             0.0|                0.0|                                     0.0|                  0.0|                       0.0|                       0.0|               0.0|                           0.0|                  0.0|                               0.0|               0.0|                    1.0|   0.0|                       0.0|                      0.0|               0.0|    0.0|\n",
            "|                          0.0|                               0.0|                           0.0|                        0.0|                        0.0|                        0.0|                          0.0|               0.0|               0.0|             0.0|                       0.0|                             0.0|                     0.0|                              0.0|               0.0|                                             0.0|                         0.0|                   0.0|                                     0.0|                          0.0|                             0.0|             0.0|                 0.0|                              0.0|             0.0|                                0.0|             0.0|           0.0|           0.0|                    0.0|       0.0|                               0.0|                                0.0|                               0.0|                      0.0|             0.0|                0.0|                                     0.0|                  0.0|                       0.0|                       0.0|               0.0|                           0.0|                  0.0|                               0.0|               0.0|                    0.0|   0.0|                       0.0|                      0.0|               1.0|    0.0|\n",
            "|                          0.0|                               0.0|                           0.0|                        0.0|                        0.0|                        0.0|                          0.0|               0.0|               0.0|             0.0|                       0.0|                             0.0|                     0.0|                              0.0|               0.0|                                             0.0|                         0.0|                   0.0|                                     0.0|                          0.0|                             0.0|             0.0|                 0.0|                              0.0|             0.0|                                0.0|             0.0|           0.0|           0.0|                    0.0|       0.0|                               0.0|                                0.0|                               0.0|                      0.0|             0.0|                0.0|                                     0.0|                  0.0|                       0.0|                       0.0|               0.0|                           0.0|                  0.0|                               0.0|               0.0|                    1.0|   0.0|                       0.0|                      0.0|               0.0|    0.0|\n",
            "|                          0.0|                               0.0|                           0.0|                        0.0|                        0.0|                        0.0|                          0.0|               0.0|               0.0|             0.0|                       0.0|                             0.0|                     0.0|                              0.0|               0.0|                                             0.0|                         0.0|                   0.0|                                     0.0|                          0.0|                             0.0|             0.0|                 0.0|                              0.0|             0.0|                                0.0|             0.0|           0.0|           0.0|                    0.0|       0.0|                               0.0|                                0.0|                               0.0|                      0.0|             0.0|                0.0|                                     0.0|                  0.0|                       0.0|                       0.0|               0.0|                           0.0|                  0.0|                               0.0|               0.0|                    1.0|   0.0|                       0.0|                      0.0|               0.0|    0.0|\n",
            "|                          0.0|                               0.0|                           0.0|                        0.0|                        0.0|                        0.0|                          0.0|               0.0|               0.0|             0.0|                       0.0|                             0.0|                     0.0|                              0.0|               0.0|                                             0.0|                         0.0|                   0.0|                                     0.0|                          0.0|                             0.0|             0.0|                 0.0|                              0.0|             0.0|                                0.0|             0.0|           0.0|           0.0|                    0.0|       0.0|                               0.0|                                0.0|                               0.0|                      0.0|             0.0|                0.0|                                     0.0|                  0.0|                       0.0|                       0.0|               0.0|                           0.0|                  0.0|                               0.0|               0.0|                    1.0|   0.0|                       0.0|                      0.0|               0.0|    0.0|\n",
            "|                          0.0|                               0.0|                           0.0|                        0.0|                        0.0|                        0.0|                          0.0|               0.0|               0.0|             0.0|                       0.0|                             0.0|                     0.0|                              0.0|               0.0|                                             0.0|                         0.0|                   0.0|                                     0.0|                          0.0|                             0.0|             0.0|                 0.0|                              0.0|             0.0|                                0.0|             0.0|           0.0|           0.0|                    0.0|       0.0|                               0.0|                                0.0|                               0.0|                      0.0|             0.0|                0.0|                                     0.0|                  0.0|                       0.0|                       0.0|               0.0|                           0.0|                  0.0|                               0.0|               0.0|                    0.0|   0.0|                       0.0|                      0.0|               1.0|    0.0|\n",
            "|                          0.0|                               0.0|                           0.0|                        0.0|                        0.0|                        0.0|                          0.0|               0.0|               0.0|             0.0|                       0.0|                             0.0|                     0.0|                              0.0|               0.0|                                             0.0|                         0.0|                   0.0|                                     0.0|                          0.0|                             0.0|             0.0|                 0.0|                              0.0|             0.0|                                0.0|             0.0|           0.0|           0.0|                    0.0|       0.0|                               0.0|                                0.0|                               0.0|                      0.0|             0.0|                0.0|                                     0.0|                  0.0|                       0.0|                       0.0|               0.0|                           0.0|                  0.0|                               0.0|               0.0|                    0.0|   0.0|                       0.0|                      0.0|               1.0|    0.0|\n",
            "|                          0.0|                               0.0|                           0.0|                        0.0|                        0.0|                        0.0|                          0.0|               0.0|               0.0|             0.0|                       0.0|                             0.0|                     0.0|                              0.0|               0.0|                                             0.0|                         0.0|                   0.0|                                     0.0|                          0.0|                             0.0|             0.0|                 0.0|                              0.0|             0.0|                                0.0|             0.0|           0.0|           0.0|                    0.0|       0.0|                               0.0|                                0.0|                               0.0|                      0.0|             0.0|                0.0|                                     0.0|                  0.0|                       0.0|                       0.0|               0.0|                           0.0|                  0.0|                               0.0|               0.0|                    1.0|   0.0|                       0.0|                      0.0|               0.0|    0.0|\n",
            "+-----------------------------+----------------------------------+------------------------------+---------------------------+---------------------------+---------------------------+-----------------------------+------------------+------------------+----------------+--------------------------+--------------------------------+------------------------+---------------------------------+------------------+------------------------------------------------+----------------------------+----------------------+----------------------------------------+-----------------------------+--------------------------------+----------------+--------------------+---------------------------------+----------------+-----------------------------------+----------------+--------------+--------------+-----------------------+----------+----------------------------------+-----------------------------------+----------------------------------+-------------------------+----------------+-------------------+----------------------------------------+---------------------+--------------------------+--------------------------+------------------+------------------------------+---------------------+----------------------------------+------------------+-----------------------+------+--------------------------+-------------------------+------------------+-------+\n",
            "only showing top 10 rows\n",
            "\n"
          ]
        }
      ]
    },
    {
      "cell_type": "code",
      "source": [
        "df4.printSchema()\n"
      ],
      "metadata": {
        "colab": {
          "base_uri": "https://localhost:8080/"
        },
        "id": "9EMTCh7DeVMM",
        "outputId": "8781e4bb-f7e8-457e-f0ce-7e57a40f6d76"
      },
      "execution_count": 66,
      "outputs": [
        {
          "output_type": "stream",
          "name": "stdout",
          "text": [
            "root\n",
            " |-- patient_id: string (nullable = true)\n",
            " |-- age: double (nullable = true)\n",
            " |-- country: string (nullable = true)\n",
            " |-- province: string (nullable = true)\n",
            " |-- city: string (nullable = true)\n",
            " |-- infection_case: string (nullable = true)\n",
            " |-- no_days: double (nullable = true)\n",
            " |-- is_male: integer (nullable = false)\n",
            " |-- is_dead: integer (nullable = false)\n",
            "\n"
          ]
        }
      ]
    },
    {
      "cell_type": "code",
      "source": [
        "df4=df4.drop(\"infection_case\") "
      ],
      "metadata": {
        "id": "YrBS3PAPMjuO"
      },
      "execution_count": 67,
      "outputs": []
    },
    {
      "cell_type": "code",
      "source": [
        "from pyspark.sql.functions import lit"
      ],
      "metadata": {
        "id": "6CjRpttGvjsf"
      },
      "execution_count": 68,
      "outputs": []
    },
    {
      "cell_type": "code",
      "source": [
        "for column in [column for column in deptDF.columns\n",
        "               if column not in df4.columns]:\n",
        "    df4 = df4.withColumn(column, lit(None))"
      ],
      "metadata": {
        "id": "b9YNS10yvlPG"
      },
      "execution_count": 69,
      "outputs": []
    },
    {
      "cell_type": "code",
      "source": [
        "from pyspark.sql.functions import monotonically_increasing_id \n",
        "df4 = df4.select(\"*\").withColumn(\"id\", monotonically_increasing_id())"
      ],
      "metadata": {
        "id": "fmgYPlguv3XO"
      },
      "execution_count": 70,
      "outputs": []
    },
    {
      "cell_type": "code",
      "source": [
        "deptDF=deptDF.select(\"*\").withColumn(\"id\", monotonically_increasing_id())"
      ],
      "metadata": {
        "id": "azwjXNBVv7pZ"
      },
      "execution_count": 71,
      "outputs": []
    },
    {
      "cell_type": "code",
      "source": [
        "df4=df4.join(deptDF, df4.id ==deptDF.id).select(df4[\"*\"],deptDF[\"*\"])"
      ],
      "metadata": {
        "id": "VvpCtdUDwBTM"
      },
      "execution_count": 72,
      "outputs": []
    },
    {
      "cell_type": "code",
      "source": [
        "df4=df4.drop(\"id\")"
      ],
      "metadata": {
        "id": "sWokwqS3wFXt"
      },
      "execution_count": 73,
      "outputs": []
    },
    {
      "cell_type": "code",
      "source": [
        "df4.printSchema()"
      ],
      "metadata": {
        "colab": {
          "base_uri": "https://localhost:8080/"
        },
        "id": "wooFSCyYwHBk",
        "outputId": "952fd45f-4ede-4902-e77f-bdcc33d81c65"
      },
      "execution_count": 74,
      "outputs": [
        {
          "output_type": "stream",
          "name": "stdout",
          "text": [
            "root\n",
            " |-- patient_id: string (nullable = true)\n",
            " |-- age: double (nullable = true)\n",
            " |-- country: string (nullable = true)\n",
            " |-- province: string (nullable = true)\n",
            " |-- city: string (nullable = true)\n",
            " |-- no_days: double (nullable = true)\n",
            " |-- is_male: integer (nullable = false)\n",
            " |-- is_dead: integer (nullable = false)\n",
            " |-- x0_Anyang Gunpo Pastors Group: void (nullable = true)\n",
            " |-- x0_Biblical Language study meeting: void (nullable = true)\n",
            " |-- x0_Bonghwa Pureun Nursing Home: void (nullable = true)\n",
            " |-- x0_Changnyeong Coin Karaoke: void (nullable = true)\n",
            " |-- x0_Cheongdo Daenam Hospital: void (nullable = true)\n",
            " |-- x0_Coupang Logistics Center: void (nullable = true)\n",
            " |-- x0_Daejeon door-to-door sales: void (nullable = true)\n",
            " |-- x0_Daezayeon Korea: void (nullable = true)\n",
            " |-- x0_Day Care Center: void (nullable = true)\n",
            " |-- x0_Dongan Church: void (nullable = true)\n",
            " |-- x0_Dunsan Electronics Town: void (nullable = true)\n",
            " |-- x0_Eunpyeong St. Mary's Hospital: void (nullable = true)\n",
            " |-- x0_Gangnam Dongin Church: void (nullable = true)\n",
            " |-- x0_Gangnam Yeoksam-dong gathering: void (nullable = true)\n",
            " |-- x0_Geochang Church: void (nullable = true)\n",
            " |-- x0_Geumcheon-gu rice milling machine manufacture: void (nullable = true)\n",
            " |-- x0_Guri Collective Infection: void (nullable = true)\n",
            " |-- x0_Guro-gu Call Center: void (nullable = true)\n",
            " |-- x0_Gyeongsan Cham Joeun Community Center: void (nullable = true)\n",
            " |-- x0_Gyeongsan Jeil Silver Town: void (nullable = true)\n",
            " |-- x0_Gyeongsan Seorin Nursing Home: void (nullable = true)\n",
            " |-- x0_Itaewon Clubs: void (nullable = true)\n",
            " |-- x0_KB Life Insurance: void (nullable = true)\n",
            " |-- x0_Korea Campus Crusade of Christ: void (nullable = true)\n",
            " |-- x0_Milal Shelter: void (nullable = true)\n",
            " |-- x0_Ministry of Oceans and Fisheries: void (nullable = true)\n",
            " |-- x0_Onchun Church: void (nullable = true)\n",
            " |-- x0_Orange Life: void (nullable = true)\n",
            " |-- x0_Orange Town: void (nullable = true)\n",
            " |-- x0_Pilgrimage to Israel: void (nullable = true)\n",
            " |-- x0_Richway: void (nullable = true)\n",
            " |-- x0_River of Grace Community Church: void (nullable = true)\n",
            " |-- x0_SMR Newly Planted Churches Group: void (nullable = true)\n",
            " |-- x0_Samsung Fire & Marine Insurance: void (nullable = true)\n",
            " |-- x0_Samsung Medical Center: void (nullable = true)\n",
            " |-- x0_Seocho Family: void (nullable = true)\n",
            " |-- x0_Seongdong-gu APT: void (nullable = true)\n",
            " |-- x0_Seoul City Hall Station safety worker: void (nullable = true)\n",
            " |-- x0_Shincheonji Church: void (nullable = true)\n",
            " |-- x0_Suyeong-gu Kindergarten: void (nullable = true)\n",
            " |-- x0_Uiwang Logistics Center: void (nullable = true)\n",
            " |-- x0_Wangsung Church: void (nullable = true)\n",
            " |-- x0_Yangcheon Table Tennis Club: void (nullable = true)\n",
            " |-- x0_Yeonana News Class: void (nullable = true)\n",
            " |-- x0_Yeongdeungpo Learning Institute: void (nullable = true)\n",
            " |-- x0_Yongin Brothers: void (nullable = true)\n",
            " |-- x0_contact with patient: void (nullable = true)\n",
            " |-- x0_etc: void (nullable = true)\n",
            " |-- x0_gym facility in Cheonan: void (nullable = true)\n",
            " |-- x0_gym facility in Sejong: void (nullable = true)\n",
            " |-- x0_overseas inflow: void (nullable = true)\n",
            " |-- x0_None: void (nullable = true)\n",
            " |-- x0_Anyang Gunpo Pastors Group: double (nullable = true)\n",
            " |-- x0_Biblical Language study meeting: double (nullable = true)\n",
            " |-- x0_Bonghwa Pureun Nursing Home: double (nullable = true)\n",
            " |-- x0_Changnyeong Coin Karaoke: double (nullable = true)\n",
            " |-- x0_Cheongdo Daenam Hospital: double (nullable = true)\n",
            " |-- x0_Coupang Logistics Center: double (nullable = true)\n",
            " |-- x0_Daejeon door-to-door sales: double (nullable = true)\n",
            " |-- x0_Daezayeon Korea: double (nullable = true)\n",
            " |-- x0_Day Care Center: double (nullable = true)\n",
            " |-- x0_Dongan Church: double (nullable = true)\n",
            " |-- x0_Dunsan Electronics Town: double (nullable = true)\n",
            " |-- x0_Eunpyeong St. Mary's Hospital: double (nullable = true)\n",
            " |-- x0_Gangnam Dongin Church: double (nullable = true)\n",
            " |-- x0_Gangnam Yeoksam-dong gathering: double (nullable = true)\n",
            " |-- x0_Geochang Church: double (nullable = true)\n",
            " |-- x0_Geumcheon-gu rice milling machine manufacture: double (nullable = true)\n",
            " |-- x0_Guri Collective Infection: double (nullable = true)\n",
            " |-- x0_Guro-gu Call Center: double (nullable = true)\n",
            " |-- x0_Gyeongsan Cham Joeun Community Center: double (nullable = true)\n",
            " |-- x0_Gyeongsan Jeil Silver Town: double (nullable = true)\n",
            " |-- x0_Gyeongsan Seorin Nursing Home: double (nullable = true)\n",
            " |-- x0_Itaewon Clubs: double (nullable = true)\n",
            " |-- x0_KB Life Insurance: double (nullable = true)\n",
            " |-- x0_Korea Campus Crusade of Christ: double (nullable = true)\n",
            " |-- x0_Milal Shelter: double (nullable = true)\n",
            " |-- x0_Ministry of Oceans and Fisheries: double (nullable = true)\n",
            " |-- x0_Onchun Church: double (nullable = true)\n",
            " |-- x0_Orange Life: double (nullable = true)\n",
            " |-- x0_Orange Town: double (nullable = true)\n",
            " |-- x0_Pilgrimage to Israel: double (nullable = true)\n",
            " |-- x0_Richway: double (nullable = true)\n",
            " |-- x0_River of Grace Community Church: double (nullable = true)\n",
            " |-- x0_SMR Newly Planted Churches Group: double (nullable = true)\n",
            " |-- x0_Samsung Fire & Marine Insurance: double (nullable = true)\n",
            " |-- x0_Samsung Medical Center: double (nullable = true)\n",
            " |-- x0_Seocho Family: double (nullable = true)\n",
            " |-- x0_Seongdong-gu APT: double (nullable = true)\n",
            " |-- x0_Seoul City Hall Station safety worker: double (nullable = true)\n",
            " |-- x0_Shincheonji Church: double (nullable = true)\n",
            " |-- x0_Suyeong-gu Kindergarten: double (nullable = true)\n",
            " |-- x0_Uiwang Logistics Center: double (nullable = true)\n",
            " |-- x0_Wangsung Church: double (nullable = true)\n",
            " |-- x0_Yangcheon Table Tennis Club: double (nullable = true)\n",
            " |-- x0_Yeonana News Class: double (nullable = true)\n",
            " |-- x0_Yeongdeungpo Learning Institute: double (nullable = true)\n",
            " |-- x0_Yongin Brothers: double (nullable = true)\n",
            " |-- x0_contact with patient: double (nullable = true)\n",
            " |-- x0_etc: double (nullable = true)\n",
            " |-- x0_gym facility in Cheonan: double (nullable = true)\n",
            " |-- x0_gym facility in Sejong: double (nullable = true)\n",
            " |-- x0_overseas inflow: double (nullable = true)\n",
            " |-- x0_None: double (nullable = true)\n",
            "\n"
          ]
        }
      ]
    },
    {
      "cell_type": "code",
      "source": [
        "dd=df4.select(\"country\").rdd.map(lambda x : x[0]).collect()"
      ],
      "metadata": {
        "id": "k13aUyXvwWch"
      },
      "execution_count": 75,
      "outputs": []
    },
    {
      "cell_type": "code",
      "source": [
        "AA = np.array(list(dd)).reshape(-1,1)"
      ],
      "metadata": {
        "id": "nr5N_wAWwsgf"
      },
      "execution_count": 76,
      "outputs": []
    },
    {
      "cell_type": "code",
      "source": [
        "data_encoded2=enc.fit_transform( AA).toarray()"
      ],
      "metadata": {
        "id": "S6qRZPoowvmr"
      },
      "execution_count": 77,
      "outputs": []
    },
    {
      "cell_type": "code",
      "source": [
        "colss=enc.get_feature_names_out()\n",
        "colss=colss.tolist()"
      ],
      "metadata": {
        "id": "1ifYdOUTw9I0"
      },
      "execution_count": 78,
      "outputs": []
    },
    {
      "cell_type": "code",
      "source": [
        "import pandas as pd\n",
        "df2 = pd.DataFrame(data_encoded2,columns =colss)\n",
        "df2.head(2)"
      ],
      "metadata": {
        "colab": {
          "base_uri": "https://localhost:8080/",
          "height": 173
        },
        "id": "-_lUF2EpxEnn",
        "outputId": "86e4e41b-4f1b-4e91-9671-1c34419654ed"
      },
      "execution_count": 80,
      "outputs": [
        {
          "output_type": "execute_result",
          "data": {
            "text/plain": [
              "   x0_Canada  x0_China  x0_Foreign  x0_France  x0_Germany  x0_India  \\\n",
              "0        0.0       0.0         0.0        0.0         0.0       0.0   \n",
              "1        0.0       0.0         0.0        0.0         0.0       0.0   \n",
              "\n",
              "   x0_Indonesia  x0_Korea  x0_Mongolia  x0_Switzerland  x0_Thailand  \\\n",
              "0           0.0       1.0          0.0             0.0          0.0   \n",
              "1           0.0       1.0          0.0             0.0          0.0   \n",
              "\n",
              "   x0_United States  x0_Vietnam  \n",
              "0               0.0         0.0  \n",
              "1               0.0         0.0  "
            ],
            "text/html": [
              "\n",
              "  <div id=\"df-c529ae70-7b9e-4e3e-aa45-969ff0cc57ac\">\n",
              "    <div class=\"colab-df-container\">\n",
              "      <div>\n",
              "<style scoped>\n",
              "    .dataframe tbody tr th:only-of-type {\n",
              "        vertical-align: middle;\n",
              "    }\n",
              "\n",
              "    .dataframe tbody tr th {\n",
              "        vertical-align: top;\n",
              "    }\n",
              "\n",
              "    .dataframe thead th {\n",
              "        text-align: right;\n",
              "    }\n",
              "</style>\n",
              "<table border=\"1\" class=\"dataframe\">\n",
              "  <thead>\n",
              "    <tr style=\"text-align: right;\">\n",
              "      <th></th>\n",
              "      <th>x0_Canada</th>\n",
              "      <th>x0_China</th>\n",
              "      <th>x0_Foreign</th>\n",
              "      <th>x0_France</th>\n",
              "      <th>x0_Germany</th>\n",
              "      <th>x0_India</th>\n",
              "      <th>x0_Indonesia</th>\n",
              "      <th>x0_Korea</th>\n",
              "      <th>x0_Mongolia</th>\n",
              "      <th>x0_Switzerland</th>\n",
              "      <th>x0_Thailand</th>\n",
              "      <th>x0_United States</th>\n",
              "      <th>x0_Vietnam</th>\n",
              "    </tr>\n",
              "  </thead>\n",
              "  <tbody>\n",
              "    <tr>\n",
              "      <th>0</th>\n",
              "      <td>0.0</td>\n",
              "      <td>0.0</td>\n",
              "      <td>0.0</td>\n",
              "      <td>0.0</td>\n",
              "      <td>0.0</td>\n",
              "      <td>0.0</td>\n",
              "      <td>0.0</td>\n",
              "      <td>1.0</td>\n",
              "      <td>0.0</td>\n",
              "      <td>0.0</td>\n",
              "      <td>0.0</td>\n",
              "      <td>0.0</td>\n",
              "      <td>0.0</td>\n",
              "    </tr>\n",
              "    <tr>\n",
              "      <th>1</th>\n",
              "      <td>0.0</td>\n",
              "      <td>0.0</td>\n",
              "      <td>0.0</td>\n",
              "      <td>0.0</td>\n",
              "      <td>0.0</td>\n",
              "      <td>0.0</td>\n",
              "      <td>0.0</td>\n",
              "      <td>1.0</td>\n",
              "      <td>0.0</td>\n",
              "      <td>0.0</td>\n",
              "      <td>0.0</td>\n",
              "      <td>0.0</td>\n",
              "      <td>0.0</td>\n",
              "    </tr>\n",
              "  </tbody>\n",
              "</table>\n",
              "</div>\n",
              "      <button class=\"colab-df-convert\" onclick=\"convertToInteractive('df-c529ae70-7b9e-4e3e-aa45-969ff0cc57ac')\"\n",
              "              title=\"Convert this dataframe to an interactive table.\"\n",
              "              style=\"display:none;\">\n",
              "        \n",
              "  <svg xmlns=\"http://www.w3.org/2000/svg\" height=\"24px\"viewBox=\"0 0 24 24\"\n",
              "       width=\"24px\">\n",
              "    <path d=\"M0 0h24v24H0V0z\" fill=\"none\"/>\n",
              "    <path d=\"M18.56 5.44l.94 2.06.94-2.06 2.06-.94-2.06-.94-.94-2.06-.94 2.06-2.06.94zm-11 1L8.5 8.5l.94-2.06 2.06-.94-2.06-.94L8.5 2.5l-.94 2.06-2.06.94zm10 10l.94 2.06.94-2.06 2.06-.94-2.06-.94-.94-2.06-.94 2.06-2.06.94z\"/><path d=\"M17.41 7.96l-1.37-1.37c-.4-.4-.92-.59-1.43-.59-.52 0-1.04.2-1.43.59L10.3 9.45l-7.72 7.72c-.78.78-.78 2.05 0 2.83L4 21.41c.39.39.9.59 1.41.59.51 0 1.02-.2 1.41-.59l7.78-7.78 2.81-2.81c.8-.78.8-2.07 0-2.86zM5.41 20L4 18.59l7.72-7.72 1.47 1.35L5.41 20z\"/>\n",
              "  </svg>\n",
              "      </button>\n",
              "      \n",
              "  <style>\n",
              "    .colab-df-container {\n",
              "      display:flex;\n",
              "      flex-wrap:wrap;\n",
              "      gap: 12px;\n",
              "    }\n",
              "\n",
              "    .colab-df-convert {\n",
              "      background-color: #E8F0FE;\n",
              "      border: none;\n",
              "      border-radius: 50%;\n",
              "      cursor: pointer;\n",
              "      display: none;\n",
              "      fill: #1967D2;\n",
              "      height: 32px;\n",
              "      padding: 0 0 0 0;\n",
              "      width: 32px;\n",
              "    }\n",
              "\n",
              "    .colab-df-convert:hover {\n",
              "      background-color: #E2EBFA;\n",
              "      box-shadow: 0px 1px 2px rgba(60, 64, 67, 0.3), 0px 1px 3px 1px rgba(60, 64, 67, 0.15);\n",
              "      fill: #174EA6;\n",
              "    }\n",
              "\n",
              "    [theme=dark] .colab-df-convert {\n",
              "      background-color: #3B4455;\n",
              "      fill: #D2E3FC;\n",
              "    }\n",
              "\n",
              "    [theme=dark] .colab-df-convert:hover {\n",
              "      background-color: #434B5C;\n",
              "      box-shadow: 0px 1px 3px 1px rgba(0, 0, 0, 0.15);\n",
              "      filter: drop-shadow(0px 1px 2px rgba(0, 0, 0, 0.3));\n",
              "      fill: #FFFFFF;\n",
              "    }\n",
              "  </style>\n",
              "\n",
              "      <script>\n",
              "        const buttonEl =\n",
              "          document.querySelector('#df-c529ae70-7b9e-4e3e-aa45-969ff0cc57ac button.colab-df-convert');\n",
              "        buttonEl.style.display =\n",
              "          google.colab.kernel.accessAllowed ? 'block' : 'none';\n",
              "\n",
              "        async function convertToInteractive(key) {\n",
              "          const element = document.querySelector('#df-c529ae70-7b9e-4e3e-aa45-969ff0cc57ac');\n",
              "          const dataTable =\n",
              "            await google.colab.kernel.invokeFunction('convertToInteractive',\n",
              "                                                     [key], {});\n",
              "          if (!dataTable) return;\n",
              "\n",
              "          const docLinkHtml = 'Like what you see? Visit the ' +\n",
              "            '<a target=\"_blank\" href=https://colab.research.google.com/notebooks/data_table.ipynb>data table notebook</a>'\n",
              "            + ' to learn more about interactive tables.';\n",
              "          element.innerHTML = '';\n",
              "          dataTable['output_type'] = 'display_data';\n",
              "          await google.colab.output.renderOutput(dataTable, element);\n",
              "          const docLink = document.createElement('div');\n",
              "          docLink.innerHTML = docLinkHtml;\n",
              "          element.appendChild(docLink);\n",
              "        }\n",
              "      </script>\n",
              "    </div>\n",
              "  </div>\n",
              "  "
            ]
          },
          "metadata": {},
          "execution_count": 80
        }
      ]
    },
    {
      "cell_type": "code",
      "source": [
        "deptDF2 = spark.createDataFrame(df2)"
      ],
      "metadata": {
        "id": "p3BgQRCsxSar"
      },
      "execution_count": 81,
      "outputs": []
    },
    {
      "cell_type": "code",
      "source": [
        "df4=df4.drop(\"country\")"
      ],
      "metadata": {
        "id": "-7NsNLSHxabd"
      },
      "execution_count": 82,
      "outputs": []
    },
    {
      "cell_type": "code",
      "source": [
        "for column in [column for column in deptDF2.columns\n",
        "               if column not in df4.columns]:\n",
        "    df4 = df4.withColumn(column, lit(None))"
      ],
      "metadata": {
        "id": "QPW_jFTNxk-o"
      },
      "execution_count": 83,
      "outputs": []
    },
    {
      "cell_type": "code",
      "source": [
        "df4 = df4.select(\"*\").withColumn(\"id\", monotonically_increasing_id())"
      ],
      "metadata": {
        "id": "p4eDstvmx1-6"
      },
      "execution_count": 84,
      "outputs": []
    },
    {
      "cell_type": "code",
      "source": [
        "deptDF2=deptDF2.select(\"*\").withColumn(\"id\", monotonically_increasing_id())"
      ],
      "metadata": {
        "id": "p6KYtBVYx6Bt"
      },
      "execution_count": 85,
      "outputs": []
    },
    {
      "cell_type": "code",
      "source": [
        "df4=df4.join(deptDF2, df4.id ==deptDF2.id).select(df4[\"*\"],deptDF2[\"*\"])"
      ],
      "metadata": {
        "id": "0SNN0jHZx_bf"
      },
      "execution_count": 86,
      "outputs": []
    },
    {
      "cell_type": "code",
      "source": [
        "df4=df4.drop(\"id\")"
      ],
      "metadata": {
        "id": "G2HndZHEyE3s"
      },
      "execution_count": 87,
      "outputs": []
    },
    {
      "cell_type": "code",
      "source": [
        "df4=df4.drop(\"patient_id\",\"province\",\"city\")"
      ],
      "metadata": {
        "id": "_w4WH90iyli8"
      },
      "execution_count": 89,
      "outputs": []
    },
    {
      "cell_type": "code",
      "source": [
        "df4.printSchema()"
      ],
      "metadata": {
        "colab": {
          "base_uri": "https://localhost:8080/"
        },
        "id": "Bg6J3Q-XyNVS",
        "outputId": "06519839-c0c0-4b47-a1be-ed1a2d6e0fc3"
      },
      "execution_count": 90,
      "outputs": [
        {
          "output_type": "stream",
          "name": "stdout",
          "text": [
            "root\n",
            " |-- age: double (nullable = true)\n",
            " |-- no_days: double (nullable = true)\n",
            " |-- is_male: integer (nullable = false)\n",
            " |-- is_dead: integer (nullable = false)\n",
            " |-- x0_Anyang Gunpo Pastors Group: void (nullable = true)\n",
            " |-- x0_Biblical Language study meeting: void (nullable = true)\n",
            " |-- x0_Bonghwa Pureun Nursing Home: void (nullable = true)\n",
            " |-- x0_Changnyeong Coin Karaoke: void (nullable = true)\n",
            " |-- x0_Cheongdo Daenam Hospital: void (nullable = true)\n",
            " |-- x0_Coupang Logistics Center: void (nullable = true)\n",
            " |-- x0_Daejeon door-to-door sales: void (nullable = true)\n",
            " |-- x0_Daezayeon Korea: void (nullable = true)\n",
            " |-- x0_Day Care Center: void (nullable = true)\n",
            " |-- x0_Dongan Church: void (nullable = true)\n",
            " |-- x0_Dunsan Electronics Town: void (nullable = true)\n",
            " |-- x0_Eunpyeong St. Mary's Hospital: void (nullable = true)\n",
            " |-- x0_Gangnam Dongin Church: void (nullable = true)\n",
            " |-- x0_Gangnam Yeoksam-dong gathering: void (nullable = true)\n",
            " |-- x0_Geochang Church: void (nullable = true)\n",
            " |-- x0_Geumcheon-gu rice milling machine manufacture: void (nullable = true)\n",
            " |-- x0_Guri Collective Infection: void (nullable = true)\n",
            " |-- x0_Guro-gu Call Center: void (nullable = true)\n",
            " |-- x0_Gyeongsan Cham Joeun Community Center: void (nullable = true)\n",
            " |-- x0_Gyeongsan Jeil Silver Town: void (nullable = true)\n",
            " |-- x0_Gyeongsan Seorin Nursing Home: void (nullable = true)\n",
            " |-- x0_Itaewon Clubs: void (nullable = true)\n",
            " |-- x0_KB Life Insurance: void (nullable = true)\n",
            " |-- x0_Korea Campus Crusade of Christ: void (nullable = true)\n",
            " |-- x0_Milal Shelter: void (nullable = true)\n",
            " |-- x0_Ministry of Oceans and Fisheries: void (nullable = true)\n",
            " |-- x0_Onchun Church: void (nullable = true)\n",
            " |-- x0_Orange Life: void (nullable = true)\n",
            " |-- x0_Orange Town: void (nullable = true)\n",
            " |-- x0_Pilgrimage to Israel: void (nullable = true)\n",
            " |-- x0_Richway: void (nullable = true)\n",
            " |-- x0_River of Grace Community Church: void (nullable = true)\n",
            " |-- x0_SMR Newly Planted Churches Group: void (nullable = true)\n",
            " |-- x0_Samsung Fire & Marine Insurance: void (nullable = true)\n",
            " |-- x0_Samsung Medical Center: void (nullable = true)\n",
            " |-- x0_Seocho Family: void (nullable = true)\n",
            " |-- x0_Seongdong-gu APT: void (nullable = true)\n",
            " |-- x0_Seoul City Hall Station safety worker: void (nullable = true)\n",
            " |-- x0_Shincheonji Church: void (nullable = true)\n",
            " |-- x0_Suyeong-gu Kindergarten: void (nullable = true)\n",
            " |-- x0_Uiwang Logistics Center: void (nullable = true)\n",
            " |-- x0_Wangsung Church: void (nullable = true)\n",
            " |-- x0_Yangcheon Table Tennis Club: void (nullable = true)\n",
            " |-- x0_Yeonana News Class: void (nullable = true)\n",
            " |-- x0_Yeongdeungpo Learning Institute: void (nullable = true)\n",
            " |-- x0_Yongin Brothers: void (nullable = true)\n",
            " |-- x0_contact with patient: void (nullable = true)\n",
            " |-- x0_etc: void (nullable = true)\n",
            " |-- x0_gym facility in Cheonan: void (nullable = true)\n",
            " |-- x0_gym facility in Sejong: void (nullable = true)\n",
            " |-- x0_overseas inflow: void (nullable = true)\n",
            " |-- x0_None: void (nullable = true)\n",
            " |-- x0_Anyang Gunpo Pastors Group: double (nullable = true)\n",
            " |-- x0_Biblical Language study meeting: double (nullable = true)\n",
            " |-- x0_Bonghwa Pureun Nursing Home: double (nullable = true)\n",
            " |-- x0_Changnyeong Coin Karaoke: double (nullable = true)\n",
            " |-- x0_Cheongdo Daenam Hospital: double (nullable = true)\n",
            " |-- x0_Coupang Logistics Center: double (nullable = true)\n",
            " |-- x0_Daejeon door-to-door sales: double (nullable = true)\n",
            " |-- x0_Daezayeon Korea: double (nullable = true)\n",
            " |-- x0_Day Care Center: double (nullable = true)\n",
            " |-- x0_Dongan Church: double (nullable = true)\n",
            " |-- x0_Dunsan Electronics Town: double (nullable = true)\n",
            " |-- x0_Eunpyeong St. Mary's Hospital: double (nullable = true)\n",
            " |-- x0_Gangnam Dongin Church: double (nullable = true)\n",
            " |-- x0_Gangnam Yeoksam-dong gathering: double (nullable = true)\n",
            " |-- x0_Geochang Church: double (nullable = true)\n",
            " |-- x0_Geumcheon-gu rice milling machine manufacture: double (nullable = true)\n",
            " |-- x0_Guri Collective Infection: double (nullable = true)\n",
            " |-- x0_Guro-gu Call Center: double (nullable = true)\n",
            " |-- x0_Gyeongsan Cham Joeun Community Center: double (nullable = true)\n",
            " |-- x0_Gyeongsan Jeil Silver Town: double (nullable = true)\n",
            " |-- x0_Gyeongsan Seorin Nursing Home: double (nullable = true)\n",
            " |-- x0_Itaewon Clubs: double (nullable = true)\n",
            " |-- x0_KB Life Insurance: double (nullable = true)\n",
            " |-- x0_Korea Campus Crusade of Christ: double (nullable = true)\n",
            " |-- x0_Milal Shelter: double (nullable = true)\n",
            " |-- x0_Ministry of Oceans and Fisheries: double (nullable = true)\n",
            " |-- x0_Onchun Church: double (nullable = true)\n",
            " |-- x0_Orange Life: double (nullable = true)\n",
            " |-- x0_Orange Town: double (nullable = true)\n",
            " |-- x0_Pilgrimage to Israel: double (nullable = true)\n",
            " |-- x0_Richway: double (nullable = true)\n",
            " |-- x0_River of Grace Community Church: double (nullable = true)\n",
            " |-- x0_SMR Newly Planted Churches Group: double (nullable = true)\n",
            " |-- x0_Samsung Fire & Marine Insurance: double (nullable = true)\n",
            " |-- x0_Samsung Medical Center: double (nullable = true)\n",
            " |-- x0_Seocho Family: double (nullable = true)\n",
            " |-- x0_Seongdong-gu APT: double (nullable = true)\n",
            " |-- x0_Seoul City Hall Station safety worker: double (nullable = true)\n",
            " |-- x0_Shincheonji Church: double (nullable = true)\n",
            " |-- x0_Suyeong-gu Kindergarten: double (nullable = true)\n",
            " |-- x0_Uiwang Logistics Center: double (nullable = true)\n",
            " |-- x0_Wangsung Church: double (nullable = true)\n",
            " |-- x0_Yangcheon Table Tennis Club: double (nullable = true)\n",
            " |-- x0_Yeonana News Class: double (nullable = true)\n",
            " |-- x0_Yeongdeungpo Learning Institute: double (nullable = true)\n",
            " |-- x0_Yongin Brothers: double (nullable = true)\n",
            " |-- x0_contact with patient: double (nullable = true)\n",
            " |-- x0_etc: double (nullable = true)\n",
            " |-- x0_gym facility in Cheonan: double (nullable = true)\n",
            " |-- x0_gym facility in Sejong: double (nullable = true)\n",
            " |-- x0_overseas inflow: double (nullable = true)\n",
            " |-- x0_None: double (nullable = true)\n",
            " |-- x0_Canada: void (nullable = true)\n",
            " |-- x0_China: void (nullable = true)\n",
            " |-- x0_Foreign: void (nullable = true)\n",
            " |-- x0_France: void (nullable = true)\n",
            " |-- x0_Germany: void (nullable = true)\n",
            " |-- x0_India: void (nullable = true)\n",
            " |-- x0_Indonesia: void (nullable = true)\n",
            " |-- x0_Korea: void (nullable = true)\n",
            " |-- x0_Mongolia: void (nullable = true)\n",
            " |-- x0_Switzerland: void (nullable = true)\n",
            " |-- x0_Thailand: void (nullable = true)\n",
            " |-- x0_United States: void (nullable = true)\n",
            " |-- x0_Vietnam: void (nullable = true)\n",
            " |-- x0_Canada: double (nullable = true)\n",
            " |-- x0_China: double (nullable = true)\n",
            " |-- x0_Foreign: double (nullable = true)\n",
            " |-- x0_France: double (nullable = true)\n",
            " |-- x0_Germany: double (nullable = true)\n",
            " |-- x0_India: double (nullable = true)\n",
            " |-- x0_Indonesia: double (nullable = true)\n",
            " |-- x0_Korea: double (nullable = true)\n",
            " |-- x0_Mongolia: double (nullable = true)\n",
            " |-- x0_Switzerland: double (nullable = true)\n",
            " |-- x0_Thailand: double (nullable = true)\n",
            " |-- x0_United States: double (nullable = true)\n",
            " |-- x0_Vietnam: double (nullable = true)\n",
            "\n"
          ]
        }
      ]
    },
    {
      "cell_type": "code",
      "source": [
        "age: double (nullable = true)\n",
        " |-- no_days: double (nullable = true)\n",
        " |-- is_male: integer (nullable = false)\n",
        " |-- is_dead: in"
      ],
      "metadata": {
        "id": "p2bg5ak1zu0p"
      },
      "execution_count": null,
      "outputs": []
    },
    {
      "cell_type": "markdown",
      "source": [
        "#Imputer"
      ],
      "metadata": {
        "id": "pJW9QxVf0CEO"
      }
    },
    {
      "cell_type": "markdown",
      "source": [
        "#Use Imputer to fill missing data with mean."
      ],
      "metadata": {
        "id": "OnQY876d0RwL"
      }
    },
    {
      "cell_type": "code",
      "source": [
        " from pyspark.ml.feature import Imputer"
      ],
      "metadata": {
        "id": "0vq_z-GPz4TM"
      },
      "execution_count": 92,
      "outputs": []
    },
    {
      "cell_type": "code",
      "source": [
        "imputer = Imputer()"
      ],
      "metadata": {
        "id": "d-Pdz-t40pP-"
      },
      "execution_count": 93,
      "outputs": []
    },
    {
      "cell_type": "code",
      "source": [
        "imputer.setInputCols([\"age\", \"no_days\",\"is_male\",\"is_dead\"])"
      ],
      "metadata": {
        "colab": {
          "base_uri": "https://localhost:8080/"
        },
        "id": "MZIJh0Tm0q7z",
        "outputId": "b7fc5cfe-10fa-4e3a-d0fb-774e99de56ff"
      },
      "execution_count": 94,
      "outputs": [
        {
          "output_type": "execute_result",
          "data": {
            "text/plain": [
              "Imputer_d396e58c6d3c"
            ]
          },
          "metadata": {},
          "execution_count": 94
        }
      ]
    },
    {
      "cell_type": "code",
      "source": [
        "imputer.setOutputCols([\"age_\", \"no_days_\",\"is_male_\",\"is_dead_\"])"
      ],
      "metadata": {
        "colab": {
          "base_uri": "https://localhost:8080/"
        },
        "id": "lqmLQWs51BKa",
        "outputId": "1dad3384-c628-48a6-df24-2f4d2a702e2c"
      },
      "execution_count": 95,
      "outputs": [
        {
          "output_type": "execute_result",
          "data": {
            "text/plain": [
              "Imputer_d396e58c6d3c"
            ]
          },
          "metadata": {},
          "execution_count": 95
        }
      ]
    },
    {
      "cell_type": "code",
      "source": [
        "df=imputer.setStrategy(\"median\").setMissingValue(1.0).fit(df4).transform(df4)"
      ],
      "metadata": {
        "id": "dC5KnXnP1RxU"
      },
      "execution_count": 99,
      "outputs": []
    },
    {
      "cell_type": "code",
      "source": [
        "df=df.drop(\"age\", \"no_days\",\"is_male\",\"is_dead\")"
      ],
      "metadata": {
        "id": "pATfi-Yp1-5B"
      },
      "execution_count": 102,
      "outputs": []
    },
    {
      "cell_type": "code",
      "source": [
        "df.printSchema()"
      ],
      "metadata": {
        "colab": {
          "base_uri": "https://localhost:8080/"
        },
        "id": "e3OCIpDk2V1I",
        "outputId": "34e90d9e-8394-4f62-fc6f-b9cccb0ca528"
      },
      "execution_count": 103,
      "outputs": [
        {
          "output_type": "stream",
          "name": "stdout",
          "text": [
            "root\n",
            " |-- x0_Anyang Gunpo Pastors Group: void (nullable = true)\n",
            " |-- x0_Biblical Language study meeting: void (nullable = true)\n",
            " |-- x0_Bonghwa Pureun Nursing Home: void (nullable = true)\n",
            " |-- x0_Changnyeong Coin Karaoke: void (nullable = true)\n",
            " |-- x0_Cheongdo Daenam Hospital: void (nullable = true)\n",
            " |-- x0_Coupang Logistics Center: void (nullable = true)\n",
            " |-- x0_Daejeon door-to-door sales: void (nullable = true)\n",
            " |-- x0_Daezayeon Korea: void (nullable = true)\n",
            " |-- x0_Day Care Center: void (nullable = true)\n",
            " |-- x0_Dongan Church: void (nullable = true)\n",
            " |-- x0_Dunsan Electronics Town: void (nullable = true)\n",
            " |-- x0_Eunpyeong St. Mary's Hospital: void (nullable = true)\n",
            " |-- x0_Gangnam Dongin Church: void (nullable = true)\n",
            " |-- x0_Gangnam Yeoksam-dong gathering: void (nullable = true)\n",
            " |-- x0_Geochang Church: void (nullable = true)\n",
            " |-- x0_Geumcheon-gu rice milling machine manufacture: void (nullable = true)\n",
            " |-- x0_Guri Collective Infection: void (nullable = true)\n",
            " |-- x0_Guro-gu Call Center: void (nullable = true)\n",
            " |-- x0_Gyeongsan Cham Joeun Community Center: void (nullable = true)\n",
            " |-- x0_Gyeongsan Jeil Silver Town: void (nullable = true)\n",
            " |-- x0_Gyeongsan Seorin Nursing Home: void (nullable = true)\n",
            " |-- x0_Itaewon Clubs: void (nullable = true)\n",
            " |-- x0_KB Life Insurance: void (nullable = true)\n",
            " |-- x0_Korea Campus Crusade of Christ: void (nullable = true)\n",
            " |-- x0_Milal Shelter: void (nullable = true)\n",
            " |-- x0_Ministry of Oceans and Fisheries: void (nullable = true)\n",
            " |-- x0_Onchun Church: void (nullable = true)\n",
            " |-- x0_Orange Life: void (nullable = true)\n",
            " |-- x0_Orange Town: void (nullable = true)\n",
            " |-- x0_Pilgrimage to Israel: void (nullable = true)\n",
            " |-- x0_Richway: void (nullable = true)\n",
            " |-- x0_River of Grace Community Church: void (nullable = true)\n",
            " |-- x0_SMR Newly Planted Churches Group: void (nullable = true)\n",
            " |-- x0_Samsung Fire & Marine Insurance: void (nullable = true)\n",
            " |-- x0_Samsung Medical Center: void (nullable = true)\n",
            " |-- x0_Seocho Family: void (nullable = true)\n",
            " |-- x0_Seongdong-gu APT: void (nullable = true)\n",
            " |-- x0_Seoul City Hall Station safety worker: void (nullable = true)\n",
            " |-- x0_Shincheonji Church: void (nullable = true)\n",
            " |-- x0_Suyeong-gu Kindergarten: void (nullable = true)\n",
            " |-- x0_Uiwang Logistics Center: void (nullable = true)\n",
            " |-- x0_Wangsung Church: void (nullable = true)\n",
            " |-- x0_Yangcheon Table Tennis Club: void (nullable = true)\n",
            " |-- x0_Yeonana News Class: void (nullable = true)\n",
            " |-- x0_Yeongdeungpo Learning Institute: void (nullable = true)\n",
            " |-- x0_Yongin Brothers: void (nullable = true)\n",
            " |-- x0_contact with patient: void (nullable = true)\n",
            " |-- x0_etc: void (nullable = true)\n",
            " |-- x0_gym facility in Cheonan: void (nullable = true)\n",
            " |-- x0_gym facility in Sejong: void (nullable = true)\n",
            " |-- x0_overseas inflow: void (nullable = true)\n",
            " |-- x0_None: void (nullable = true)\n",
            " |-- x0_Anyang Gunpo Pastors Group: double (nullable = true)\n",
            " |-- x0_Biblical Language study meeting: double (nullable = true)\n",
            " |-- x0_Bonghwa Pureun Nursing Home: double (nullable = true)\n",
            " |-- x0_Changnyeong Coin Karaoke: double (nullable = true)\n",
            " |-- x0_Cheongdo Daenam Hospital: double (nullable = true)\n",
            " |-- x0_Coupang Logistics Center: double (nullable = true)\n",
            " |-- x0_Daejeon door-to-door sales: double (nullable = true)\n",
            " |-- x0_Daezayeon Korea: double (nullable = true)\n",
            " |-- x0_Day Care Center: double (nullable = true)\n",
            " |-- x0_Dongan Church: double (nullable = true)\n",
            " |-- x0_Dunsan Electronics Town: double (nullable = true)\n",
            " |-- x0_Eunpyeong St. Mary's Hospital: double (nullable = true)\n",
            " |-- x0_Gangnam Dongin Church: double (nullable = true)\n",
            " |-- x0_Gangnam Yeoksam-dong gathering: double (nullable = true)\n",
            " |-- x0_Geochang Church: double (nullable = true)\n",
            " |-- x0_Geumcheon-gu rice milling machine manufacture: double (nullable = true)\n",
            " |-- x0_Guri Collective Infection: double (nullable = true)\n",
            " |-- x0_Guro-gu Call Center: double (nullable = true)\n",
            " |-- x0_Gyeongsan Cham Joeun Community Center: double (nullable = true)\n",
            " |-- x0_Gyeongsan Jeil Silver Town: double (nullable = true)\n",
            " |-- x0_Gyeongsan Seorin Nursing Home: double (nullable = true)\n",
            " |-- x0_Itaewon Clubs: double (nullable = true)\n",
            " |-- x0_KB Life Insurance: double (nullable = true)\n",
            " |-- x0_Korea Campus Crusade of Christ: double (nullable = true)\n",
            " |-- x0_Milal Shelter: double (nullable = true)\n",
            " |-- x0_Ministry of Oceans and Fisheries: double (nullable = true)\n",
            " |-- x0_Onchun Church: double (nullable = true)\n",
            " |-- x0_Orange Life: double (nullable = true)\n",
            " |-- x0_Orange Town: double (nullable = true)\n",
            " |-- x0_Pilgrimage to Israel: double (nullable = true)\n",
            " |-- x0_Richway: double (nullable = true)\n",
            " |-- x0_River of Grace Community Church: double (nullable = true)\n",
            " |-- x0_SMR Newly Planted Churches Group: double (nullable = true)\n",
            " |-- x0_Samsung Fire & Marine Insurance: double (nullable = true)\n",
            " |-- x0_Samsung Medical Center: double (nullable = true)\n",
            " |-- x0_Seocho Family: double (nullable = true)\n",
            " |-- x0_Seongdong-gu APT: double (nullable = true)\n",
            " |-- x0_Seoul City Hall Station safety worker: double (nullable = true)\n",
            " |-- x0_Shincheonji Church: double (nullable = true)\n",
            " |-- x0_Suyeong-gu Kindergarten: double (nullable = true)\n",
            " |-- x0_Uiwang Logistics Center: double (nullable = true)\n",
            " |-- x0_Wangsung Church: double (nullable = true)\n",
            " |-- x0_Yangcheon Table Tennis Club: double (nullable = true)\n",
            " |-- x0_Yeonana News Class: double (nullable = true)\n",
            " |-- x0_Yeongdeungpo Learning Institute: double (nullable = true)\n",
            " |-- x0_Yongin Brothers: double (nullable = true)\n",
            " |-- x0_contact with patient: double (nullable = true)\n",
            " |-- x0_etc: double (nullable = true)\n",
            " |-- x0_gym facility in Cheonan: double (nullable = true)\n",
            " |-- x0_gym facility in Sejong: double (nullable = true)\n",
            " |-- x0_overseas inflow: double (nullable = true)\n",
            " |-- x0_None: double (nullable = true)\n",
            " |-- x0_Canada: void (nullable = true)\n",
            " |-- x0_China: void (nullable = true)\n",
            " |-- x0_Foreign: void (nullable = true)\n",
            " |-- x0_France: void (nullable = true)\n",
            " |-- x0_Germany: void (nullable = true)\n",
            " |-- x0_India: void (nullable = true)\n",
            " |-- x0_Indonesia: void (nullable = true)\n",
            " |-- x0_Korea: void (nullable = true)\n",
            " |-- x0_Mongolia: void (nullable = true)\n",
            " |-- x0_Switzerland: void (nullable = true)\n",
            " |-- x0_Thailand: void (nullable = true)\n",
            " |-- x0_United States: void (nullable = true)\n",
            " |-- x0_Vietnam: void (nullable = true)\n",
            " |-- x0_Canada: double (nullable = true)\n",
            " |-- x0_China: double (nullable = true)\n",
            " |-- x0_Foreign: double (nullable = true)\n",
            " |-- x0_France: double (nullable = true)\n",
            " |-- x0_Germany: double (nullable = true)\n",
            " |-- x0_India: double (nullable = true)\n",
            " |-- x0_Indonesia: double (nullable = true)\n",
            " |-- x0_Korea: double (nullable = true)\n",
            " |-- x0_Mongolia: double (nullable = true)\n",
            " |-- x0_Switzerland: double (nullable = true)\n",
            " |-- x0_Thailand: double (nullable = true)\n",
            " |-- x0_United States: double (nullable = true)\n",
            " |-- x0_Vietnam: double (nullable = true)\n",
            " |-- age_: double (nullable = true)\n",
            " |-- no_days_: double (nullable = true)\n",
            " |-- is_male_: integer (nullable = true)\n",
            " |-- is_dead_: integer (nullable = true)\n",
            "\n"
          ]
        }
      ]
    },
    {
      "cell_type": "code",
      "source": [
        "from pyspark.ml.feature import VectorAssembler"
      ],
      "metadata": {
        "id": "7tHWTckTh2J8"
      },
      "execution_count": 104,
      "outputs": []
    },
    {
      "cell_type": "code",
      "source": [
        "df.select(colss).show(2)"
      ],
      "metadata": {
        "colab": {
          "base_uri": "https://localhost:8080/",
          "height": 312
        },
        "id": "utjhyv7t2u7i",
        "outputId": "976445a7-5461-49c2-e14c-24ff6d4e9fdc"
      },
      "execution_count": 107,
      "outputs": [
        {
          "output_type": "error",
          "ename": "AnalysisException",
          "evalue": "ignored",
          "traceback": [
            "\u001b[0;31m---------------------------------------------------------------------------\u001b[0m",
            "\u001b[0;31mAnalysisException\u001b[0m                         Traceback (most recent call last)",
            "\u001b[0;32m<ipython-input-107-711470d195a5>\u001b[0m in \u001b[0;36m<module>\u001b[0;34m()\u001b[0m\n\u001b[0;32m----> 1\u001b[0;31m \u001b[0mdf\u001b[0m\u001b[0;34m.\u001b[0m\u001b[0mselect\u001b[0m\u001b[0;34m(\u001b[0m\u001b[0mcolss\u001b[0m\u001b[0;34m)\u001b[0m\u001b[0;34m.\u001b[0m\u001b[0mshow\u001b[0m\u001b[0;34m(\u001b[0m\u001b[0;36m2\u001b[0m\u001b[0;34m)\u001b[0m\u001b[0;34m\u001b[0m\u001b[0;34m\u001b[0m\u001b[0m\n\u001b[0m",
            "\u001b[0;32m/usr/local/lib/python3.7/dist-packages/pyspark/sql/dataframe.py\u001b[0m in \u001b[0;36mselect\u001b[0;34m(self, *cols)\u001b[0m\n\u001b[1;32m   2021\u001b[0m         \u001b[0;34m[\u001b[0m\u001b[0mRow\u001b[0m\u001b[0;34m(\u001b[0m\u001b[0mname\u001b[0m\u001b[0;34m=\u001b[0m\u001b[0;34m'Alice'\u001b[0m\u001b[0;34m,\u001b[0m \u001b[0mage\u001b[0m\u001b[0;34m=\u001b[0m\u001b[0;36m12\u001b[0m\u001b[0;34m)\u001b[0m\u001b[0;34m,\u001b[0m \u001b[0mRow\u001b[0m\u001b[0;34m(\u001b[0m\u001b[0mname\u001b[0m\u001b[0;34m=\u001b[0m\u001b[0;34m'Bob'\u001b[0m\u001b[0;34m,\u001b[0m \u001b[0mage\u001b[0m\u001b[0;34m=\u001b[0m\u001b[0;36m15\u001b[0m\u001b[0;34m)\u001b[0m\u001b[0;34m]\u001b[0m\u001b[0;34m\u001b[0m\u001b[0;34m\u001b[0m\u001b[0m\n\u001b[1;32m   2022\u001b[0m         \"\"\"\n\u001b[0;32m-> 2023\u001b[0;31m         \u001b[0mjdf\u001b[0m \u001b[0;34m=\u001b[0m \u001b[0mself\u001b[0m\u001b[0;34m.\u001b[0m\u001b[0m_jdf\u001b[0m\u001b[0;34m.\u001b[0m\u001b[0mselect\u001b[0m\u001b[0;34m(\u001b[0m\u001b[0mself\u001b[0m\u001b[0;34m.\u001b[0m\u001b[0m_jcols\u001b[0m\u001b[0;34m(\u001b[0m\u001b[0;34m*\u001b[0m\u001b[0mcols\u001b[0m\u001b[0;34m)\u001b[0m\u001b[0;34m)\u001b[0m\u001b[0;34m\u001b[0m\u001b[0;34m\u001b[0m\u001b[0m\n\u001b[0m\u001b[1;32m   2024\u001b[0m         \u001b[0;32mreturn\u001b[0m \u001b[0mDataFrame\u001b[0m\u001b[0;34m(\u001b[0m\u001b[0mjdf\u001b[0m\u001b[0;34m,\u001b[0m \u001b[0mself\u001b[0m\u001b[0;34m.\u001b[0m\u001b[0msparkSession\u001b[0m\u001b[0;34m)\u001b[0m\u001b[0;34m\u001b[0m\u001b[0;34m\u001b[0m\u001b[0m\n\u001b[1;32m   2025\u001b[0m \u001b[0;34m\u001b[0m\u001b[0m\n",
            "\u001b[0;32m/usr/local/lib/python3.7/dist-packages/py4j/java_gateway.py\u001b[0m in \u001b[0;36m__call__\u001b[0;34m(self, *args)\u001b[0m\n\u001b[1;32m   1320\u001b[0m         \u001b[0manswer\u001b[0m \u001b[0;34m=\u001b[0m \u001b[0mself\u001b[0m\u001b[0;34m.\u001b[0m\u001b[0mgateway_client\u001b[0m\u001b[0;34m.\u001b[0m\u001b[0msend_command\u001b[0m\u001b[0;34m(\u001b[0m\u001b[0mcommand\u001b[0m\u001b[0;34m)\u001b[0m\u001b[0;34m\u001b[0m\u001b[0;34m\u001b[0m\u001b[0m\n\u001b[1;32m   1321\u001b[0m         return_value = get_return_value(\n\u001b[0;32m-> 1322\u001b[0;31m             answer, self.gateway_client, self.target_id, self.name)\n\u001b[0m\u001b[1;32m   1323\u001b[0m \u001b[0;34m\u001b[0m\u001b[0m\n\u001b[1;32m   1324\u001b[0m         \u001b[0;32mfor\u001b[0m \u001b[0mtemp_arg\u001b[0m \u001b[0;32min\u001b[0m \u001b[0mtemp_args\u001b[0m\u001b[0;34m:\u001b[0m\u001b[0;34m\u001b[0m\u001b[0;34m\u001b[0m\u001b[0m\n",
            "\u001b[0;32m/usr/local/lib/python3.7/dist-packages/pyspark/sql/utils.py\u001b[0m in \u001b[0;36mdeco\u001b[0;34m(*a, **kw)\u001b[0m\n\u001b[1;32m    194\u001b[0m                 \u001b[0;31m# Hide where the exception came from that shows a non-Pythonic\u001b[0m\u001b[0;34m\u001b[0m\u001b[0;34m\u001b[0m\u001b[0;34m\u001b[0m\u001b[0m\n\u001b[1;32m    195\u001b[0m                 \u001b[0;31m# JVM exception message.\u001b[0m\u001b[0;34m\u001b[0m\u001b[0;34m\u001b[0m\u001b[0;34m\u001b[0m\u001b[0m\n\u001b[0;32m--> 196\u001b[0;31m                 \u001b[0;32mraise\u001b[0m \u001b[0mconverted\u001b[0m \u001b[0;32mfrom\u001b[0m \u001b[0;32mNone\u001b[0m\u001b[0;34m\u001b[0m\u001b[0;34m\u001b[0m\u001b[0m\n\u001b[0m\u001b[1;32m    197\u001b[0m             \u001b[0;32melse\u001b[0m\u001b[0;34m:\u001b[0m\u001b[0;34m\u001b[0m\u001b[0;34m\u001b[0m\u001b[0m\n\u001b[1;32m    198\u001b[0m                 \u001b[0;32mraise\u001b[0m\u001b[0;34m\u001b[0m\u001b[0;34m\u001b[0m\u001b[0m\n",
            "\u001b[0;31mAnalysisException\u001b[0m: Reference 'x0_Canada' is ambiguous, could be: x0_Canada, x0_Canada."
          ]
        }
      ]
    },
    {
      "cell_type": "code",
      "source": [
        "s=df.schema"
      ],
      "metadata": {
        "id": "qJmix_4QDQKe"
      },
      "execution_count": 105,
      "outputs": []
    },
    {
      "cell_type": "code",
      "source": [
        "input_f=[\"age_\", \"no_days_\",\"is_male_\",\"is_dead_\"]+colss"
      ],
      "metadata": {
        "id": "KXLPTgJnkNzg"
      },
      "execution_count": 111,
      "outputs": []
    },
    {
      "cell_type": "code",
      "source": [
        "input_f=[\"age_\", \"no_days_\",\"is_male_\",\"is_dead_\"]"
      ],
      "metadata": {
        "id": "laeGMhX--pIQ"
      },
      "execution_count": 160,
      "outputs": []
    },
    {
      "cell_type": "code",
      "source": [
        "vecAssembler = VectorAssembler(inputCols=input_f,outputCol='features')"
      ],
      "metadata": {
        "id": "ROk3nvksj1rt"
      },
      "execution_count": 161,
      "outputs": []
    },
    {
      "cell_type": "code",
      "source": [
        "from sklearn.model_selection import train_test_split\n"
      ],
      "metadata": {
        "id": "dwtN8xt1853K"
      },
      "execution_count": 113,
      "outputs": []
    },
    {
      "cell_type": "code",
      "source": [
        "#x=df4.select(input_f)"
      ],
      "metadata": {
        "id": "Z7Babbx1-8mE"
      },
      "execution_count": null,
      "outputs": []
    },
    {
      "cell_type": "code",
      "source": [
        "#x.show(20)"
      ],
      "metadata": {
        "id": "1vUIsaqbHZc8"
      },
      "execution_count": null,
      "outputs": []
    },
    {
      "cell_type": "code",
      "source": [
        "y=df.select(\"is_dead_\")"
      ],
      "metadata": {
        "id": "RZ96BwDW_gS9"
      },
      "execution_count": 114,
      "outputs": []
    },
    {
      "cell_type": "code",
      "source": [
        "train_df,test_df=train_test_split(df.toPandas(), test_size=0.10, random_state=42)"
      ],
      "metadata": {
        "id": "jyDzghmK-Jtg"
      },
      "execution_count": 166,
      "outputs": []
    },
    {
      "cell_type": "code",
      "source": [
        "from pyspark.sql.types import StructType, StructField, StringType,IntegerType,FloatType"
      ],
      "metadata": {
        "id": "8CbDbkTMEe2t"
      },
      "execution_count": 116,
      "outputs": []
    },
    {
      "cell_type": "code",
      "source": [
        "from pyspark.sql.types import *"
      ],
      "metadata": {
        "id": "zozonsTmExzQ"
      },
      "execution_count": 117,
      "outputs": []
    },
    {
      "cell_type": "code",
      "source": [
        "s_y=StructType([StructField('is_dead_', IntegerType(), True)])"
      ],
      "metadata": {
        "id": "7_jBcnZ7EWaE"
      },
      "execution_count": 119,
      "outputs": []
    },
    {
      "cell_type": "code",
      "source": [
        "train_xx=spark.createDataFrame(train_df[input_f])#schema=s_x\n",
        "\n",
        "'''\n",
        "train_y=spark.createDataFrame(train_target)\n",
        "test_y=spark.createDataFrame(test_target)\n",
        "'''"
      ],
      "metadata": {
        "colab": {
          "base_uri": "https://localhost:8080/",
          "height": 35
        },
        "id": "zWfRWMi1A7Db",
        "outputId": "d53b7226-42f7-4a41-a858-092ceefd4745"
      },
      "execution_count": 167,
      "outputs": [
        {
          "output_type": "execute_result",
          "data": {
            "text/plain": [
              "'\\ntrain_y=spark.createDataFrame(train_target)\\ntest_y=spark.createDataFrame(test_target)\\n'"
            ],
            "application/vnd.google.colaboratory.intrinsic+json": {
              "type": "string"
            }
          },
          "metadata": {},
          "execution_count": 167
        }
      ]
    },
    {
      "cell_type": "code",
      "source": [
        "input_f"
      ],
      "metadata": {
        "colab": {
          "base_uri": "https://localhost:8080/"
        },
        "id": "CIXe0oA1_AVH",
        "outputId": "8b7c655c-51f7-41ba-d5e8-4599e6a37228"
      },
      "execution_count": 165,
      "outputs": [
        {
          "output_type": "execute_result",
          "data": {
            "text/plain": [
              "['age_', 'no_days_', 'is_male_', 'is_dead_']"
            ]
          },
          "metadata": {},
          "execution_count": 165
        }
      ]
    },
    {
      "cell_type": "code",
      "source": [
        "test_xx=spark.createDataFrame(test_df[input_f])"
      ],
      "metadata": {
        "id": "EBUWfeo76xS7"
      },
      "execution_count": 168,
      "outputs": []
    },
    {
      "cell_type": "code",
      "source": [
        "train_x"
      ],
      "metadata": {
        "colab": {
          "base_uri": "https://localhost:8080/"
        },
        "id": "XhnsvQNF-KAd",
        "outputId": "cf5b9576-2b0b-49fa-fb59-7341e9d26e2d"
      },
      "execution_count": 169,
      "outputs": [
        {
          "output_type": "execute_result",
          "data": {
            "text/plain": [
              "DataFrame[age_: double, no_days_: double, is_male_: bigint, features: vector]"
            ]
          },
          "metadata": {},
          "execution_count": 169
        }
      ]
    },
    {
      "cell_type": "code",
      "source": [
        "train_x = vecAssembler.transform(train_xx)"
      ],
      "metadata": {
        "id": "P0jpcmxb74H9"
      },
      "execution_count": 170,
      "outputs": []
    },
    {
      "cell_type": "code",
      "source": [
        "test_x = vecAssembler.transform(test_xx)"
      ],
      "metadata": {
        "id": "W5RqeXerOWsN"
      },
      "execution_count": 171,
      "outputs": []
    },
    {
      "cell_type": "code",
      "source": [
        "test_x"
      ],
      "metadata": {
        "colab": {
          "base_uri": "https://localhost:8080/"
        },
        "id": "8yXAuADI-YJa",
        "outputId": "295b8d5a-60cb-45a3-b9f4-840e5c1f23e1"
      },
      "execution_count": 172,
      "outputs": [
        {
          "output_type": "execute_result",
          "data": {
            "text/plain": [
              "DataFrame[age_: double, no_days_: double, is_male_: bigint, is_dead_: bigint, features: vector]"
            ]
          },
          "metadata": {},
          "execution_count": 172
        }
      ]
    },
    {
      "cell_type": "code",
      "source": [
        "#Create a DecisionTreeClassifier Model"
      ],
      "metadata": {
        "id": "EgJlZpbmO-_z"
      },
      "execution_count": 186,
      "outputs": []
    },
    {
      "cell_type": "code",
      "source": [
        "from pyspark.ml.classification import DecisionTreeClassifier\n",
        "from pyspark.ml.evaluation import MulticlassClassificationEvaluator"
      ],
      "metadata": {
        "id": "PTyw6nyDAUrh"
      },
      "execution_count": 185,
      "outputs": []
    },
    {
      "cell_type": "code",
      "source": [
        "dtc = DecisionTreeClassifier(featuresCol=\"features\", labelCol=\"is_dead_\")\n",
        "dtc = dtc.fit(train_x)\n",
        "\n",
        "pred = dtc.transform(test_x)\n",
        "pred.show(3)\n",
        " "
      ],
      "metadata": {
        "colab": {
          "base_uri": "https://localhost:8080/"
        },
        "id": "hERq_IzdApuG",
        "outputId": "49af25d4-fb8c-471c-da39-618004124933"
      },
      "execution_count": 188,
      "outputs": [
        {
          "output_type": "stream",
          "name": "stdout",
          "text": [
            "+----+--------+--------+--------+-------------------+-------------+-----------+----------+\n",
            "|age_|no_days_|is_male_|is_dead_|           features|rawPrediction|probability|prediction|\n",
            "+----+--------+--------+--------+-------------------+-------------+-----------+----------+\n",
            "|20.0|    16.0|       0|       0|[20.0,16.0,0.0,0.0]|      [921.0]|      [1.0]|       0.0|\n",
            "|20.0|    16.0|       0|       0|[20.0,16.0,0.0,0.0]|      [921.0]|      [1.0]|       0.0|\n",
            "|20.0|    16.0|       0|       0|[20.0,16.0,0.0,0.0]|      [921.0]|      [1.0]|       0.0|\n",
            "+----+--------+--------+--------+-------------------+-------------+-----------+----------+\n",
            "only showing top 3 rows\n",
            "\n"
          ]
        }
      ]
    },
    {
      "cell_type": "code",
      "source": [
        "evaluator=MulticlassClassificationEvaluator(predictionCol=\"prediction\",labelCol='is_dead_')\n",
        "acc = evaluator.evaluate(pred)"
      ],
      "metadata": {
        "id": "q5_xeYDbP-Pq"
      },
      "execution_count": 194,
      "outputs": []
    },
    {
      "cell_type": "code",
      "source": [
        "print(\"Prediction Accuracy: \", acc)"
      ],
      "metadata": {
        "colab": {
          "base_uri": "https://localhost:8080/"
        },
        "id": "NLTExbePB0g3",
        "outputId": "ee525a48-df6f-4c3a-9a58-c47de95aaf47"
      },
      "execution_count": 196,
      "outputs": [
        {
          "output_type": "stream",
          "name": "stdout",
          "text": [
            "Prediction Accuracy:  1.0\n"
          ]
        }
      ]
    },
    {
      "cell_type": "code",
      "source": [
        "#Creating a Pipeline"
      ],
      "metadata": {
        "id": "mcQw5sD_U_aM"
      },
      "execution_count": 197,
      "outputs": []
    },
    {
      "cell_type": "code",
      "source": [
        "from pyspark.ml import Pipeline"
      ],
      "metadata": {
        "id": "7_2K9QnZVBgb"
      },
      "execution_count": 198,
      "outputs": []
    },
    {
      "cell_type": "code",
      "source": [
        "pipeline = Pipeline(stages=[vecAssembler,dtc])"
      ],
      "metadata": {
        "id": "1VTYUYmGVHYT"
      },
      "execution_count": 199,
      "outputs": []
    },
    {
      "cell_type": "code",
      "source": [
        "input_f"
      ],
      "metadata": {
        "colab": {
          "base_uri": "https://localhost:8080/"
        },
        "id": "CWtlUaqIC8LP",
        "outputId": "d6f637ec-7003-44e7-dcc9-7358626d0b33"
      },
      "execution_count": 205,
      "outputs": [
        {
          "output_type": "execute_result",
          "data": {
            "text/plain": [
              "['age_', 'no_days_', 'is_male_', 'is_dead_']"
            ]
          },
          "metadata": {},
          "execution_count": 205
        }
      ]
    },
    {
      "cell_type": "code",
      "source": [
        "df44 = df.withColumnRenamed(\"age\",\"age_\")"
      ],
      "metadata": {
        "id": "k62fTlwxElE1"
      },
      "execution_count": 213,
      "outputs": []
    },
    {
      "cell_type": "code",
      "source": [
        "pipelineModel = pipeline.fit(df44[[\"age\", \"no_days\",\"is_male\",\"is_dead\"]])"
      ],
      "metadata": {
        "id": "wsJUU35sWVku"
      },
      "execution_count": 206,
      "outputs": []
    },
    {
      "cell_type": "code",
      "source": [
        "dd=df44.select([\"age_\", \"no_days_\", \"is_dead_\", \"is_male_\"]).limit(20)"
      ],
      "metadata": {
        "id": "U8xnsTV2YtPV"
      },
      "execution_count": 216,
      "outputs": []
    },
    {
      "cell_type": "code",
      "source": [
        "predDF = pipelineModel.transform(dd)"
      ],
      "metadata": {
        "id": "SS0n9kaNV-CR"
      },
      "execution_count": 217,
      "outputs": []
    },
    {
      "cell_type": "code",
      "source": [
        "predDF.select([\"features\",'is_dead_','prediction']).show()"
      ],
      "metadata": {
        "colab": {
          "base_uri": "https://localhost:8080/"
        },
        "id": "bpq36vc0ZY_S",
        "outputId": "e77b2639-9f53-4b45-9c84-98bb93884574"
      },
      "execution_count": 218,
      "outputs": [
        {
          "output_type": "stream",
          "name": "stdout",
          "text": [
            "+-------------------+--------+----------+\n",
            "|           features|is_dead_|prediction|\n",
            "+-------------------+--------+----------+\n",
            "|[50.0,13.0,0.0,0.0]|       0|       0.0|\n",
            "|[30.0,32.0,0.0,0.0]|       0|       0.0|\n",
            "|[50.0,20.0,0.0,0.0]|       0|       0.0|\n",
            "|[20.0,16.0,0.0,0.0]|       0|       0.0|\n",
            "|[20.0,24.0,0.0,0.0]|       0|       0.0|\n",
            "|[50.0,19.0,0.0,0.0]|       0|       0.0|\n",
            "|[20.0,10.0,0.0,0.0]|       0|       0.0|\n",
            "|[20.0,22.0,0.0,0.0]|       0|       0.0|\n",
            "|[30.0,16.0,0.0,0.0]|       0|       0.0|\n",
            "|[60.0,24.0,0.0,0.0]|       0|       0.0|\n",
            "|[50.0,23.0,0.0,0.0]|       0|       0.0|\n",
            "|[20.0,20.0,0.0,0.0]|       0|       0.0|\n",
            "|[80.0,16.0,0.0,0.0]|       0|       0.0|\n",
            "|[60.0,25.0,0.0,0.0]|       0|       0.0|\n",
            "|[70.0,16.0,0.0,0.0]|       0|       0.0|\n",
            "|[70.0,21.0,0.0,0.0]|       0|       0.0|\n",
            "|[70.0,10.0,0.0,0.0]|       0|       0.0|\n",
            "|[20.0,16.0,0.0,0.0]|       0|       0.0|\n",
            "|[70.0,17.0,0.0,0.0]|       0|       0.0|\n",
            "|[70.0,16.0,0.0,0.0]|       0|       0.0|\n",
            "+-------------------+--------+----------+\n",
            "\n"
          ]
        }
      ]
    }
  ]
}